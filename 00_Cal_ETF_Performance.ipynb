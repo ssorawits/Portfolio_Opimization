{
 "cells": [
  {
   "cell_type": "code",
   "execution_count": 1,
   "id": "d291cc99",
   "metadata": {},
   "outputs": [
    {
     "name": "stdout",
     "output_type": "stream",
     "text": [
      "\n",
      "Devices:  [PhysicalDevice(name='/physical_device:CPU:0', device_type='CPU'), PhysicalDevice(name='/physical_device:GPU:0', device_type='GPU')]\n",
      "GPU details:  {'device_name': 'METAL'}\n"
     ]
    }
   ],
   "source": [
    "import os\n",
    "import math\n",
    "import random \n",
    "import pandas as pd\n",
    "import numpy as np\n",
    "import matplotlib.pyplot as plt\n",
    "import seaborn as sns\n",
    "import plotly.graph_objects as go\n",
    "from plotly.subplots import make_subplots\n",
    "import plotly.express as px\n",
    "from Util_def import *\n",
    "from Util_model import *\n",
    "\n",
    "import warnings\n",
    "warnings.filterwarnings('ignore')"
   ]
  },
  {
   "cell_type": "code",
   "execution_count": 4,
   "id": "a60f027d",
   "metadata": {},
   "outputs": [
    {
     "data": {
      "text/html": [
       "<div>\n",
       "<style scoped>\n",
       "    .dataframe tbody tr th:only-of-type {\n",
       "        vertical-align: middle;\n",
       "    }\n",
       "\n",
       "    .dataframe tbody tr th {\n",
       "        vertical-align: top;\n",
       "    }\n",
       "\n",
       "    .dataframe thead th {\n",
       "        text-align: right;\n",
       "    }\n",
       "</style>\n",
       "<table border=\"1\" class=\"dataframe\">\n",
       "  <thead>\n",
       "    <tr style=\"text-align: right;\">\n",
       "      <th></th>\n",
       "      <th>SHV</th>\n",
       "      <th>BND</th>\n",
       "      <th>BNDX</th>\n",
       "      <th>JNK</th>\n",
       "      <th>VT</th>\n",
       "      <th>VEA</th>\n",
       "      <th>IEMG</th>\n",
       "      <th>VOO</th>\n",
       "      <th>QQQ</th>\n",
       "      <th>DIA</th>\n",
       "      <th>...</th>\n",
       "      <th>IXP</th>\n",
       "      <th>JXI</th>\n",
       "      <th>ITA</th>\n",
       "      <th>ICLN</th>\n",
       "      <th>SKYY</th>\n",
       "      <th>SMH</th>\n",
       "      <th>REET</th>\n",
       "      <th>IGF</th>\n",
       "      <th>PDBC</th>\n",
       "      <th>GLD</th>\n",
       "    </tr>\n",
       "    <tr>\n",
       "      <th>Date</th>\n",
       "      <th></th>\n",
       "      <th></th>\n",
       "      <th></th>\n",
       "      <th></th>\n",
       "      <th></th>\n",
       "      <th></th>\n",
       "      <th></th>\n",
       "      <th></th>\n",
       "      <th></th>\n",
       "      <th></th>\n",
       "      <th></th>\n",
       "      <th></th>\n",
       "      <th></th>\n",
       "      <th></th>\n",
       "      <th></th>\n",
       "      <th></th>\n",
       "      <th></th>\n",
       "      <th></th>\n",
       "      <th></th>\n",
       "      <th></th>\n",
       "      <th></th>\n",
       "    </tr>\n",
       "  </thead>\n",
       "  <tbody>\n",
       "    <tr>\n",
       "      <th>2015-01-02</th>\n",
       "      <td>91.58</td>\n",
       "      <td>61.78</td>\n",
       "      <td>40.36</td>\n",
       "      <td>63.18</td>\n",
       "      <td>47.90</td>\n",
       "      <td>27.78</td>\n",
       "      <td>35.28</td>\n",
       "      <td>157.09</td>\n",
       "      <td>95.12</td>\n",
       "      <td>144.23</td>\n",
       "      <td>...</td>\n",
       "      <td>46.93</td>\n",
       "      <td>34.58</td>\n",
       "      <td>51.26</td>\n",
       "      <td>8.04</td>\n",
       "      <td>27.44</td>\n",
       "      <td>24.37</td>\n",
       "      <td>17.58</td>\n",
       "      <td>30.86</td>\n",
       "      <td>9.80</td>\n",
       "      <td>114.08</td>\n",
       "    </tr>\n",
       "    <tr>\n",
       "      <th>2015-01-05</th>\n",
       "      <td>91.58</td>\n",
       "      <td>61.96</td>\n",
       "      <td>40.34</td>\n",
       "      <td>62.74</td>\n",
       "      <td>46.98</td>\n",
       "      <td>27.16</td>\n",
       "      <td>34.75</td>\n",
       "      <td>154.33</td>\n",
       "      <td>93.73</td>\n",
       "      <td>141.72</td>\n",
       "      <td>...</td>\n",
       "      <td>46.02</td>\n",
       "      <td>33.78</td>\n",
       "      <td>50.50</td>\n",
       "      <td>7.87</td>\n",
       "      <td>26.94</td>\n",
       "      <td>23.93</td>\n",
       "      <td>17.66</td>\n",
       "      <td>30.17</td>\n",
       "      <td>9.68</td>\n",
       "      <td>115.80</td>\n",
       "    </tr>\n",
       "    <tr>\n",
       "      <th>2015-01-06</th>\n",
       "      <td>91.58</td>\n",
       "      <td>62.14</td>\n",
       "      <td>40.43</td>\n",
       "      <td>62.45</td>\n",
       "      <td>46.51</td>\n",
       "      <td>26.86</td>\n",
       "      <td>34.56</td>\n",
       "      <td>152.81</td>\n",
       "      <td>92.47</td>\n",
       "      <td>140.55</td>\n",
       "      <td>...</td>\n",
       "      <td>45.85</td>\n",
       "      <td>33.66</td>\n",
       "      <td>50.17</td>\n",
       "      <td>7.85</td>\n",
       "      <td>26.49</td>\n",
       "      <td>23.37</td>\n",
       "      <td>17.77</td>\n",
       "      <td>29.95</td>\n",
       "      <td>9.56</td>\n",
       "      <td>117.12</td>\n",
       "    </tr>\n",
       "    <tr>\n",
       "      <th>2015-01-07</th>\n",
       "      <td>91.58</td>\n",
       "      <td>62.18</td>\n",
       "      <td>40.40</td>\n",
       "      <td>62.79</td>\n",
       "      <td>47.11</td>\n",
       "      <td>27.14</td>\n",
       "      <td>35.28</td>\n",
       "      <td>154.72</td>\n",
       "      <td>93.66</td>\n",
       "      <td>142.33</td>\n",
       "      <td>...</td>\n",
       "      <td>46.36</td>\n",
       "      <td>33.90</td>\n",
       "      <td>50.62</td>\n",
       "      <td>7.92</td>\n",
       "      <td>26.62</td>\n",
       "      <td>23.68</td>\n",
       "      <td>18.04</td>\n",
       "      <td>30.21</td>\n",
       "      <td>9.51</td>\n",
       "      <td>116.43</td>\n",
       "    </tr>\n",
       "    <tr>\n",
       "      <th>2015-01-08</th>\n",
       "      <td>91.58</td>\n",
       "      <td>62.08</td>\n",
       "      <td>40.39</td>\n",
       "      <td>63.21</td>\n",
       "      <td>47.82</td>\n",
       "      <td>27.56</td>\n",
       "      <td>35.90</td>\n",
       "      <td>157.44</td>\n",
       "      <td>95.46</td>\n",
       "      <td>144.90</td>\n",
       "      <td>...</td>\n",
       "      <td>47.12</td>\n",
       "      <td>34.16</td>\n",
       "      <td>51.61</td>\n",
       "      <td>8.11</td>\n",
       "      <td>26.99</td>\n",
       "      <td>24.27</td>\n",
       "      <td>18.15</td>\n",
       "      <td>30.54</td>\n",
       "      <td>9.52</td>\n",
       "      <td>115.94</td>\n",
       "    </tr>\n",
       "  </tbody>\n",
       "</table>\n",
       "<p>5 rows × 33 columns</p>\n",
       "</div>"
      ],
      "text/plain": [
       "              SHV    BND   BNDX    JNK     VT    VEA   IEMG     VOO    QQQ  \\\n",
       "Date                                                                         \n",
       "2015-01-02  91.58  61.78  40.36  63.18  47.90  27.78  35.28  157.09  95.12   \n",
       "2015-01-05  91.58  61.96  40.34  62.74  46.98  27.16  34.75  154.33  93.73   \n",
       "2015-01-06  91.58  62.14  40.43  62.45  46.51  26.86  34.56  152.81  92.47   \n",
       "2015-01-07  91.58  62.18  40.40  62.79  47.11  27.14  35.28  154.72  93.66   \n",
       "2015-01-08  91.58  62.08  40.39  63.21  47.82  27.56  35.90  157.44  95.46   \n",
       "\n",
       "               DIA  ...    IXP    JXI    ITA  ICLN   SKYY    SMH   REET  \\\n",
       "Date                ...                                                   \n",
       "2015-01-02  144.23  ...  46.93  34.58  51.26  8.04  27.44  24.37  17.58   \n",
       "2015-01-05  141.72  ...  46.02  33.78  50.50  7.87  26.94  23.93  17.66   \n",
       "2015-01-06  140.55  ...  45.85  33.66  50.17  7.85  26.49  23.37  17.77   \n",
       "2015-01-07  142.33  ...  46.36  33.90  50.62  7.92  26.62  23.68  18.04   \n",
       "2015-01-08  144.90  ...  47.12  34.16  51.61  8.11  26.99  24.27  18.15   \n",
       "\n",
       "              IGF  PDBC     GLD  \n",
       "Date                             \n",
       "2015-01-02  30.86  9.80  114.08  \n",
       "2015-01-05  30.17  9.68  115.80  \n",
       "2015-01-06  29.95  9.56  117.12  \n",
       "2015-01-07  30.21  9.51  116.43  \n",
       "2015-01-08  30.54  9.52  115.94  \n",
       "\n",
       "[5 rows x 33 columns]"
      ]
     },
     "execution_count": 4,
     "metadata": {},
     "output_type": "execute_result"
    }
   ],
   "source": [
    "# 5 years data\n",
    "startDate = dt.datetime(2015, 1, 1)\n",
    "endDate = dt.datetime(2024, 12, 31)\n",
    "start_rebalance_year = 2020\n",
    "\n",
    "fund = 'ETF'\n",
    "results_excel_path = f\"data_analysis/Fund_performance/Results_fund/01_{fund}_performance.xlsx\"\n",
    "\n",
    "# ===== ETF Price =====\n",
    "data = pd.read_csv('33_ETF_data.csv', index_col='Date', parse_dates=True)\n",
    "data.head()"
   ]
  },
  {
   "cell_type": "code",
   "execution_count": null,
   "id": "6265b21e",
   "metadata": {},
   "outputs": [],
   "source": []
  },
  {
   "cell_type": "markdown",
   "id": "7dffe1d6",
   "metadata": {},
   "source": [
    "# 1. MIXAGG"
   ]
  },
  {
   "cell_type": "code",
   "execution_count": 5,
   "id": "d37a667a",
   "metadata": {},
   "outputs": [
    {
     "name": "stdout",
     "output_type": "stream",
     "text": [
      "Rebalance Dates: ['2020-01-02', '2020-04-01', '2020-07-01', '2020-10-01', '2021-01-04', '2021-04-01', '2021-07-01', '2021-10-01', '2022-01-03', '2022-04-01', '2022-07-01', '2022-10-03', '2023-01-03', '2023-04-03', '2023-07-03', '2023-10-02', '2024-01-02', '2024-04-01', '2024-07-01', '2024-10-01']\n"
     ]
    }
   ],
   "source": [
    "df = data.copy()\n",
    "\n",
    "df = df.loc['2019-12-30':'2024-12-31']\n",
    "rebalance_dates =  get_rebalance_dates(df, start_year=start_rebalance_year)\n",
    "start_date = rebalance_dates[0]  # First rebalance date"
   ]
  },
  {
   "cell_type": "markdown",
   "id": "8f22d8d6",
   "metadata": {},
   "source": [
    "DS"
   ]
  },
  {
   "cell_type": "code",
   "execution_count": 6,
   "id": "20dafc58",
   "metadata": {},
   "outputs": [],
   "source": [
    "df_all_period, df_yearly, df_quarterly = fund_performance_analysis(df)"
   ]
  },
  {
   "cell_type": "code",
   "execution_count": 9,
   "id": "8b31cb97",
   "metadata": {},
   "outputs": [
    {
     "name": "stdout",
     "output_type": "stream",
     "text": [
      "DataFrame saved to sheet 'All_Period' in new file: data_analysis/Fund_performance/Results_fund/01_ETF_performance.xlsx ✨\n",
      "DataFrame saved to sheet 'Yearly' in existing file: data_analysis/Fund_performance/Results_fund/01_ETF_performance.xlsx 📄\n",
      "DataFrame saved to sheet 'Quarterly' in existing file: data_analysis/Fund_performance/Results_fund/01_ETF_performance.xlsx 📄\n"
     ]
    }
   ],
   "source": [
    "save_dataframe_to_new_sheet(df_all_period, results_excel_path, 'All_Period')\n",
    "save_dataframe_to_new_sheet(df_yearly, results_excel_path, 'Yearly')\n",
    "save_dataframe_to_new_sheet(df_quarterly, results_excel_path, 'Quarterly')"
   ]
  },
  {
   "cell_type": "code",
   "execution_count": 10,
   "id": "c746c5b1",
   "metadata": {},
   "outputs": [],
   "source": [
    "peer_all = calculate_peer_percentiles(df_all_period)\n",
    "peer_yearly = calculate_peer_percentiles(df_yearly, groupby='Year')\n",
    "peer_quarterly = calculate_peer_percentiles(df_quarterly, groupby='Quarter')"
   ]
  },
  {
   "cell_type": "code",
   "execution_count": 11,
   "id": "fed68311",
   "metadata": {},
   "outputs": [
    {
     "name": "stdout",
     "output_type": "stream",
     "text": [
      "DataFrame saved to sheet 'Peer_All_Period' in existing file: data_analysis/Fund_performance/Results_fund/01_ETF_performance.xlsx 📄\n",
      "DataFrame saved to sheet 'Peer_Yearly' in existing file: data_analysis/Fund_performance/Results_fund/01_ETF_performance.xlsx 📄\n",
      "DataFrame saved to sheet 'Peer_Quarterly' in existing file: data_analysis/Fund_performance/Results_fund/01_ETF_performance.xlsx 📄\n"
     ]
    }
   ],
   "source": [
    "save_dataframe_to_new_sheet(peer_all, results_excel_path, 'Peer_All_Period')\n",
    "save_dataframe_to_new_sheet(peer_yearly, results_excel_path, 'Peer_Yearly')\n",
    "save_dataframe_to_new_sheet(peer_quarterly, results_excel_path, 'Peer_Quarterly')"
   ]
  }
 ],
 "metadata": {
  "kernelspec": {
   "display_name": "py311",
   "language": "python",
   "name": "python3"
  },
  "language_info": {
   "codemirror_mode": {
    "name": "ipython",
    "version": 3
   },
   "file_extension": ".py",
   "mimetype": "text/x-python",
   "name": "python",
   "nbconvert_exporter": "python",
   "pygments_lexer": "ipython3",
   "version": "3.11.11"
  }
 },
 "nbformat": 4,
 "nbformat_minor": 5
}
