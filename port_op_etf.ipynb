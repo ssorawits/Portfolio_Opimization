{
 "cells": [
  {
   "cell_type": "code",
   "execution_count": 1,
   "metadata": {},
   "outputs": [
    {
     "name": "stderr",
     "output_type": "stream",
     "text": [
      "C:\\Users\\ssora\\AppData\\Local\\Temp\\ipykernel_10512\\166870695.py:17: MatplotlibDeprecationWarning: The seaborn styles shipped by Matplotlib are deprecated since 3.6, as they no longer correspond to the styles shipped by seaborn. However, they will remain available as 'seaborn-v0_8-<style>'. Alternatively, directly use the seaborn API instead.\n",
      "  plt.style.use('seaborn')\n"
     ]
    }
   ],
   "source": [
    "import pandas as pd\n",
    "import numpy as np\n",
    "import datetime as dt\n",
    "from pandas_datareader import data as pdr\n",
    "import yfinance as yf\n",
    "# import scipy.optimize as sco\n",
    "import plotly.graph_objects as go\n",
    "import plotly.express as px\n",
    "from pypfopt.discrete_allocation import DiscreteAllocation, get_latest_prices\n",
    "from pypfopt import EfficientFrontier\n",
    "from pypfopt import risk_models\n",
    "from pypfopt import expected_returns\n",
    "from pypfopt import plotting\n",
    "import matplotlib.pyplot as plt\n",
    "import matplotlib.style as style\n",
    "%matplotlib inline\n",
    "plt.style.use('seaborn') \n",
    "yf.pdr_override()\n",
    "\n",
    "import warnings\n",
    "warnings.filterwarnings('ignore')\n"
   ]
  },
  {
   "cell_type": "code",
   "execution_count": 2,
   "metadata": {},
   "outputs": [],
   "source": [
    "# Import data function\n",
    "def getData(stocks, start, end):\n",
    "    stockData = pdr.get_data_yahoo(stocks, start=start, end=end)\n",
    "    stockData = stockData['Close']\n",
    "    stockData = stockData.round(2)\n",
    "    stockData.dropna(inplace=True)\n",
    "    stockData.reset_index(inplace=True)\n",
    "    stockData.set_index(\"Date\", inplace=True)\n",
    "\n",
    "    return stockData"
   ]
  },
  {
   "cell_type": "code",
   "execution_count": 3,
   "metadata": {},
   "outputs": [
    {
     "name": "stdout",
     "output_type": "stream",
     "text": [
      "[*********************100%***********************]  16 of 16 completed\n"
     ]
    },
    {
     "data": {
      "text/html": [
       "<div>\n",
       "<style scoped>\n",
       "    .dataframe tbody tr th:only-of-type {\n",
       "        vertical-align: middle;\n",
       "    }\n",
       "\n",
       "    .dataframe tbody tr th {\n",
       "        vertical-align: top;\n",
       "    }\n",
       "\n",
       "    .dataframe thead th {\n",
       "        text-align: right;\n",
       "    }\n",
       "</style>\n",
       "<table border=\"1\" class=\"dataframe\">\n",
       "  <thead>\n",
       "    <tr style=\"text-align: right;\">\n",
       "      <th></th>\n",
       "      <th>BND</th>\n",
       "      <th>BNDX</th>\n",
       "      <th>GLD</th>\n",
       "      <th>HEWJ</th>\n",
       "      <th>IEMG</th>\n",
       "      <th>IGF</th>\n",
       "      <th>IGM</th>\n",
       "      <th>IWQU.L</th>\n",
       "      <th>IXJ</th>\n",
       "      <th>JNK</th>\n",
       "      <th>JPST</th>\n",
       "      <th>PDBC</th>\n",
       "      <th>REET</th>\n",
       "      <th>VGK</th>\n",
       "      <th>VOO</th>\n",
       "      <th>VT</th>\n",
       "    </tr>\n",
       "    <tr>\n",
       "      <th>Date</th>\n",
       "      <th></th>\n",
       "      <th></th>\n",
       "      <th></th>\n",
       "      <th></th>\n",
       "      <th></th>\n",
       "      <th></th>\n",
       "      <th></th>\n",
       "      <th></th>\n",
       "      <th></th>\n",
       "      <th></th>\n",
       "      <th></th>\n",
       "      <th></th>\n",
       "      <th></th>\n",
       "      <th></th>\n",
       "      <th></th>\n",
       "      <th></th>\n",
       "    </tr>\n",
       "  </thead>\n",
       "  <tbody>\n",
       "    <tr>\n",
       "      <th>2018-01-02</th>\n",
       "      <td>81.34</td>\n",
       "      <td>54.25</td>\n",
       "      <td>125.15</td>\n",
       "      <td>33.42</td>\n",
       "      <td>58.00</td>\n",
       "      <td>45.48</td>\n",
       "      <td>171.10</td>\n",
       "      <td>34.14</td>\n",
       "      <td>56.87</td>\n",
       "      <td>110.28</td>\n",
       "      <td>50.05</td>\n",
       "      <td>17.55</td>\n",
       "      <td>26.05</td>\n",
       "      <td>59.54</td>\n",
       "      <td>247.09</td>\n",
       "      <td>74.91</td>\n",
       "    </tr>\n",
       "    <tr>\n",
       "      <th>2018-01-03</th>\n",
       "      <td>81.41</td>\n",
       "      <td>54.29</td>\n",
       "      <td>124.82</td>\n",
       "      <td>33.97</td>\n",
       "      <td>58.51</td>\n",
       "      <td>45.48</td>\n",
       "      <td>173.20</td>\n",
       "      <td>34.31</td>\n",
       "      <td>57.37</td>\n",
       "      <td>110.82</td>\n",
       "      <td>50.09</td>\n",
       "      <td>17.65</td>\n",
       "      <td>26.09</td>\n",
       "      <td>59.75</td>\n",
       "      <td>248.56</td>\n",
       "      <td>75.42</td>\n",
       "    </tr>\n",
       "    <tr>\n",
       "      <th>2018-01-04</th>\n",
       "      <td>81.37</td>\n",
       "      <td>54.30</td>\n",
       "      <td>125.46</td>\n",
       "      <td>34.46</td>\n",
       "      <td>58.75</td>\n",
       "      <td>45.79</td>\n",
       "      <td>174.08</td>\n",
       "      <td>34.55</td>\n",
       "      <td>57.44</td>\n",
       "      <td>110.97</td>\n",
       "      <td>50.06</td>\n",
       "      <td>17.66</td>\n",
       "      <td>25.73</td>\n",
       "      <td>60.45</td>\n",
       "      <td>249.65</td>\n",
       "      <td>75.87</td>\n",
       "    </tr>\n",
       "    <tr>\n",
       "      <th>2018-01-05</th>\n",
       "      <td>81.26</td>\n",
       "      <td>54.30</td>\n",
       "      <td>125.33</td>\n",
       "      <td>34.65</td>\n",
       "      <td>59.25</td>\n",
       "      <td>45.92</td>\n",
       "      <td>175.95</td>\n",
       "      <td>34.71</td>\n",
       "      <td>58.03</td>\n",
       "      <td>111.09</td>\n",
       "      <td>50.08</td>\n",
       "      <td>17.59</td>\n",
       "      <td>25.78</td>\n",
       "      <td>60.86</td>\n",
       "      <td>251.25</td>\n",
       "      <td>76.31</td>\n",
       "    </tr>\n",
       "    <tr>\n",
       "      <th>2018-01-08</th>\n",
       "      <td>81.27</td>\n",
       "      <td>54.31</td>\n",
       "      <td>125.31</td>\n",
       "      <td>34.86</td>\n",
       "      <td>59.29</td>\n",
       "      <td>45.87</td>\n",
       "      <td>177.09</td>\n",
       "      <td>34.79</td>\n",
       "      <td>57.80</td>\n",
       "      <td>110.97</td>\n",
       "      <td>50.09</td>\n",
       "      <td>17.58</td>\n",
       "      <td>25.82</td>\n",
       "      <td>60.69</td>\n",
       "      <td>251.77</td>\n",
       "      <td>76.39</td>\n",
       "    </tr>\n",
       "  </tbody>\n",
       "</table>\n",
       "</div>"
      ],
      "text/plain": [
       "              BND   BNDX     GLD   HEWJ   IEMG    IGF     IGM  IWQU.L    IXJ  \\\n",
       "Date                                                                           \n",
       "2018-01-02  81.34  54.25  125.15  33.42  58.00  45.48  171.10   34.14  56.87   \n",
       "2018-01-03  81.41  54.29  124.82  33.97  58.51  45.48  173.20   34.31  57.37   \n",
       "2018-01-04  81.37  54.30  125.46  34.46  58.75  45.79  174.08   34.55  57.44   \n",
       "2018-01-05  81.26  54.30  125.33  34.65  59.25  45.92  175.95   34.71  58.03   \n",
       "2018-01-08  81.27  54.31  125.31  34.86  59.29  45.87  177.09   34.79  57.80   \n",
       "\n",
       "               JNK   JPST   PDBC   REET    VGK     VOO     VT  \n",
       "Date                                                           \n",
       "2018-01-02  110.28  50.05  17.55  26.05  59.54  247.09  74.91  \n",
       "2018-01-03  110.82  50.09  17.65  26.09  59.75  248.56  75.42  \n",
       "2018-01-04  110.97  50.06  17.66  25.73  60.45  249.65  75.87  \n",
       "2018-01-05  111.09  50.08  17.59  25.78  60.86  251.25  76.31  \n",
       "2018-01-08  110.97  50.09  17.58  25.82  60.69  251.77  76.39  "
      ]
     },
     "execution_count": 3,
     "metadata": {},
     "output_type": "execute_result"
    }
   ],
   "source": [
    "ETF_list = [\n",
    "    'JPST',\n",
    "    'BND', 'BNDX', 'JNK',\n",
    "    'VT', 'VOO', 'VGK', 'IEMG', 'HEWJ',\n",
    "    'IGM', 'IXJ', 'IWQU.L',\n",
    "    'REET', 'IGF', 'PDBC', 'GLD'\n",
    "]\n",
    "\n",
    "ETF_map = {\n",
    "    'JPST': 'JPMorgan Ultra-Short Income ETF',\n",
    "    'BND': 'Vanguard Total Bond Market ETF',\n",
    "    'BNDX': 'Vanguard Total International Bond ETF',\n",
    "    'JNK': 'SPDR Bloomberg Barclays High Yield Bond ETF',\n",
    "    'VT': 'Vanguard Total World Stock ETF',\n",
    "    'VOO': 'Vanguard S&P 500 ETF',\n",
    "    'VGK': 'Vanguard FTSE Europe ETF',\n",
    "    'IEMG': 'iShares Core MSCI Emerging Markets ETF',\n",
    "    'HEWJ': 'iShares Currency Hedged MSCI Japan ETF',\n",
    "    'IGM': 'iShares Expanded Tech Sector ETF',\n",
    "    'IXJ': 'iShares Global Healthcare ETF',\n",
    "    'IWQU.L': 'iShares Edge MSCI World Quality Factor UCITS ETF',\n",
    "    'REET': 'iShares Global REIT ETF',\n",
    "    'IGF': 'iShares Global Infrastructure ETF',\n",
    "    'PDBC': 'Invesco Optimum Yield Diversified Commodity Strategy No K-1 ETF',\n",
    "    'GLD': 'SPDR Gold Shares'\n",
    "    }\n",
    "\n",
    "\n",
    "# 5 years data\n",
    "startDate = dt.datetime(2018, 1, 1)\n",
    "endDate = dt.datetime(2022, 12, 31)\n",
    "\n",
    "df_getData = getData(ETF_list, startDate, endDate)\n",
    "df_getData.head()"
   ]
  },
  {
   "cell_type": "code",
   "execution_count": 4,
   "metadata": {},
   "outputs": [
    {
     "name": "stdout",
     "output_type": "stream",
     "text": [
      "<class 'pandas.core.frame.DataFrame'>\n",
      "DatetimeIndex: 1234 entries, 2018-01-02 to 2022-12-30\n",
      "Data columns (total 16 columns):\n",
      " #   Column  Non-Null Count  Dtype  \n",
      "---  ------  --------------  -----  \n",
      " 0   BND     1234 non-null   float64\n",
      " 1   BNDX    1234 non-null   float64\n",
      " 2   GLD     1234 non-null   float64\n",
      " 3   HEWJ    1234 non-null   float64\n",
      " 4   IEMG    1234 non-null   float64\n",
      " 5   IGF     1234 non-null   float64\n",
      " 6   IGM     1234 non-null   float64\n",
      " 7   IWQU.L  1234 non-null   float64\n",
      " 8   IXJ     1234 non-null   float64\n",
      " 9   JNK     1234 non-null   float64\n",
      " 10  JPST    1234 non-null   float64\n",
      " 11  PDBC    1234 non-null   float64\n",
      " 12  REET    1234 non-null   float64\n",
      " 13  VGK     1234 non-null   float64\n",
      " 14  VOO     1234 non-null   float64\n",
      " 15  VT      1234 non-null   float64\n",
      "dtypes: float64(16)\n",
      "memory usage: 163.9 KB\n"
     ]
    }
   ],
   "source": [
    "df_getData.info()"
   ]
  },
  {
   "attachments": {},
   "cell_type": "markdown",
   "metadata": {},
   "source": [
    "# Long Position Only"
   ]
  },
  {
   "cell_type": "code",
   "execution_count": 5,
   "metadata": {},
   "outputs": [],
   "source": [
    "# risk free rate\n",
    "risk_free = 0.02\n",
    "\n",
    "###### portfolio type ######\n",
    "long_only = tuple([0,1])\n",
    "long_short = tuple([-1,1])\n",
    "\n",
    "port_type = long_only # edit here\n",
    "\n",
    "\n",
    "###### Adding Constrains ######\n",
    "\n",
    "# Asset Mapping\n",
    "asset_map = {\n",
    "    'VT': 'Equity',\n",
    "    'VOO': 'Equity',\n",
    "    'VGK': 'Equity',\n",
    "    'IEMG': 'Equity',\n",
    "    'HEWJ': 'Equity',\n",
    "    'IGM': 'Equity',\n",
    "    'IXJ': 'Equity',\n",
    "    'IWQU.L': 'Equity',\n",
    "    'BND': 'Fixed Income',\n",
    "    'BNDX': 'Fixed Income',\n",
    "    'JNK': 'Fixed Income',\n",
    "    'REET': 'Alternatives',\n",
    "    'IGF': 'Alternatives',\n",
    "    'PDBC': 'Alternatives',\n",
    "    'GLD': 'Alternatives',\n",
    "    'JPST': 'Cash/Equivalent'\n",
    "}\n",
    "\n",
    "### Fixed Income Portfolio ###\n",
    "asset_lower_fixed = {\n",
    "    'Cash/Equivalent': 0.0,\n",
    "    'Fixed Income': 0.4,\n",
    "    'Equity': 0.0,\n",
    "    'Alternatives': 0.0}\n",
    "asset_upper_fixed = {\n",
    "    'Cash/Equivalent': 0.5,\n",
    "    'Fixed Income': 1,\n",
    "    'Equity': 0.0,\n",
    "    'Alternatives': 0.0}\n",
    "\n",
    "### Moderate Portfolio ###\n",
    "asset_lower_moderate = {\n",
    "    'Cash/Equivalent': 0.0,\n",
    "    'Fixed Income': 0.25,\n",
    "    'Equity': 0.1,\n",
    "    'Alternatives': 0.0}\n",
    "asset_upper_moderate = {\n",
    "    'Cash/Equivalent': 0.5,\n",
    "    'Fixed Income': 0.8,\n",
    "    'Equity': 0.3,\n",
    "    'Alternatives': 0.2}\n",
    "\n",
    "### Balanced Portfolio ###\n",
    "asset_lower_balanced = {\n",
    "    'Cash/Equivalent': 0.0,\n",
    "    'Fixed Income': 0.05,\n",
    "    'Equity': 0.3,\n",
    "    'Alternatives': 0.0}\n",
    "asset_upper_balanced = {\n",
    "    'Cash/Equivalent': 0.5,\n",
    "    'Fixed Income': 0.6,\n",
    "    'Equity': 0.6,\n",
    "    'Alternatives': 0.3}\n",
    "\n",
    "### Aggressive Portfolio ###\n",
    "asset_lower_aggressive = {\n",
    "    'Cash/Equivalent': 0.0,\n",
    "    'Fixed Income': 0.0,\n",
    "    'Equity': 0.55,\n",
    "    'Alternatives': 0.0}\n",
    "asset_upper_aggressive = {\n",
    "    'Cash/Equivalent': 0.4,\n",
    "    'Fixed Income': 0.3,\n",
    "    'Equity': 0.9,\n",
    "    'Alternatives': 0.3}\n",
    "\n",
    "### Equity Portfolio ###\n",
    "asset_lower_equity = {\n",
    "    'Cash/Equivalent': 0.0,\n",
    "    'Fixed Income': 0.0,\n",
    "    'Equity': 0.7,\n",
    "    'Alternatives': 0.0}\n",
    "asset_upper_equity = {\n",
    "    'Cash/Equivalent': 0.3,\n",
    "    'Fixed Income': 0.0,\n",
    "    'Equity': 1,\n",
    "    'Alternatives': 0.0}"
   ]
  },
  {
   "attachments": {},
   "cell_type": "markdown",
   "metadata": {},
   "source": [
    "# create new dataframe for each portfolio"
   ]
  },
  {
   "cell_type": "code",
   "execution_count": 6,
   "metadata": {},
   "outputs": [],
   "source": [
    "# filter asset class based on portfolio type \n",
    "df = df_getData.copy()\n",
    "\n",
    "# filter column based on asset_map (Cash/Equivalent, Fixed Income, Equity, Alternatives)\n",
    "df_cash = df[df.columns[df.columns.isin([k for k,v in asset_map.items() if v == 'Cash/Equivalent'])]]\n",
    "df_fixed = df[df.columns[df.columns.isin([k for k,v in asset_map.items() if v == 'Fixed Income'])]]\n",
    "df_equity = df[df.columns[df.columns.isin([k for k,v in asset_map.items() if v == 'Equity'])]]\n",
    "df_alternatives = df[df.columns[df.columns.isin([k for k,v in asset_map.items() if v == 'Alternatives'])]]"
   ]
  },
  {
   "cell_type": "code",
   "execution_count": 7,
   "metadata": {},
   "outputs": [],
   "source": [
    "### Fixed Income Portfolio ###\n",
    "df_cash_fixed = pd.concat([df_cash, df_fixed], axis=1)\n",
    "\n",
    "### Moderate/Balanced/Aggressive Portfolio ###\n",
    "df_mba = df_getData.copy()\n",
    "\n",
    "### Equity Portfolio ###\n",
    "df_equity = pd.concat([df_equity, df_cash], axis=1)"
   ]
  },
  {
   "attachments": {},
   "cell_type": "markdown",
   "metadata": {},
   "source": [
    "# 1. Fixed Income Portfolio"
   ]
  },
  {
   "cell_type": "code",
   "execution_count": 8,
   "metadata": {},
   "outputs": [
    {
     "name": "stdout",
     "output_type": "stream",
     "text": [
      "Expected annual return: -1.3%\n",
      "Annual volatility: 2.6%\n",
      "Sharpe Ratio: -1.30\n"
     ]
    },
    {
     "data": {
      "text/html": [
       "<div>\n",
       "<style scoped>\n",
       "    .dataframe tbody tr th:only-of-type {\n",
       "        vertical-align: middle;\n",
       "    }\n",
       "\n",
       "    .dataframe tbody tr th {\n",
       "        vertical-align: top;\n",
       "    }\n",
       "\n",
       "    .dataframe thead th {\n",
       "        text-align: right;\n",
       "    }\n",
       "</style>\n",
       "<table border=\"1\" class=\"dataframe\">\n",
       "  <thead>\n",
       "    <tr style=\"text-align: right;\">\n",
       "      <th></th>\n",
       "      <th>FI_Weight</th>\n",
       "    </tr>\n",
       "  </thead>\n",
       "  <tbody>\n",
       "    <tr>\n",
       "      <th>JPST</th>\n",
       "      <td>50.00</td>\n",
       "    </tr>\n",
       "    <tr>\n",
       "      <th>BND</th>\n",
       "      <td>2.63</td>\n",
       "    </tr>\n",
       "    <tr>\n",
       "      <th>BNDX</th>\n",
       "      <td>46.09</td>\n",
       "    </tr>\n",
       "    <tr>\n",
       "      <th>JNK</th>\n",
       "      <td>1.28</td>\n",
       "    </tr>\n",
       "  </tbody>\n",
       "</table>\n",
       "</div>"
      ],
      "text/plain": [
       "      FI_Weight\n",
       "JPST      50.00\n",
       "BND        2.63\n",
       "BNDX      46.09\n",
       "JNK        1.28"
      ]
     },
     "metadata": {},
     "output_type": "display_data"
    }
   ],
   "source": [
    "# Calculate expected returns and sample covariance\n",
    "df = df_cash_fixed.copy()\n",
    "expected_returns1 = expected_returns.mean_historical_return(df)\n",
    "cov_matrix1 = risk_models.sample_cov(df)\n",
    "\n",
    "ef_fixed = EfficientFrontier(expected_returns1, cov_matrix1, weight_bounds=port_type)\n",
    "ef_fixed.add_sector_constraints(asset_map, asset_lower_fixed, asset_upper_fixed)\n",
    "\n",
    "# find the minimum volatility portfolio\n",
    "weights_fixed = ef_fixed.min_volatility()\n",
    "cleaned_weights_fixed = ef_fixed.clean_weights()\n",
    "\n",
    "df_weights_fixed = pd.DataFrame.from_dict(cleaned_weights_fixed, orient='index', columns=['FI_Weight'])\n",
    "df_weights_fixed['FI_Weight'] = df_weights_fixed['FI_Weight'].apply(lambda x: round(x*100, 2))\n",
    "\n",
    "ef_fixed.portfolio_performance(verbose=True)\n",
    "display(df_weights_fixed)"
   ]
  },
  {
   "attachments": {},
   "cell_type": "markdown",
   "metadata": {},
   "source": [
    "# 2. Moderate Portfolio"
   ]
  },
  {
   "cell_type": "code",
   "execution_count": 9,
   "metadata": {},
   "outputs": [
    {
     "name": "stdout",
     "output_type": "stream",
     "text": [
      "Expected annual return: 3.0%\n",
      "Annual volatility: 9.4%\n",
      "Sharpe Ratio: 0.10\n"
     ]
    },
    {
     "data": {
      "text/html": [
       "<div>\n",
       "<style scoped>\n",
       "    .dataframe tbody tr th:only-of-type {\n",
       "        vertical-align: middle;\n",
       "    }\n",
       "\n",
       "    .dataframe tbody tr th {\n",
       "        vertical-align: top;\n",
       "    }\n",
       "\n",
       "    .dataframe thead th {\n",
       "        text-align: right;\n",
       "    }\n",
       "</style>\n",
       "<table border=\"1\" class=\"dataframe\">\n",
       "  <thead>\n",
       "    <tr style=\"text-align: right;\">\n",
       "      <th></th>\n",
       "      <th>Mod_Weight</th>\n",
       "    </tr>\n",
       "  </thead>\n",
       "  <tbody>\n",
       "    <tr>\n",
       "      <th>BND</th>\n",
       "      <td>23.0</td>\n",
       "    </tr>\n",
       "    <tr>\n",
       "      <th>BNDX</th>\n",
       "      <td>1.0</td>\n",
       "    </tr>\n",
       "    <tr>\n",
       "      <th>GLD</th>\n",
       "      <td>17.0</td>\n",
       "    </tr>\n",
       "    <tr>\n",
       "      <th>HEWJ</th>\n",
       "      <td>1.0</td>\n",
       "    </tr>\n",
       "    <tr>\n",
       "      <th>IEMG</th>\n",
       "      <td>1.0</td>\n",
       "    </tr>\n",
       "    <tr>\n",
       "      <th>IGF</th>\n",
       "      <td>1.0</td>\n",
       "    </tr>\n",
       "    <tr>\n",
       "      <th>IGM</th>\n",
       "      <td>23.0</td>\n",
       "    </tr>\n",
       "    <tr>\n",
       "      <th>IWQU.L</th>\n",
       "      <td>1.0</td>\n",
       "    </tr>\n",
       "    <tr>\n",
       "      <th>IXJ</th>\n",
       "      <td>1.0</td>\n",
       "    </tr>\n",
       "    <tr>\n",
       "      <th>JNK</th>\n",
       "      <td>1.0</td>\n",
       "    </tr>\n",
       "    <tr>\n",
       "      <th>JPST</th>\n",
       "      <td>25.0</td>\n",
       "    </tr>\n",
       "    <tr>\n",
       "      <th>PDBC</th>\n",
       "      <td>1.0</td>\n",
       "    </tr>\n",
       "    <tr>\n",
       "      <th>REET</th>\n",
       "      <td>1.0</td>\n",
       "    </tr>\n",
       "    <tr>\n",
       "      <th>VGK</th>\n",
       "      <td>1.0</td>\n",
       "    </tr>\n",
       "    <tr>\n",
       "      <th>VOO</th>\n",
       "      <td>1.0</td>\n",
       "    </tr>\n",
       "    <tr>\n",
       "      <th>VT</th>\n",
       "      <td>1.0</td>\n",
       "    </tr>\n",
       "  </tbody>\n",
       "</table>\n",
       "</div>"
      ],
      "text/plain": [
       "        Mod_Weight\n",
       "BND           23.0\n",
       "BNDX           1.0\n",
       "GLD           17.0\n",
       "HEWJ           1.0\n",
       "IEMG           1.0\n",
       "IGF            1.0\n",
       "IGM           23.0\n",
       "IWQU.L         1.0\n",
       "IXJ            1.0\n",
       "JNK            1.0\n",
       "JPST          25.0\n",
       "PDBC           1.0\n",
       "REET           1.0\n",
       "VGK            1.0\n",
       "VOO            1.0\n",
       "VT             1.0"
      ]
     },
     "metadata": {},
     "output_type": "display_data"
    }
   ],
   "source": [
    "# Calculate expected returns and sample covariance\n",
    "df = df_mba.copy()\n",
    "expected_returns2 = expected_returns.mean_historical_return(df)\n",
    "cov_matrix2 = risk_models.sample_cov(df)\n",
    "\n",
    "ef_moderate = EfficientFrontier(expected_returns2, cov_matrix2, weight_bounds=port_type)\n",
    "ef_moderate.add_sector_constraints(asset_map, asset_lower_moderate, asset_upper_moderate)\n",
    "ef_moderate.add_constraint(lambda x: x >= 0.01)\n",
    "\n",
    "# find the maximum Sharpe ratio portfolio\n",
    "weights_moderate = ef_moderate.max_sharpe(risk_free_rate=risk_free)\n",
    "cleaned_weights_moderate = ef_moderate.clean_weights()\n",
    "\n",
    "df_weights_moderate = pd.DataFrame.from_dict(cleaned_weights_moderate, orient='index', columns=['Mod_Weight'])\n",
    "df_weights_moderate['Mod_Weight'] = df_weights_moderate['Mod_Weight'].apply(lambda x: round(x*100, 2))\n",
    "\n",
    "ef_moderate.portfolio_performance(verbose=True)\n",
    "display(df_weights_moderate)"
   ]
  },
  {
   "attachments": {},
   "cell_type": "markdown",
   "metadata": {},
   "source": [
    "# 3. Balanced Portfolio"
   ]
  },
  {
   "cell_type": "code",
   "execution_count": 10,
   "metadata": {},
   "outputs": [
    {
     "name": "stdout",
     "output_type": "stream",
     "text": [
      "Expected annual return: 6.3%\n",
      "Annual volatility: 12.9%\n",
      "Sharpe Ratio: 0.33\n"
     ]
    },
    {
     "data": {
      "text/html": [
       "<div>\n",
       "<style scoped>\n",
       "    .dataframe tbody tr th:only-of-type {\n",
       "        vertical-align: middle;\n",
       "    }\n",
       "\n",
       "    .dataframe tbody tr th {\n",
       "        vertical-align: top;\n",
       "    }\n",
       "\n",
       "    .dataframe thead th {\n",
       "        text-align: right;\n",
       "    }\n",
       "</style>\n",
       "<table border=\"1\" class=\"dataframe\">\n",
       "  <thead>\n",
       "    <tr style=\"text-align: right;\">\n",
       "      <th></th>\n",
       "      <th>Bal_Weight</th>\n",
       "    </tr>\n",
       "  </thead>\n",
       "  <tbody>\n",
       "    <tr>\n",
       "      <th>BND</th>\n",
       "      <td>3.00</td>\n",
       "    </tr>\n",
       "    <tr>\n",
       "      <th>BNDX</th>\n",
       "      <td>1.00</td>\n",
       "    </tr>\n",
       "    <tr>\n",
       "      <th>GLD</th>\n",
       "      <td>27.00</td>\n",
       "    </tr>\n",
       "    <tr>\n",
       "      <th>HEWJ</th>\n",
       "      <td>1.00</td>\n",
       "    </tr>\n",
       "    <tr>\n",
       "      <th>IEMG</th>\n",
       "      <td>1.00</td>\n",
       "    </tr>\n",
       "    <tr>\n",
       "      <th>IGF</th>\n",
       "      <td>1.00</td>\n",
       "    </tr>\n",
       "    <tr>\n",
       "      <th>IGM</th>\n",
       "      <td>8.04</td>\n",
       "    </tr>\n",
       "    <tr>\n",
       "      <th>IWQU.L</th>\n",
       "      <td>4.70</td>\n",
       "    </tr>\n",
       "    <tr>\n",
       "      <th>IXJ</th>\n",
       "      <td>42.26</td>\n",
       "    </tr>\n",
       "    <tr>\n",
       "      <th>JNK</th>\n",
       "      <td>1.00</td>\n",
       "    </tr>\n",
       "    <tr>\n",
       "      <th>JPST</th>\n",
       "      <td>5.00</td>\n",
       "    </tr>\n",
       "    <tr>\n",
       "      <th>PDBC</th>\n",
       "      <td>1.00</td>\n",
       "    </tr>\n",
       "    <tr>\n",
       "      <th>REET</th>\n",
       "      <td>1.00</td>\n",
       "    </tr>\n",
       "    <tr>\n",
       "      <th>VGK</th>\n",
       "      <td>1.00</td>\n",
       "    </tr>\n",
       "    <tr>\n",
       "      <th>VOO</th>\n",
       "      <td>1.00</td>\n",
       "    </tr>\n",
       "    <tr>\n",
       "      <th>VT</th>\n",
       "      <td>1.00</td>\n",
       "    </tr>\n",
       "  </tbody>\n",
       "</table>\n",
       "</div>"
      ],
      "text/plain": [
       "        Bal_Weight\n",
       "BND           3.00\n",
       "BNDX          1.00\n",
       "GLD          27.00\n",
       "HEWJ          1.00\n",
       "IEMG          1.00\n",
       "IGF           1.00\n",
       "IGM           8.04\n",
       "IWQU.L        4.70\n",
       "IXJ          42.26\n",
       "JNK           1.00\n",
       "JPST          5.00\n",
       "PDBC          1.00\n",
       "REET          1.00\n",
       "VGK           1.00\n",
       "VOO           1.00\n",
       "VT            1.00"
      ]
     },
     "metadata": {},
     "output_type": "display_data"
    }
   ],
   "source": [
    "ef_balanced = EfficientFrontier(expected_returns2, cov_matrix2, weight_bounds=port_type)\n",
    "ef_balanced.add_sector_constraints(asset_map, asset_lower_balanced, asset_upper_balanced)\n",
    "ef_balanced.add_constraint(lambda x: x >= 0.01)\n",
    "\n",
    "# find the maximum sharpe ratio portfolio\n",
    "weights_balanced = ef_balanced.max_sharpe(risk_free_rate=risk_free)\n",
    "cleaned_weights_balanced = ef_balanced.clean_weights()\n",
    "\n",
    "df_weights_balanced = pd.DataFrame.from_dict(cleaned_weights_balanced, orient='index', columns=['Bal_Weight'])\n",
    "df_weights_balanced['Bal_Weight'] = df_weights_balanced['Bal_Weight'].apply(lambda x: round(x*100, 2))\n",
    "\n",
    "ef_balanced.portfolio_performance(verbose=True)\n",
    "display(df_weights_balanced)"
   ]
  },
  {
   "attachments": {},
   "cell_type": "markdown",
   "metadata": {},
   "source": [
    "# 4. Aggressive Portfolio"
   ]
  },
  {
   "cell_type": "code",
   "execution_count": 11,
   "metadata": {},
   "outputs": [
    {
     "name": "stdout",
     "output_type": "stream",
     "text": [
      "Expected annual return: 6.8%\n",
      "Annual volatility: 13.6%\n",
      "Sharpe Ratio: 0.35\n"
     ]
    },
    {
     "data": {
      "text/html": [
       "<div>\n",
       "<style scoped>\n",
       "    .dataframe tbody tr th:only-of-type {\n",
       "        vertical-align: middle;\n",
       "    }\n",
       "\n",
       "    .dataframe tbody tr th {\n",
       "        vertical-align: top;\n",
       "    }\n",
       "\n",
       "    .dataframe thead th {\n",
       "        text-align: right;\n",
       "    }\n",
       "</style>\n",
       "<table border=\"1\" class=\"dataframe\">\n",
       "  <thead>\n",
       "    <tr style=\"text-align: right;\">\n",
       "      <th></th>\n",
       "      <th>Agg_Weight</th>\n",
       "    </tr>\n",
       "  </thead>\n",
       "  <tbody>\n",
       "    <tr>\n",
       "      <th>BND</th>\n",
       "      <td>1.00</td>\n",
       "    </tr>\n",
       "    <tr>\n",
       "      <th>BNDX</th>\n",
       "      <td>1.00</td>\n",
       "    </tr>\n",
       "    <tr>\n",
       "      <th>GLD</th>\n",
       "      <td>27.00</td>\n",
       "    </tr>\n",
       "    <tr>\n",
       "      <th>HEWJ</th>\n",
       "      <td>1.00</td>\n",
       "    </tr>\n",
       "    <tr>\n",
       "      <th>IEMG</th>\n",
       "      <td>1.00</td>\n",
       "    </tr>\n",
       "    <tr>\n",
       "      <th>IGF</th>\n",
       "      <td>1.00</td>\n",
       "    </tr>\n",
       "    <tr>\n",
       "      <th>IGM</th>\n",
       "      <td>7.09</td>\n",
       "    </tr>\n",
       "    <tr>\n",
       "      <th>IWQU.L</th>\n",
       "      <td>7.31</td>\n",
       "    </tr>\n",
       "    <tr>\n",
       "      <th>IXJ</th>\n",
       "      <td>46.60</td>\n",
       "    </tr>\n",
       "    <tr>\n",
       "      <th>JNK</th>\n",
       "      <td>1.00</td>\n",
       "    </tr>\n",
       "    <tr>\n",
       "      <th>JPST</th>\n",
       "      <td>1.00</td>\n",
       "    </tr>\n",
       "    <tr>\n",
       "      <th>PDBC</th>\n",
       "      <td>1.00</td>\n",
       "    </tr>\n",
       "    <tr>\n",
       "      <th>REET</th>\n",
       "      <td>1.00</td>\n",
       "    </tr>\n",
       "    <tr>\n",
       "      <th>VGK</th>\n",
       "      <td>1.00</td>\n",
       "    </tr>\n",
       "    <tr>\n",
       "      <th>VOO</th>\n",
       "      <td>1.00</td>\n",
       "    </tr>\n",
       "    <tr>\n",
       "      <th>VT</th>\n",
       "      <td>1.00</td>\n",
       "    </tr>\n",
       "  </tbody>\n",
       "</table>\n",
       "</div>"
      ],
      "text/plain": [
       "        Agg_Weight\n",
       "BND           1.00\n",
       "BNDX          1.00\n",
       "GLD          27.00\n",
       "HEWJ          1.00\n",
       "IEMG          1.00\n",
       "IGF           1.00\n",
       "IGM           7.09\n",
       "IWQU.L        7.31\n",
       "IXJ          46.60\n",
       "JNK           1.00\n",
       "JPST          1.00\n",
       "PDBC          1.00\n",
       "REET          1.00\n",
       "VGK           1.00\n",
       "VOO           1.00\n",
       "VT            1.00"
      ]
     },
     "metadata": {},
     "output_type": "display_data"
    }
   ],
   "source": [
    "ef_agg = EfficientFrontier(expected_returns2, cov_matrix2, weight_bounds=port_type)\n",
    "ef_agg.add_sector_constraints(asset_map, asset_lower_aggressive, asset_upper_aggressive)\n",
    "ef_agg.add_constraint(lambda x: x >= 0.01)\n",
    "\n",
    "# find the maximum sharpe ratio portfolio\n",
    "weights_agg = ef_agg.max_sharpe(risk_free_rate=risk_free)\n",
    "cleaned_weights_agg = ef_agg.clean_weights()\n",
    "\n",
    "df_weights_agg = pd.DataFrame.from_dict(cleaned_weights_agg, orient='index', columns=['Agg_Weight'])\n",
    "df_weights_agg['Agg_Weight'] = df_weights_agg['Agg_Weight'].apply(lambda x: round(x*100, 2))\n",
    "\n",
    "ef_agg.portfolio_performance(verbose=True)\n",
    "display(df_weights_agg)"
   ]
  },
  {
   "attachments": {},
   "cell_type": "markdown",
   "metadata": {},
   "source": [
    "# 5. Equity Portfolio"
   ]
  },
  {
   "cell_type": "code",
   "execution_count": 12,
   "metadata": {},
   "outputs": [
    {
     "name": "stdout",
     "output_type": "stream",
     "text": [
      "Expected annual return: 8.1%\n",
      "Annual volatility: 18.0%\n",
      "Sharpe Ratio: 0.34\n"
     ]
    },
    {
     "data": {
      "text/html": [
       "<div>\n",
       "<style scoped>\n",
       "    .dataframe tbody tr th:only-of-type {\n",
       "        vertical-align: middle;\n",
       "    }\n",
       "\n",
       "    .dataframe tbody tr th {\n",
       "        vertical-align: top;\n",
       "    }\n",
       "\n",
       "    .dataframe thead th {\n",
       "        text-align: right;\n",
       "    }\n",
       "</style>\n",
       "<table border=\"1\" class=\"dataframe\">\n",
       "  <thead>\n",
       "    <tr style=\"text-align: right;\">\n",
       "      <th></th>\n",
       "      <th>Eq_Weight</th>\n",
       "    </tr>\n",
       "  </thead>\n",
       "  <tbody>\n",
       "    <tr>\n",
       "      <th>HEWJ</th>\n",
       "      <td>1.00</td>\n",
       "    </tr>\n",
       "    <tr>\n",
       "      <th>IEMG</th>\n",
       "      <td>1.00</td>\n",
       "    </tr>\n",
       "    <tr>\n",
       "      <th>IGM</th>\n",
       "      <td>12.28</td>\n",
       "    </tr>\n",
       "    <tr>\n",
       "      <th>IWQU.L</th>\n",
       "      <td>12.53</td>\n",
       "    </tr>\n",
       "    <tr>\n",
       "      <th>IXJ</th>\n",
       "      <td>69.19</td>\n",
       "    </tr>\n",
       "    <tr>\n",
       "      <th>VGK</th>\n",
       "      <td>1.00</td>\n",
       "    </tr>\n",
       "    <tr>\n",
       "      <th>VOO</th>\n",
       "      <td>1.00</td>\n",
       "    </tr>\n",
       "    <tr>\n",
       "      <th>VT</th>\n",
       "      <td>1.00</td>\n",
       "    </tr>\n",
       "    <tr>\n",
       "      <th>JPST</th>\n",
       "      <td>1.00</td>\n",
       "    </tr>\n",
       "  </tbody>\n",
       "</table>\n",
       "</div>"
      ],
      "text/plain": [
       "        Eq_Weight\n",
       "HEWJ         1.00\n",
       "IEMG         1.00\n",
       "IGM         12.28\n",
       "IWQU.L      12.53\n",
       "IXJ         69.19\n",
       "VGK          1.00\n",
       "VOO          1.00\n",
       "VT           1.00\n",
       "JPST         1.00"
      ]
     },
     "metadata": {},
     "output_type": "display_data"
    }
   ],
   "source": [
    "# Calculate expected returns and sample covariance\n",
    "df = df_equity.copy()\n",
    "expected_returns5 = expected_returns.mean_historical_return(df)\n",
    "cov_matrix5 = risk_models.sample_cov(df)\n",
    "\n",
    "ef_equity = EfficientFrontier(expected_returns5, cov_matrix5, weight_bounds=port_type)\n",
    "ef_equity.add_sector_constraints(asset_map, asset_lower_equity, asset_upper_equity)\n",
    "ef_equity.add_constraint(lambda x: x >= 0.01)\n",
    "\n",
    "# find the maximum sharpe ratio portfolio\n",
    "weights_equity = ef_equity.max_sharpe(risk_free_rate=risk_free)\n",
    "cleaned_weights_equity = ef_equity.clean_weights()\n",
    "\n",
    "df_weights_equity = pd.DataFrame.from_dict(cleaned_weights_equity, orient='index', columns=['Eq_Weight'])\n",
    "df_weights_equity['Eq_Weight'] = df_weights_equity['Eq_Weight'].apply(lambda x: round(x*100, 2))\n",
    "\n",
    "ef_equity.portfolio_performance(verbose=True)\n",
    "display(df_weights_equity)"
   ]
  },
  {
   "attachments": {},
   "cell_type": "markdown",
   "metadata": {},
   "source": [
    "# Summary"
   ]
  },
  {
   "cell_type": "code",
   "execution_count": 13,
   "metadata": {},
   "outputs": [
    {
     "data": {
      "text/html": [
       "<div>\n",
       "<style scoped>\n",
       "    .dataframe tbody tr th:only-of-type {\n",
       "        vertical-align: middle;\n",
       "    }\n",
       "\n",
       "    .dataframe tbody tr th {\n",
       "        vertical-align: top;\n",
       "    }\n",
       "\n",
       "    .dataframe thead th {\n",
       "        text-align: right;\n",
       "    }\n",
       "</style>\n",
       "<table border=\"1\" class=\"dataframe\">\n",
       "  <thead>\n",
       "    <tr style=\"text-align: right;\">\n",
       "      <th></th>\n",
       "      <th>ETF_Name</th>\n",
       "      <th>Asset_Class</th>\n",
       "      <th>FI_Weight</th>\n",
       "      <th>Mod_Weight</th>\n",
       "      <th>Bal_Weight</th>\n",
       "      <th>Agg_Weight</th>\n",
       "      <th>Eq_Weight</th>\n",
       "    </tr>\n",
       "  </thead>\n",
       "  <tbody>\n",
       "    <tr>\n",
       "      <th>JPST</th>\n",
       "      <td>JPMorgan Ultra-Short Income ETF</td>\n",
       "      <td>Cash/Equivalent</td>\n",
       "      <td>50.0</td>\n",
       "      <td>25.0</td>\n",
       "      <td>5.00</td>\n",
       "      <td>1.00</td>\n",
       "      <td>1.0</td>\n",
       "    </tr>\n",
       "    <tr>\n",
       "      <th>BND</th>\n",
       "      <td>Vanguard Total Bond Market ETF</td>\n",
       "      <td>Fixed Income</td>\n",
       "      <td>2.63</td>\n",
       "      <td>23.0</td>\n",
       "      <td>3.00</td>\n",
       "      <td>1.00</td>\n",
       "      <td>-</td>\n",
       "    </tr>\n",
       "    <tr>\n",
       "      <th>BNDX</th>\n",
       "      <td>Vanguard Total International Bond ETF</td>\n",
       "      <td>Fixed Income</td>\n",
       "      <td>46.09</td>\n",
       "      <td>1.0</td>\n",
       "      <td>1.00</td>\n",
       "      <td>1.00</td>\n",
       "      <td>-</td>\n",
       "    </tr>\n",
       "    <tr>\n",
       "      <th>JNK</th>\n",
       "      <td>SPDR Bloomberg Barclays High Yield Bond ETF</td>\n",
       "      <td>Fixed Income</td>\n",
       "      <td>1.28</td>\n",
       "      <td>1.0</td>\n",
       "      <td>1.00</td>\n",
       "      <td>1.00</td>\n",
       "      <td>-</td>\n",
       "    </tr>\n",
       "    <tr>\n",
       "      <th>HEWJ</th>\n",
       "      <td>iShares Currency Hedged MSCI Japan ETF</td>\n",
       "      <td>Equity</td>\n",
       "      <td>-</td>\n",
       "      <td>1.0</td>\n",
       "      <td>1.00</td>\n",
       "      <td>1.00</td>\n",
       "      <td>1.0</td>\n",
       "    </tr>\n",
       "    <tr>\n",
       "      <th>IEMG</th>\n",
       "      <td>iShares Core MSCI Emerging Markets ETF</td>\n",
       "      <td>Equity</td>\n",
       "      <td>-</td>\n",
       "      <td>1.0</td>\n",
       "      <td>1.00</td>\n",
       "      <td>1.00</td>\n",
       "      <td>1.0</td>\n",
       "    </tr>\n",
       "    <tr>\n",
       "      <th>IGM</th>\n",
       "      <td>iShares Expanded Tech Sector ETF</td>\n",
       "      <td>Equity</td>\n",
       "      <td>-</td>\n",
       "      <td>23.0</td>\n",
       "      <td>8.04</td>\n",
       "      <td>7.09</td>\n",
       "      <td>12.28</td>\n",
       "    </tr>\n",
       "    <tr>\n",
       "      <th>IWQU.L</th>\n",
       "      <td>iShares Edge MSCI World Quality Factor UCITS ETF</td>\n",
       "      <td>Equity</td>\n",
       "      <td>-</td>\n",
       "      <td>1.0</td>\n",
       "      <td>4.70</td>\n",
       "      <td>7.31</td>\n",
       "      <td>12.53</td>\n",
       "    </tr>\n",
       "    <tr>\n",
       "      <th>IXJ</th>\n",
       "      <td>iShares Global Healthcare ETF</td>\n",
       "      <td>Equity</td>\n",
       "      <td>-</td>\n",
       "      <td>1.0</td>\n",
       "      <td>42.26</td>\n",
       "      <td>46.60</td>\n",
       "      <td>69.19</td>\n",
       "    </tr>\n",
       "    <tr>\n",
       "      <th>VGK</th>\n",
       "      <td>Vanguard FTSE Europe ETF</td>\n",
       "      <td>Equity</td>\n",
       "      <td>-</td>\n",
       "      <td>1.0</td>\n",
       "      <td>1.00</td>\n",
       "      <td>1.00</td>\n",
       "      <td>1.0</td>\n",
       "    </tr>\n",
       "    <tr>\n",
       "      <th>VOO</th>\n",
       "      <td>Vanguard S&amp;P 500 ETF</td>\n",
       "      <td>Equity</td>\n",
       "      <td>-</td>\n",
       "      <td>1.0</td>\n",
       "      <td>1.00</td>\n",
       "      <td>1.00</td>\n",
       "      <td>1.0</td>\n",
       "    </tr>\n",
       "    <tr>\n",
       "      <th>VT</th>\n",
       "      <td>Vanguard Total World Stock ETF</td>\n",
       "      <td>Equity</td>\n",
       "      <td>-</td>\n",
       "      <td>1.0</td>\n",
       "      <td>1.00</td>\n",
       "      <td>1.00</td>\n",
       "      <td>1.0</td>\n",
       "    </tr>\n",
       "    <tr>\n",
       "      <th>GLD</th>\n",
       "      <td>SPDR Gold Shares</td>\n",
       "      <td>Alternatives</td>\n",
       "      <td>-</td>\n",
       "      <td>17.0</td>\n",
       "      <td>27.00</td>\n",
       "      <td>27.00</td>\n",
       "      <td>-</td>\n",
       "    </tr>\n",
       "    <tr>\n",
       "      <th>IGF</th>\n",
       "      <td>iShares Global Infrastructure ETF</td>\n",
       "      <td>Alternatives</td>\n",
       "      <td>-</td>\n",
       "      <td>1.0</td>\n",
       "      <td>1.00</td>\n",
       "      <td>1.00</td>\n",
       "      <td>-</td>\n",
       "    </tr>\n",
       "    <tr>\n",
       "      <th>PDBC</th>\n",
       "      <td>Invesco Optimum Yield Diversified Commodity St...</td>\n",
       "      <td>Alternatives</td>\n",
       "      <td>-</td>\n",
       "      <td>1.0</td>\n",
       "      <td>1.00</td>\n",
       "      <td>1.00</td>\n",
       "      <td>-</td>\n",
       "    </tr>\n",
       "    <tr>\n",
       "      <th>REET</th>\n",
       "      <td>iShares Global REIT ETF</td>\n",
       "      <td>Alternatives</td>\n",
       "      <td>-</td>\n",
       "      <td>1.0</td>\n",
       "      <td>1.00</td>\n",
       "      <td>1.00</td>\n",
       "      <td>-</td>\n",
       "    </tr>\n",
       "  </tbody>\n",
       "</table>\n",
       "</div>"
      ],
      "text/plain": [
       "                                                 ETF_Name      Asset_Class  \\\n",
       "JPST                      JPMorgan Ultra-Short Income ETF  Cash/Equivalent   \n",
       "BND                        Vanguard Total Bond Market ETF     Fixed Income   \n",
       "BNDX                Vanguard Total International Bond ETF     Fixed Income   \n",
       "JNK           SPDR Bloomberg Barclays High Yield Bond ETF     Fixed Income   \n",
       "HEWJ               iShares Currency Hedged MSCI Japan ETF           Equity   \n",
       "IEMG               iShares Core MSCI Emerging Markets ETF           Equity   \n",
       "IGM                      iShares Expanded Tech Sector ETF           Equity   \n",
       "IWQU.L   iShares Edge MSCI World Quality Factor UCITS ETF           Equity   \n",
       "IXJ                         iShares Global Healthcare ETF           Equity   \n",
       "VGK                              Vanguard FTSE Europe ETF           Equity   \n",
       "VOO                                  Vanguard S&P 500 ETF           Equity   \n",
       "VT                         Vanguard Total World Stock ETF           Equity   \n",
       "GLD                                      SPDR Gold Shares     Alternatives   \n",
       "IGF                     iShares Global Infrastructure ETF     Alternatives   \n",
       "PDBC    Invesco Optimum Yield Diversified Commodity St...     Alternatives   \n",
       "REET                              iShares Global REIT ETF     Alternatives   \n",
       "\n",
       "       FI_Weight  Mod_Weight  Bal_Weight  Agg_Weight Eq_Weight  \n",
       "JPST        50.0        25.0        5.00        1.00       1.0  \n",
       "BND         2.63        23.0        3.00        1.00         -  \n",
       "BNDX       46.09         1.0        1.00        1.00         -  \n",
       "JNK         1.28         1.0        1.00        1.00         -  \n",
       "HEWJ           -         1.0        1.00        1.00       1.0  \n",
       "IEMG           -         1.0        1.00        1.00       1.0  \n",
       "IGM            -        23.0        8.04        7.09     12.28  \n",
       "IWQU.L         -         1.0        4.70        7.31     12.53  \n",
       "IXJ            -         1.0       42.26       46.60     69.19  \n",
       "VGK            -         1.0        1.00        1.00       1.0  \n",
       "VOO            -         1.0        1.00        1.00       1.0  \n",
       "VT             -         1.0        1.00        1.00       1.0  \n",
       "GLD            -        17.0       27.00       27.00         -  \n",
       "IGF            -         1.0        1.00        1.00         -  \n",
       "PDBC           -         1.0        1.00        1.00         -  \n",
       "REET           -         1.0        1.00        1.00         -  "
      ]
     },
     "execution_count": 13,
     "metadata": {},
     "output_type": "execute_result"
    }
   ],
   "source": [
    "# concat all portfolio weights\n",
    "df_weights = pd.concat([df_weights_fixed, df_weights_moderate, df_weights_balanced, df_weights_agg, df_weights_equity], axis=1)\n",
    "df_weights.replace(np.nan, '-', inplace=True)\n",
    "\n",
    "# ETF_map to ETF_name\n",
    "df_weights['ETF_Name'] = df_weights.index.map(ETF_map)\n",
    "\n",
    "# map asset class to portfolio\n",
    "df_weights['Asset_Class'] = df_weights.index.map(asset_map)\n",
    "# sort asset class 1.Cash/Equivalent, 2.Fixed Income, 3.Equity, 4.Alternatives\n",
    "df_weights['Asset_Class'] = pd.Categorical(df_weights['Asset_Class'], ['Cash/Equivalent', 'Fixed Income', 'Equity', 'Alternatives'])\n",
    "df_weights.sort_values(by=['Asset_Class'], inplace=True)\n",
    "\n",
    "df_weights = df_weights[['ETF_Name', 'Asset_Class', 'FI_Weight', 'Mod_Weight', 'Bal_Weight', 'Agg_Weight', 'Eq_Weight']]\n",
    "\n",
    "df_weights"
   ]
  },
  {
   "cell_type": "code",
   "execution_count": 14,
   "metadata": {},
   "outputs": [
    {
     "data": {
      "text/html": [
       "<div>\n",
       "<style scoped>\n",
       "    .dataframe tbody tr th:only-of-type {\n",
       "        vertical-align: middle;\n",
       "    }\n",
       "\n",
       "    .dataframe tbody tr th {\n",
       "        vertical-align: top;\n",
       "    }\n",
       "\n",
       "    .dataframe thead th {\n",
       "        text-align: right;\n",
       "    }\n",
       "</style>\n",
       "<table border=\"1\" class=\"dataframe\">\n",
       "  <thead>\n",
       "    <tr style=\"text-align: right;\">\n",
       "      <th></th>\n",
       "      <th>FI_Weight</th>\n",
       "      <th>Mod_Weight</th>\n",
       "      <th>Bal_Weight</th>\n",
       "      <th>Agg_Weight</th>\n",
       "      <th>Eq_Weight</th>\n",
       "    </tr>\n",
       "    <tr>\n",
       "      <th>Asset_Class</th>\n",
       "      <th></th>\n",
       "      <th></th>\n",
       "      <th></th>\n",
       "      <th></th>\n",
       "      <th></th>\n",
       "    </tr>\n",
       "  </thead>\n",
       "  <tbody>\n",
       "    <tr>\n",
       "      <th>Cash/Equivalent</th>\n",
       "      <td>50.0</td>\n",
       "      <td>25.0</td>\n",
       "      <td>5.0</td>\n",
       "      <td>1.0</td>\n",
       "      <td>1.0</td>\n",
       "    </tr>\n",
       "    <tr>\n",
       "      <th>Fixed Income</th>\n",
       "      <td>50.0</td>\n",
       "      <td>25.0</td>\n",
       "      <td>5.0</td>\n",
       "      <td>3.0</td>\n",
       "      <td>0.0</td>\n",
       "    </tr>\n",
       "    <tr>\n",
       "      <th>Equity</th>\n",
       "      <td>0.0</td>\n",
       "      <td>30.0</td>\n",
       "      <td>60.0</td>\n",
       "      <td>66.0</td>\n",
       "      <td>99.0</td>\n",
       "    </tr>\n",
       "    <tr>\n",
       "      <th>Alternatives</th>\n",
       "      <td>0.0</td>\n",
       "      <td>20.0</td>\n",
       "      <td>30.0</td>\n",
       "      <td>30.0</td>\n",
       "      <td>0.0</td>\n",
       "    </tr>\n",
       "  </tbody>\n",
       "</table>\n",
       "</div>"
      ],
      "text/plain": [
       "                 FI_Weight  Mod_Weight  Bal_Weight  Agg_Weight  Eq_Weight\n",
       "Asset_Class                                                              \n",
       "Cash/Equivalent       50.0        25.0         5.0         1.0        1.0\n",
       "Fixed Income          50.0        25.0         5.0         3.0        0.0\n",
       "Equity                 0.0        30.0        60.0        66.0       99.0\n",
       "Alternatives           0.0        20.0        30.0        30.0        0.0"
      ]
     },
     "execution_count": 14,
     "metadata": {},
     "output_type": "execute_result"
    }
   ],
   "source": [
    "df_weights.replace('-', np.nan, inplace=True)\n",
    "# df_weights group by asset class\n",
    "df_weights_asset = df_weights.groupby('Asset_Class').sum()\n",
    "df_weights_asset"
   ]
  },
  {
   "cell_type": "code",
   "execution_count": 15,
   "metadata": {},
   "outputs": [
    {
     "data": {
      "text/html": [
       "<div>\n",
       "<style scoped>\n",
       "    .dataframe tbody tr th:only-of-type {\n",
       "        vertical-align: middle;\n",
       "    }\n",
       "\n",
       "    .dataframe tbody tr th {\n",
       "        vertical-align: top;\n",
       "    }\n",
       "\n",
       "    .dataframe thead th {\n",
       "        text-align: right;\n",
       "    }\n",
       "</style>\n",
       "<table border=\"1\" class=\"dataframe\">\n",
       "  <thead>\n",
       "    <tr style=\"text-align: right;\">\n",
       "      <th></th>\n",
       "      <th>Portfolio</th>\n",
       "      <th>Expected Annual Return (%)</th>\n",
       "      <th>Annual volatility (%)</th>\n",
       "      <th>Sharpe Ratio</th>\n",
       "    </tr>\n",
       "  </thead>\n",
       "  <tbody>\n",
       "    <tr>\n",
       "      <th>0</th>\n",
       "      <td>Fixed Income</td>\n",
       "      <td>-1.35</td>\n",
       "      <td>2.58</td>\n",
       "      <td>-1.2999</td>\n",
       "    </tr>\n",
       "    <tr>\n",
       "      <th>1</th>\n",
       "      <td>Moderate</td>\n",
       "      <td>2.98</td>\n",
       "      <td>9.38</td>\n",
       "      <td>0.1045</td>\n",
       "    </tr>\n",
       "    <tr>\n",
       "      <th>2</th>\n",
       "      <td>Balanced</td>\n",
       "      <td>6.30</td>\n",
       "      <td>12.85</td>\n",
       "      <td>0.3349</td>\n",
       "    </tr>\n",
       "    <tr>\n",
       "      <th>3</th>\n",
       "      <td>Aggressive</td>\n",
       "      <td>6.80</td>\n",
       "      <td>13.65</td>\n",
       "      <td>0.3517</td>\n",
       "    </tr>\n",
       "    <tr>\n",
       "      <th>4</th>\n",
       "      <td>Equity</td>\n",
       "      <td>8.05</td>\n",
       "      <td>18.05</td>\n",
       "      <td>0.3354</td>\n",
       "    </tr>\n",
       "  </tbody>\n",
       "</table>\n",
       "</div>"
      ],
      "text/plain": [
       "      Portfolio  Expected Annual Return (%)  Annual volatility (%)  \\\n",
       "0  Fixed Income                       -1.35                   2.58   \n",
       "1      Moderate                        2.98                   9.38   \n",
       "2      Balanced                        6.30                  12.85   \n",
       "3    Aggressive                        6.80                  13.65   \n",
       "4        Equity                        8.05                  18.05   \n",
       "\n",
       "   Sharpe Ratio  \n",
       "0       -1.2999  \n",
       "1        0.1045  \n",
       "2        0.3349  \n",
       "3        0.3517  \n",
       "4        0.3354  "
      ]
     },
     "execution_count": 15,
     "metadata": {},
     "output_type": "execute_result"
    }
   ],
   "source": [
    "# Return, Risk, Sharpe Ratio for each portfolio to dataframe\n",
    "df_performance = pd.DataFrame(columns=['Portfolio', 'Expected Annual Return (%)', 'Annual volatility (%)', 'Sharpe Ratio'])\n",
    "\n",
    "# Fixed Income\n",
    "df_performance.loc[0] = ['Fixed Income', ef_fixed.portfolio_performance()[0], ef_fixed.portfolio_performance()[1], ef_fixed.portfolio_performance()[2]]\n",
    "# Moderate\n",
    "df_performance.loc[1] = ['Moderate', ef_moderate.portfolio_performance()[0], ef_moderate.portfolio_performance()[1], ef_moderate.portfolio_performance()[2]]\n",
    "# Balanced\n",
    "df_performance.loc[2] = ['Balanced', ef_balanced.portfolio_performance()[0], ef_balanced.portfolio_performance()[1], ef_balanced.portfolio_performance()[2]]\n",
    "# Aggressive\n",
    "df_performance.loc[3] = ['Aggressive', ef_agg.portfolio_performance()[0], ef_agg.portfolio_performance()[1], ef_agg.portfolio_performance()[2]]\n",
    "# Equity\n",
    "df_performance.loc[4] = ['Equity', ef_equity.portfolio_performance()[0], ef_equity.portfolio_performance()[1], ef_equity.portfolio_performance()[2]]\n",
    "\n",
    "df_performance = df_performance.round(4)\n",
    "\n",
    "# change Expected Annual Return (%) and Annual volatility to percentage\n",
    "df_performance['Expected Annual Return (%)'] = df_performance['Expected Annual Return (%)'].apply(lambda x: round(x*100, 2))\n",
    "df_performance['Annual volatility (%)'] = df_performance['Annual volatility (%)'].apply(lambda x: round(x*100, 2))\n",
    "\n",
    "df_performance\n"
   ]
  },
  {
   "attachments": {},
   "cell_type": "markdown",
   "metadata": {},
   "source": [
    "# 2023 Performance"
   ]
  },
  {
   "cell_type": "code",
   "execution_count": 16,
   "metadata": {},
   "outputs": [
    {
     "name": "stdout",
     "output_type": "stream",
     "text": [
      "[*********************100%***********************]  16 of 16 completed\n"
     ]
    },
    {
     "data": {
      "text/html": [
       "<div>\n",
       "<style scoped>\n",
       "    .dataframe tbody tr th:only-of-type {\n",
       "        vertical-align: middle;\n",
       "    }\n",
       "\n",
       "    .dataframe tbody tr th {\n",
       "        vertical-align: top;\n",
       "    }\n",
       "\n",
       "    .dataframe thead th {\n",
       "        text-align: right;\n",
       "    }\n",
       "</style>\n",
       "<table border=\"1\" class=\"dataframe\">\n",
       "  <thead>\n",
       "    <tr style=\"text-align: right;\">\n",
       "      <th></th>\n",
       "      <th>BND</th>\n",
       "      <th>BNDX</th>\n",
       "      <th>GLD</th>\n",
       "      <th>HEWJ</th>\n",
       "      <th>IEMG</th>\n",
       "      <th>IGF</th>\n",
       "      <th>IGM</th>\n",
       "      <th>IWQU.L</th>\n",
       "      <th>IXJ</th>\n",
       "      <th>JNK</th>\n",
       "      <th>JPST</th>\n",
       "      <th>PDBC</th>\n",
       "      <th>REET</th>\n",
       "      <th>VGK</th>\n",
       "      <th>VOO</th>\n",
       "      <th>VT</th>\n",
       "    </tr>\n",
       "    <tr>\n",
       "      <th>Date</th>\n",
       "      <th></th>\n",
       "      <th></th>\n",
       "      <th></th>\n",
       "      <th></th>\n",
       "      <th></th>\n",
       "      <th></th>\n",
       "      <th></th>\n",
       "      <th></th>\n",
       "      <th></th>\n",
       "      <th></th>\n",
       "      <th></th>\n",
       "      <th></th>\n",
       "      <th></th>\n",
       "      <th></th>\n",
       "      <th></th>\n",
       "      <th></th>\n",
       "    </tr>\n",
       "  </thead>\n",
       "  <tbody>\n",
       "    <tr>\n",
       "      <th>2023-01-03</th>\n",
       "      <td>72.22</td>\n",
       "      <td>47.85</td>\n",
       "      <td>171.06</td>\n",
       "      <td>26.23</td>\n",
       "      <td>47.07</td>\n",
       "      <td>45.83</td>\n",
       "      <td>279.81</td>\n",
       "      <td>46.99</td>\n",
       "      <td>84.92</td>\n",
       "      <td>90.18</td>\n",
       "      <td>50.12</td>\n",
       "      <td>14.41</td>\n",
       "      <td>22.66</td>\n",
       "      <td>56.14</td>\n",
       "      <td>349.99</td>\n",
       "      <td>86.24</td>\n",
       "    </tr>\n",
       "    <tr>\n",
       "      <th>2023-01-04</th>\n",
       "      <td>72.63</td>\n",
       "      <td>48.05</td>\n",
       "      <td>172.67</td>\n",
       "      <td>26.33</td>\n",
       "      <td>48.44</td>\n",
       "      <td>46.50</td>\n",
       "      <td>281.93</td>\n",
       "      <td>47.54</td>\n",
       "      <td>85.18</td>\n",
       "      <td>91.29</td>\n",
       "      <td>50.14</td>\n",
       "      <td>14.12</td>\n",
       "      <td>23.10</td>\n",
       "      <td>57.21</td>\n",
       "      <td>352.51</td>\n",
       "      <td>87.30</td>\n",
       "    </tr>\n",
       "    <tr>\n",
       "      <th>2023-01-05</th>\n",
       "      <td>72.55</td>\n",
       "      <td>47.99</td>\n",
       "      <td>170.52</td>\n",
       "      <td>26.12</td>\n",
       "      <td>48.20</td>\n",
       "      <td>46.33</td>\n",
       "      <td>275.98</td>\n",
       "      <td>46.94</td>\n",
       "      <td>84.31</td>\n",
       "      <td>91.12</td>\n",
       "      <td>50.15</td>\n",
       "      <td>14.06</td>\n",
       "      <td>22.60</td>\n",
       "      <td>56.69</td>\n",
       "      <td>348.66</td>\n",
       "      <td>86.40</td>\n",
       "    </tr>\n",
       "    <tr>\n",
       "      <th>2023-01-06</th>\n",
       "      <td>73.35</td>\n",
       "      <td>48.30</td>\n",
       "      <td>173.71</td>\n",
       "      <td>26.52</td>\n",
       "      <td>49.24</td>\n",
       "      <td>47.31</td>\n",
       "      <td>283.71</td>\n",
       "      <td>47.89</td>\n",
       "      <td>85.26</td>\n",
       "      <td>92.44</td>\n",
       "      <td>50.17</td>\n",
       "      <td>14.15</td>\n",
       "      <td>23.06</td>\n",
       "      <td>58.20</td>\n",
       "      <td>356.59</td>\n",
       "      <td>88.38</td>\n",
       "    </tr>\n",
       "    <tr>\n",
       "      <th>2023-01-09</th>\n",
       "      <td>73.55</td>\n",
       "      <td>48.18</td>\n",
       "      <td>174.10</td>\n",
       "      <td>26.52</td>\n",
       "      <td>49.59</td>\n",
       "      <td>47.61</td>\n",
       "      <td>287.32</td>\n",
       "      <td>48.74</td>\n",
       "      <td>84.15</td>\n",
       "      <td>92.84</td>\n",
       "      <td>50.18</td>\n",
       "      <td>14.35</td>\n",
       "      <td>23.10</td>\n",
       "      <td>58.57</td>\n",
       "      <td>356.33</td>\n",
       "      <td>88.59</td>\n",
       "    </tr>\n",
       "  </tbody>\n",
       "</table>\n",
       "</div>"
      ],
      "text/plain": [
       "              BND   BNDX     GLD   HEWJ   IEMG    IGF     IGM  IWQU.L    IXJ  \\\n",
       "Date                                                                           \n",
       "2023-01-03  72.22  47.85  171.06  26.23  47.07  45.83  279.81   46.99  84.92   \n",
       "2023-01-04  72.63  48.05  172.67  26.33  48.44  46.50  281.93   47.54  85.18   \n",
       "2023-01-05  72.55  47.99  170.52  26.12  48.20  46.33  275.98   46.94  84.31   \n",
       "2023-01-06  73.35  48.30  173.71  26.52  49.24  47.31  283.71   47.89  85.26   \n",
       "2023-01-09  73.55  48.18  174.10  26.52  49.59  47.61  287.32   48.74  84.15   \n",
       "\n",
       "              JNK   JPST   PDBC   REET    VGK     VOO     VT  \n",
       "Date                                                          \n",
       "2023-01-03  90.18  50.12  14.41  22.66  56.14  349.99  86.24  \n",
       "2023-01-04  91.29  50.14  14.12  23.10  57.21  352.51  87.30  \n",
       "2023-01-05  91.12  50.15  14.06  22.60  56.69  348.66  86.40  \n",
       "2023-01-06  92.44  50.17  14.15  23.06  58.20  356.59  88.38  \n",
       "2023-01-09  92.84  50.18  14.35  23.10  58.57  356.33  88.59  "
      ]
     },
     "execution_count": 16,
     "metadata": {},
     "output_type": "execute_result"
    }
   ],
   "source": [
    "# get new data \n",
    "startDate2 = dt.datetime(2023, 1, 1)\n",
    "endDate2 = dt.datetime(2023, 4, 30)\n",
    "\n",
    "df2023 = getData(ETF_list, startDate2, endDate2)\n",
    "df2023.head()"
   ]
  },
  {
   "cell_type": "code",
   "execution_count": 17,
   "metadata": {},
   "outputs": [
    {
     "name": "stdout",
     "output_type": "stream",
     "text": [
      "<class 'pandas.core.frame.DataFrame'>\n",
      "DatetimeIndex: 80 entries, 2023-01-03 to 2023-04-28\n",
      "Data columns (total 16 columns):\n",
      " #   Column  Non-Null Count  Dtype  \n",
      "---  ------  --------------  -----  \n",
      " 0   BND     80 non-null     float64\n",
      " 1   BNDX    80 non-null     float64\n",
      " 2   GLD     80 non-null     float64\n",
      " 3   HEWJ    80 non-null     float64\n",
      " 4   IEMG    80 non-null     float64\n",
      " 5   IGF     80 non-null     float64\n",
      " 6   IGM     80 non-null     float64\n",
      " 7   IWQU.L  80 non-null     float64\n",
      " 8   IXJ     80 non-null     float64\n",
      " 9   JNK     80 non-null     float64\n",
      " 10  JPST    80 non-null     float64\n",
      " 11  PDBC    80 non-null     float64\n",
      " 12  REET    80 non-null     float64\n",
      " 13  VGK     80 non-null     float64\n",
      " 14  VOO     80 non-null     float64\n",
      " 15  VT      80 non-null     float64\n",
      "dtypes: float64(16)\n",
      "memory usage: 10.6 KB\n"
     ]
    }
   ],
   "source": [
    "df2023.info()"
   ]
  },
  {
   "attachments": {},
   "cell_type": "markdown",
   "metadata": {},
   "source": [
    "### 2023 ETF Portfolio Performance"
   ]
  },
  {
   "cell_type": "code",
   "execution_count": 18,
   "metadata": {},
   "outputs": [
    {
     "data": {
      "text/html": [
       "<div>\n",
       "<style scoped>\n",
       "    .dataframe tbody tr th:only-of-type {\n",
       "        vertical-align: middle;\n",
       "    }\n",
       "\n",
       "    .dataframe tbody tr th {\n",
       "        vertical-align: top;\n",
       "    }\n",
       "\n",
       "    .dataframe thead th {\n",
       "        text-align: right;\n",
       "    }\n",
       "</style>\n",
       "<table border=\"1\" class=\"dataframe\">\n",
       "  <thead>\n",
       "    <tr style=\"text-align: right;\">\n",
       "      <th></th>\n",
       "      <th>BND</th>\n",
       "      <th>BNDX</th>\n",
       "      <th>GLD</th>\n",
       "      <th>HEWJ</th>\n",
       "      <th>IEMG</th>\n",
       "      <th>IGF</th>\n",
       "      <th>IGM</th>\n",
       "      <th>IWQU.L</th>\n",
       "      <th>IXJ</th>\n",
       "      <th>JNK</th>\n",
       "      <th>JPST</th>\n",
       "      <th>PDBC</th>\n",
       "      <th>REET</th>\n",
       "      <th>VGK</th>\n",
       "      <th>VOO</th>\n",
       "      <th>VT</th>\n",
       "    </tr>\n",
       "    <tr>\n",
       "      <th>Date</th>\n",
       "      <th></th>\n",
       "      <th></th>\n",
       "      <th></th>\n",
       "      <th></th>\n",
       "      <th></th>\n",
       "      <th></th>\n",
       "      <th></th>\n",
       "      <th></th>\n",
       "      <th></th>\n",
       "      <th></th>\n",
       "      <th></th>\n",
       "      <th></th>\n",
       "      <th></th>\n",
       "      <th></th>\n",
       "      <th></th>\n",
       "      <th></th>\n",
       "    </tr>\n",
       "  </thead>\n",
       "  <tbody>\n",
       "    <tr>\n",
       "      <th>2023-01-03</th>\n",
       "      <td>NaN</td>\n",
       "      <td>NaN</td>\n",
       "      <td>NaN</td>\n",
       "      <td>NaN</td>\n",
       "      <td>NaN</td>\n",
       "      <td>NaN</td>\n",
       "      <td>NaN</td>\n",
       "      <td>NaN</td>\n",
       "      <td>NaN</td>\n",
       "      <td>NaN</td>\n",
       "      <td>NaN</td>\n",
       "      <td>NaN</td>\n",
       "      <td>NaN</td>\n",
       "      <td>NaN</td>\n",
       "      <td>NaN</td>\n",
       "      <td>NaN</td>\n",
       "    </tr>\n",
       "    <tr>\n",
       "      <th>2023-01-04</th>\n",
       "      <td>1.005677</td>\n",
       "      <td>1.004180</td>\n",
       "      <td>1.009412</td>\n",
       "      <td>1.003812</td>\n",
       "      <td>1.029106</td>\n",
       "      <td>1.014619</td>\n",
       "      <td>1.007577</td>\n",
       "      <td>1.011705</td>\n",
       "      <td>1.003062</td>\n",
       "      <td>1.012309</td>\n",
       "      <td>1.000399</td>\n",
       "      <td>0.979875</td>\n",
       "      <td>1.019417</td>\n",
       "      <td>1.019059</td>\n",
       "      <td>1.007200</td>\n",
       "      <td>1.012291</td>\n",
       "    </tr>\n",
       "    <tr>\n",
       "      <th>2023-01-05</th>\n",
       "      <td>1.004569</td>\n",
       "      <td>1.002926</td>\n",
       "      <td>0.996843</td>\n",
       "      <td>0.995806</td>\n",
       "      <td>1.024007</td>\n",
       "      <td>1.010910</td>\n",
       "      <td>0.986312</td>\n",
       "      <td>0.998936</td>\n",
       "      <td>0.992817</td>\n",
       "      <td>1.010424</td>\n",
       "      <td>1.000599</td>\n",
       "      <td>0.975711</td>\n",
       "      <td>0.997352</td>\n",
       "      <td>1.009797</td>\n",
       "      <td>0.996200</td>\n",
       "      <td>1.001855</td>\n",
       "    </tr>\n",
       "    <tr>\n",
       "      <th>2023-01-06</th>\n",
       "      <td>1.015647</td>\n",
       "      <td>1.009404</td>\n",
       "      <td>1.015492</td>\n",
       "      <td>1.011056</td>\n",
       "      <td>1.046102</td>\n",
       "      <td>1.032293</td>\n",
       "      <td>1.013938</td>\n",
       "      <td>1.019153</td>\n",
       "      <td>1.004004</td>\n",
       "      <td>1.025061</td>\n",
       "      <td>1.000998</td>\n",
       "      <td>0.981957</td>\n",
       "      <td>1.017652</td>\n",
       "      <td>1.036694</td>\n",
       "      <td>1.018858</td>\n",
       "      <td>1.024814</td>\n",
       "    </tr>\n",
       "    <tr>\n",
       "      <th>2023-01-09</th>\n",
       "      <td>1.018416</td>\n",
       "      <td>1.006897</td>\n",
       "      <td>1.017772</td>\n",
       "      <td>1.011056</td>\n",
       "      <td>1.053537</td>\n",
       "      <td>1.038839</td>\n",
       "      <td>1.026840</td>\n",
       "      <td>1.037242</td>\n",
       "      <td>0.990933</td>\n",
       "      <td>1.029497</td>\n",
       "      <td>1.001197</td>\n",
       "      <td>0.995836</td>\n",
       "      <td>1.019417</td>\n",
       "      <td>1.043285</td>\n",
       "      <td>1.018115</td>\n",
       "      <td>1.027250</td>\n",
       "    </tr>\n",
       "  </tbody>\n",
       "</table>\n",
       "</div>"
      ],
      "text/plain": [
       "                 BND      BNDX       GLD      HEWJ      IEMG       IGF  \\\n",
       "Date                                                                     \n",
       "2023-01-03       NaN       NaN       NaN       NaN       NaN       NaN   \n",
       "2023-01-04  1.005677  1.004180  1.009412  1.003812  1.029106  1.014619   \n",
       "2023-01-05  1.004569  1.002926  0.996843  0.995806  1.024007  1.010910   \n",
       "2023-01-06  1.015647  1.009404  1.015492  1.011056  1.046102  1.032293   \n",
       "2023-01-09  1.018416  1.006897  1.017772  1.011056  1.053537  1.038839   \n",
       "\n",
       "                 IGM    IWQU.L       IXJ       JNK      JPST      PDBC  \\\n",
       "Date                                                                     \n",
       "2023-01-03       NaN       NaN       NaN       NaN       NaN       NaN   \n",
       "2023-01-04  1.007577  1.011705  1.003062  1.012309  1.000399  0.979875   \n",
       "2023-01-05  0.986312  0.998936  0.992817  1.010424  1.000599  0.975711   \n",
       "2023-01-06  1.013938  1.019153  1.004004  1.025061  1.000998  0.981957   \n",
       "2023-01-09  1.026840  1.037242  0.990933  1.029497  1.001197  0.995836   \n",
       "\n",
       "                REET       VGK       VOO        VT  \n",
       "Date                                                \n",
       "2023-01-03       NaN       NaN       NaN       NaN  \n",
       "2023-01-04  1.019417  1.019059  1.007200  1.012291  \n",
       "2023-01-05  0.997352  1.009797  0.996200  1.001855  \n",
       "2023-01-06  1.017652  1.036694  1.018858  1.024814  \n",
       "2023-01-09  1.019417  1.043285  1.018115  1.027250  "
      ]
     },
     "execution_count": 18,
     "metadata": {},
     "output_type": "execute_result"
    }
   ],
   "source": [
    "# df2023 cumulative return\n",
    "df2023_cum = df2023.copy()\n",
    "df2023_cum = df2023_cum.pct_change()\n",
    "df2023_cum = (df2023_cum+1).cumprod()\n",
    "df2023_cum.head()"
   ]
  },
  {
   "cell_type": "code",
   "execution_count": 19,
   "metadata": {},
   "outputs": [
    {
     "data": {
      "application/vnd.plotly.v1+json": {
       "config": {
        "plotlyServerURL": "https://plot.ly"
       },
       "data": [
        {
         "name": "BND",
         "type": "scatter",
         "x": [
          "2023-01-03T00:00:00",
          "2023-01-04T00:00:00",
          "2023-01-05T00:00:00",
          "2023-01-06T00:00:00",
          "2023-01-09T00:00:00",
          "2023-01-10T00:00:00",
          "2023-01-11T00:00:00",
          "2023-01-12T00:00:00",
          "2023-01-13T00:00:00",
          "2023-01-17T00:00:00",
          "2023-01-18T00:00:00",
          "2023-01-19T00:00:00",
          "2023-01-20T00:00:00",
          "2023-01-23T00:00:00",
          "2023-01-24T00:00:00",
          "2023-01-25T00:00:00",
          "2023-01-26T00:00:00",
          "2023-01-27T00:00:00",
          "2023-01-30T00:00:00",
          "2023-01-31T00:00:00",
          "2023-02-01T00:00:00",
          "2023-02-02T00:00:00",
          "2023-02-03T00:00:00",
          "2023-02-06T00:00:00",
          "2023-02-07T00:00:00",
          "2023-02-08T00:00:00",
          "2023-02-09T00:00:00",
          "2023-02-10T00:00:00",
          "2023-02-13T00:00:00",
          "2023-02-14T00:00:00",
          "2023-02-15T00:00:00",
          "2023-02-16T00:00:00",
          "2023-02-17T00:00:00",
          "2023-02-21T00:00:00",
          "2023-02-22T00:00:00",
          "2023-02-23T00:00:00",
          "2023-02-24T00:00:00",
          "2023-02-27T00:00:00",
          "2023-02-28T00:00:00",
          "2023-03-01T00:00:00",
          "2023-03-02T00:00:00",
          "2023-03-03T00:00:00",
          "2023-03-06T00:00:00",
          "2023-03-07T00:00:00",
          "2023-03-08T00:00:00",
          "2023-03-09T00:00:00",
          "2023-03-10T00:00:00",
          "2023-03-13T00:00:00",
          "2023-03-14T00:00:00",
          "2023-03-15T00:00:00",
          "2023-03-16T00:00:00",
          "2023-03-17T00:00:00",
          "2023-03-20T00:00:00",
          "2023-03-21T00:00:00",
          "2023-03-22T00:00:00",
          "2023-03-23T00:00:00",
          "2023-03-24T00:00:00",
          "2023-03-27T00:00:00",
          "2023-03-28T00:00:00",
          "2023-03-29T00:00:00",
          "2023-03-30T00:00:00",
          "2023-03-31T00:00:00",
          "2023-04-03T00:00:00",
          "2023-04-04T00:00:00",
          "2023-04-05T00:00:00",
          "2023-04-06T00:00:00",
          "2023-04-11T00:00:00",
          "2023-04-12T00:00:00",
          "2023-04-13T00:00:00",
          "2023-04-14T00:00:00",
          "2023-04-17T00:00:00",
          "2023-04-18T00:00:00",
          "2023-04-19T00:00:00",
          "2023-04-20T00:00:00",
          "2023-04-21T00:00:00",
          "2023-04-24T00:00:00",
          "2023-04-25T00:00:00",
          "2023-04-26T00:00:00",
          "2023-04-27T00:00:00",
          "2023-04-28T00:00:00"
         ],
         "y": [
          null,
          1.005677097756854,
          1.0045693713652728,
          1.0156466352810856,
          1.0184159512600388,
          1.0144004430905569,
          1.0198006092495155,
          1.0276931597895322,
          1.0242315148158407,
          1.0228468568263642,
          1.032262531154805,
          1.0301855441705903,
          1.0256161728053172,
          1.0231237884242594,
          1.0276931597895322,
          1.0289393519800611,
          1.027000830794794,
          1.0258931044032127,
          1.0229853226253116,
          1.0276931597895322,
          1.031847133757962,
          1.0325394627527003,
          1.0234007200221547,
          1.0170312932705625,
          1.0156466352810858,
          1.0174466906674056,
          1.0132927166989758,
          1.0090002769315982,
          1.0117695929105512,
          1.0083079479368597,
          1.0060924951536971,
          1.0022154527831626,
          1.0044309055663252,
          0.9957075602326225,
          0.997923013015785,
          1.0015231237884243,
          0.9959844918305181,
          0.9976460814178899,
          0.9979230130157851,
          0.9897535308778734,
          0.9876765438936584,
          0.9952921628357797,
          0.9929382442536695,
          0.9918305178620883,
          0.9909997230684023,
          0.9943229022431463,
          1.0062309609526452,
          1.0142619772916095,
          1.0078925505400174,
          1.0182774854610919,
          1.0134311824979236,
          1.0207698698421497,
          1.0163389642758247,
          1.0135696482968715,
          1.0225699252284692,
          1.0249238438105794,
          1.0270008307947944,
          1.0163389642758247,
          1.014538908889505,
          1.0156466352810862,
          1.017031293270563,
          1.0222929936305738,
          1.0240930490168934,
          1.0282470229853233,
          1.0310163389642764,
          1.0307394073663811,
          1.0242315148158412,
          1.0253392412074223,
          1.0247853780116316,
          1.0202160066463588,
          1.0146773746884523,
          1.0162004984768764,
          1.0148158404874,
          1.019246746053725,
          1.0174466906674053,
          1.0214621988368875,
          1.028108557186375,
          1.024508446413736,
          1.020077540847411,
          1.025754638604265
         ]
        },
        {
         "name": "BNDX",
         "type": "scatter",
         "x": [
          "2023-01-03T00:00:00",
          "2023-01-04T00:00:00",
          "2023-01-05T00:00:00",
          "2023-01-06T00:00:00",
          "2023-01-09T00:00:00",
          "2023-01-10T00:00:00",
          "2023-01-11T00:00:00",
          "2023-01-12T00:00:00",
          "2023-01-13T00:00:00",
          "2023-01-17T00:00:00",
          "2023-01-18T00:00:00",
          "2023-01-19T00:00:00",
          "2023-01-20T00:00:00",
          "2023-01-23T00:00:00",
          "2023-01-24T00:00:00",
          "2023-01-25T00:00:00",
          "2023-01-26T00:00:00",
          "2023-01-27T00:00:00",
          "2023-01-30T00:00:00",
          "2023-01-31T00:00:00",
          "2023-02-01T00:00:00",
          "2023-02-02T00:00:00",
          "2023-02-03T00:00:00",
          "2023-02-06T00:00:00",
          "2023-02-07T00:00:00",
          "2023-02-08T00:00:00",
          "2023-02-09T00:00:00",
          "2023-02-10T00:00:00",
          "2023-02-13T00:00:00",
          "2023-02-14T00:00:00",
          "2023-02-15T00:00:00",
          "2023-02-16T00:00:00",
          "2023-02-17T00:00:00",
          "2023-02-21T00:00:00",
          "2023-02-22T00:00:00",
          "2023-02-23T00:00:00",
          "2023-02-24T00:00:00",
          "2023-02-27T00:00:00",
          "2023-02-28T00:00:00",
          "2023-03-01T00:00:00",
          "2023-03-02T00:00:00",
          "2023-03-03T00:00:00",
          "2023-03-06T00:00:00",
          "2023-03-07T00:00:00",
          "2023-03-08T00:00:00",
          "2023-03-09T00:00:00",
          "2023-03-10T00:00:00",
          "2023-03-13T00:00:00",
          "2023-03-14T00:00:00",
          "2023-03-15T00:00:00",
          "2023-03-16T00:00:00",
          "2023-03-17T00:00:00",
          "2023-03-20T00:00:00",
          "2023-03-21T00:00:00",
          "2023-03-22T00:00:00",
          "2023-03-23T00:00:00",
          "2023-03-24T00:00:00",
          "2023-03-27T00:00:00",
          "2023-03-28T00:00:00",
          "2023-03-29T00:00:00",
          "2023-03-30T00:00:00",
          "2023-03-31T00:00:00",
          "2023-04-03T00:00:00",
          "2023-04-04T00:00:00",
          "2023-04-05T00:00:00",
          "2023-04-06T00:00:00",
          "2023-04-11T00:00:00",
          "2023-04-12T00:00:00",
          "2023-04-13T00:00:00",
          "2023-04-14T00:00:00",
          "2023-04-17T00:00:00",
          "2023-04-18T00:00:00",
          "2023-04-19T00:00:00",
          "2023-04-20T00:00:00",
          "2023-04-21T00:00:00",
          "2023-04-24T00:00:00",
          "2023-04-25T00:00:00",
          "2023-04-26T00:00:00",
          "2023-04-27T00:00:00",
          "2023-04-28T00:00:00"
         ],
         "y": [
          null,
          1.0041797283176592,
          1.0029258098223615,
          1.0094043887147333,
          1.0068965517241377,
          1.005433646812957,
          1.0131661442006268,
          1.0165099268547544,
          1.0140020898641589,
          1.0179728317659351,
          1.0238244514106583,
          1.0227795193312432,
          1.0179728317659351,
          1.0154649947753396,
          1.0198537095088818,
          1.0206896551724138,
          1.0179728317659351,
          1.0158829676071055,
          1.011703239289446,
          1.0146290491118077,
          1.0165099268547544,
          1.025914315569488,
          1.019435736677116,
          1.0152560083594566,
          1.012748171368861,
          1.014838035527691,
          1.0129571577847443,
          1.0104493207941487,
          1.0121212121212124,
          1.009195402298851,
          1.0073145245559043,
          1.0052246603970747,
          1.0073145245559043,
          0.9991640543364686,
          1.0006269592476493,
          1.0039707419017767,
          1.0008359456635323,
          0.9985370950888197,
          0.9981191222570538,
          0.9935214211076285,
          0.9931034482758627,
          0.9962382445141071,
          0.9958202716823411,
          0.9968652037617559,
          0.9985370950888197,
          0.9995820271682345,
          1.009404388714734,
          1.022361546499478,
          1.0163009404388719,
          1.0236154649947755,
          1.0185997910135844,
          1.0259143155694883,
          1.0250783699059562,
          1.0200626959247652,
          1.0227795193312437,
          1.0286311389759668,
          1.0288401253918498,
          1.021734587251829,
          1.0211076280041802,
          1.0206896551724143,
          1.0196447230929995,
          1.0223615464994782,
          1.0225705329153612,
          1.022988505747127,
          1.0250783699059567,
          1.0242424242424248,
          1.0192267502612338,
          1.0194357366771167,
          1.0192267502612338,
          1.0146290491118084,
          1.0121212121212129,
          1.0133751306165106,
          1.0121212121212129,
          1.0156739811912234,
          1.0135841170323936,
          1.0127481713688617,
          1.0206896551724147,
          1.0173458725182871,
          1.0148380355276916,
          1.0229885057471273
         ]
        },
        {
         "name": "GLD",
         "type": "scatter",
         "x": [
          "2023-01-03T00:00:00",
          "2023-01-04T00:00:00",
          "2023-01-05T00:00:00",
          "2023-01-06T00:00:00",
          "2023-01-09T00:00:00",
          "2023-01-10T00:00:00",
          "2023-01-11T00:00:00",
          "2023-01-12T00:00:00",
          "2023-01-13T00:00:00",
          "2023-01-17T00:00:00",
          "2023-01-18T00:00:00",
          "2023-01-19T00:00:00",
          "2023-01-20T00:00:00",
          "2023-01-23T00:00:00",
          "2023-01-24T00:00:00",
          "2023-01-25T00:00:00",
          "2023-01-26T00:00:00",
          "2023-01-27T00:00:00",
          "2023-01-30T00:00:00",
          "2023-01-31T00:00:00",
          "2023-02-01T00:00:00",
          "2023-02-02T00:00:00",
          "2023-02-03T00:00:00",
          "2023-02-06T00:00:00",
          "2023-02-07T00:00:00",
          "2023-02-08T00:00:00",
          "2023-02-09T00:00:00",
          "2023-02-10T00:00:00",
          "2023-02-13T00:00:00",
          "2023-02-14T00:00:00",
          "2023-02-15T00:00:00",
          "2023-02-16T00:00:00",
          "2023-02-17T00:00:00",
          "2023-02-21T00:00:00",
          "2023-02-22T00:00:00",
          "2023-02-23T00:00:00",
          "2023-02-24T00:00:00",
          "2023-02-27T00:00:00",
          "2023-02-28T00:00:00",
          "2023-03-01T00:00:00",
          "2023-03-02T00:00:00",
          "2023-03-03T00:00:00",
          "2023-03-06T00:00:00",
          "2023-03-07T00:00:00",
          "2023-03-08T00:00:00",
          "2023-03-09T00:00:00",
          "2023-03-10T00:00:00",
          "2023-03-13T00:00:00",
          "2023-03-14T00:00:00",
          "2023-03-15T00:00:00",
          "2023-03-16T00:00:00",
          "2023-03-17T00:00:00",
          "2023-03-20T00:00:00",
          "2023-03-21T00:00:00",
          "2023-03-22T00:00:00",
          "2023-03-23T00:00:00",
          "2023-03-24T00:00:00",
          "2023-03-27T00:00:00",
          "2023-03-28T00:00:00",
          "2023-03-29T00:00:00",
          "2023-03-30T00:00:00",
          "2023-03-31T00:00:00",
          "2023-04-03T00:00:00",
          "2023-04-04T00:00:00",
          "2023-04-05T00:00:00",
          "2023-04-06T00:00:00",
          "2023-04-11T00:00:00",
          "2023-04-12T00:00:00",
          "2023-04-13T00:00:00",
          "2023-04-14T00:00:00",
          "2023-04-17T00:00:00",
          "2023-04-18T00:00:00",
          "2023-04-19T00:00:00",
          "2023-04-20T00:00:00",
          "2023-04-21T00:00:00",
          "2023-04-24T00:00:00",
          "2023-04-25T00:00:00",
          "2023-04-26T00:00:00",
          "2023-04-27T00:00:00",
          "2023-04-28T00:00:00"
         ],
         "y": [
          null,
          1.009411902256518,
          0.9968432129077517,
          1.0154916403601075,
          1.0177715421489535,
          1.02151291944347,
          1.020811411200748,
          1.0326201332865657,
          1.0450134455746516,
          1.0381737402081137,
          1.0351923301765458,
          1.0516193148602824,
          1.0481117736466732,
          1.0500993803343852,
          1.0538992166491286,
          1.0587513153279549,
          1.0491640360107561,
          1.0477025605050856,
          1.0450134455746518,
          1.0488132818893952,
          1.0620250204606565,
          1.039985969835145,
          1.0140301648544365,
          1.016134689582602,
          1.0170700339062313,
          1.0195837717759846,
          1.0115164269846832,
          1.0134455746521684,
          1.008301180872208,
          1.0090611481351568,
          0.9990061966561433,
          0.9981877703729679,
          1.0011691804045357,
          0.9974278031100192,
          0.9918157371682443,
          0.9912896059862029,
          0.9841576055185307,
          0.9880159008535009,
          0.9925172454109662,
          0.9982462293931946,
          0.9976616391909265,
          1.0083596398924348,
          1.0032737051327014,
          0.9857359990646551,
          0.9852683269028405,
          0.9949725242604929,
          1.0164269846837362,
          1.0397521337542377,
          1.0337308546708752,
          1.0417981994621763,
          1.0439027241903418,
          1.0743014147082888,
          1.0747106278498766,
          1.0544253478311698,
          1.0723722670408038,
          1.0858178416929727,
          1.073599906465567,
          1.0636618730270073,
          1.0723722670408036,
          1.0670524962001628,
          1.0766982345375884,
          1.0710861685958135,
          1.0788027592657539,
          1.0989126622237801,
          1.098035776920378,
          1.090202268209984,
          1.0889746287852207,
          1.0942943996258614,
          1.1090845317432472,
          1.0894423009470355,
          1.0845902022682092,
          1.0887992517245404,
          1.0835963989243533,
          1.087863907400911,
          1.077107447679176,
          1.080381152811878,
          1.085876300713199,
          1.0799719396702903,
          1.080030398690517,
          1.0803226937916515
         ]
        },
        {
         "name": "HEWJ",
         "type": "scatter",
         "x": [
          "2023-01-03T00:00:00",
          "2023-01-04T00:00:00",
          "2023-01-05T00:00:00",
          "2023-01-06T00:00:00",
          "2023-01-09T00:00:00",
          "2023-01-10T00:00:00",
          "2023-01-11T00:00:00",
          "2023-01-12T00:00:00",
          "2023-01-13T00:00:00",
          "2023-01-17T00:00:00",
          "2023-01-18T00:00:00",
          "2023-01-19T00:00:00",
          "2023-01-20T00:00:00",
          "2023-01-23T00:00:00",
          "2023-01-24T00:00:00",
          "2023-01-25T00:00:00",
          "2023-01-26T00:00:00",
          "2023-01-27T00:00:00",
          "2023-01-30T00:00:00",
          "2023-01-31T00:00:00",
          "2023-02-01T00:00:00",
          "2023-02-02T00:00:00",
          "2023-02-03T00:00:00",
          "2023-02-06T00:00:00",
          "2023-02-07T00:00:00",
          "2023-02-08T00:00:00",
          "2023-02-09T00:00:00",
          "2023-02-10T00:00:00",
          "2023-02-13T00:00:00",
          "2023-02-14T00:00:00",
          "2023-02-15T00:00:00",
          "2023-02-16T00:00:00",
          "2023-02-17T00:00:00",
          "2023-02-21T00:00:00",
          "2023-02-22T00:00:00",
          "2023-02-23T00:00:00",
          "2023-02-24T00:00:00",
          "2023-02-27T00:00:00",
          "2023-02-28T00:00:00",
          "2023-03-01T00:00:00",
          "2023-03-02T00:00:00",
          "2023-03-03T00:00:00",
          "2023-03-06T00:00:00",
          "2023-03-07T00:00:00",
          "2023-03-08T00:00:00",
          "2023-03-09T00:00:00",
          "2023-03-10T00:00:00",
          "2023-03-13T00:00:00",
          "2023-03-14T00:00:00",
          "2023-03-15T00:00:00",
          "2023-03-16T00:00:00",
          "2023-03-17T00:00:00",
          "2023-03-20T00:00:00",
          "2023-03-21T00:00:00",
          "2023-03-22T00:00:00",
          "2023-03-23T00:00:00",
          "2023-03-24T00:00:00",
          "2023-03-27T00:00:00",
          "2023-03-28T00:00:00",
          "2023-03-29T00:00:00",
          "2023-03-30T00:00:00",
          "2023-03-31T00:00:00",
          "2023-04-03T00:00:00",
          "2023-04-04T00:00:00",
          "2023-04-05T00:00:00",
          "2023-04-06T00:00:00",
          "2023-04-11T00:00:00",
          "2023-04-12T00:00:00",
          "2023-04-13T00:00:00",
          "2023-04-14T00:00:00",
          "2023-04-17T00:00:00",
          "2023-04-18T00:00:00",
          "2023-04-19T00:00:00",
          "2023-04-20T00:00:00",
          "2023-04-21T00:00:00",
          "2023-04-24T00:00:00",
          "2023-04-25T00:00:00",
          "2023-04-26T00:00:00",
          "2023-04-27T00:00:00",
          "2023-04-28T00:00:00"
         ],
         "y": [
          null,
          1.0038124285169652,
          0.9958063286313381,
          1.0110560426991992,
          1.0110560426991992,
          1.0121997712542887,
          1.0224933282500952,
          1.0209683568433092,
          1.0152497140678611,
          1.0282119710255433,
          1.0320243995425087,
          1.02859321387724,
          1.0495615707205492,
          1.055280213495997,
          1.0583301563095695,
          1.0670987418985896,
          1.070911170415555,
          1.071673656118948,
          1.0693861990087687,
          1.0705299275638582,
          1.0632863133816242,
          1.0613800991231415,
          1.069004956157072,
          1.0709111704155547,
          1.0747235989325201,
          1.0655737704918034,
          1.0686237133053755,
          1.0728173846740372,
          1.0789172703011818,
          1.0796797560045748,
          1.0781547845977888,
          1.0735798703774304,
          1.0766298131910026,
          1.0693861990087685,
          1.0613800991231412,
          1.0693861990087683,
          1.0686237133053753,
          1.0766298131910024,
          1.0720548989706442,
          1.073961113229127,
          1.0792985131528783,
          1.0983606557377048,
          1.0987418985894013,
          1.0995043842927943,
          1.1132291269538694,
          1.1033168128097597,
          1.0789172703011818,
          1.0568051849027829,
          1.0606176134197483,
          1.0327868852459015,
          1.0552802134959967,
          1.0373617994662596,
          1.0480365993137624,
          1.0629050705299272,
          1.049942813572245,
          1.049180327868852,
          1.054136484940907,
          1.066336256195196,
          1.0625238276782307,
          1.0827296988181467,
          1.0861608844834156,
          1.1010293556995805,
          1.1056042699199389,
          1.0975981700343116,
          1.0789172703011816,
          1.0777735417460919,
          1.0953107129241324,
          1.0956919557758287,
          1.1075104841784211,
          1.1082729698818141,
          1.1174227983225309,
          1.1208539839877996,
          1.1178040411742274,
          1.1178040411742274,
          1.121997712542889,
          1.1235226839496752,
          1.1101791841402968,
          1.1075104841784211,
          1.1280975981700336,
          1.1380099123141436
         ]
        },
        {
         "name": "IEMG",
         "type": "scatter",
         "x": [
          "2023-01-03T00:00:00",
          "2023-01-04T00:00:00",
          "2023-01-05T00:00:00",
          "2023-01-06T00:00:00",
          "2023-01-09T00:00:00",
          "2023-01-10T00:00:00",
          "2023-01-11T00:00:00",
          "2023-01-12T00:00:00",
          "2023-01-13T00:00:00",
          "2023-01-17T00:00:00",
          "2023-01-18T00:00:00",
          "2023-01-19T00:00:00",
          "2023-01-20T00:00:00",
          "2023-01-23T00:00:00",
          "2023-01-24T00:00:00",
          "2023-01-25T00:00:00",
          "2023-01-26T00:00:00",
          "2023-01-27T00:00:00",
          "2023-01-30T00:00:00",
          "2023-01-31T00:00:00",
          "2023-02-01T00:00:00",
          "2023-02-02T00:00:00",
          "2023-02-03T00:00:00",
          "2023-02-06T00:00:00",
          "2023-02-07T00:00:00",
          "2023-02-08T00:00:00",
          "2023-02-09T00:00:00",
          "2023-02-10T00:00:00",
          "2023-02-13T00:00:00",
          "2023-02-14T00:00:00",
          "2023-02-15T00:00:00",
          "2023-02-16T00:00:00",
          "2023-02-17T00:00:00",
          "2023-02-21T00:00:00",
          "2023-02-22T00:00:00",
          "2023-02-23T00:00:00",
          "2023-02-24T00:00:00",
          "2023-02-27T00:00:00",
          "2023-02-28T00:00:00",
          "2023-03-01T00:00:00",
          "2023-03-02T00:00:00",
          "2023-03-03T00:00:00",
          "2023-03-06T00:00:00",
          "2023-03-07T00:00:00",
          "2023-03-08T00:00:00",
          "2023-03-09T00:00:00",
          "2023-03-10T00:00:00",
          "2023-03-13T00:00:00",
          "2023-03-14T00:00:00",
          "2023-03-15T00:00:00",
          "2023-03-16T00:00:00",
          "2023-03-17T00:00:00",
          "2023-03-20T00:00:00",
          "2023-03-21T00:00:00",
          "2023-03-22T00:00:00",
          "2023-03-23T00:00:00",
          "2023-03-24T00:00:00",
          "2023-03-27T00:00:00",
          "2023-03-28T00:00:00",
          "2023-03-29T00:00:00",
          "2023-03-30T00:00:00",
          "2023-03-31T00:00:00",
          "2023-04-03T00:00:00",
          "2023-04-04T00:00:00",
          "2023-04-05T00:00:00",
          "2023-04-06T00:00:00",
          "2023-04-11T00:00:00",
          "2023-04-12T00:00:00",
          "2023-04-13T00:00:00",
          "2023-04-14T00:00:00",
          "2023-04-17T00:00:00",
          "2023-04-18T00:00:00",
          "2023-04-19T00:00:00",
          "2023-04-20T00:00:00",
          "2023-04-21T00:00:00",
          "2023-04-24T00:00:00",
          "2023-04-25T00:00:00",
          "2023-04-26T00:00:00",
          "2023-04-27T00:00:00",
          "2023-04-28T00:00:00"
         ],
         "y": [
          null,
          1.029105587422987,
          1.0240067983853836,
          1.0461015508816656,
          1.0535372848948377,
          1.0605481198215425,
          1.0662842574888465,
          1.0713830465264502,
          1.0771191841937544,
          1.0715954960696839,
          1.0643722115997454,
          1.0728701933290847,
          1.087954110898662,
          1.0960271935415342,
          1.0958147439983006,
          1.0970894412577015,
          1.1072870193329085,
          1.1013384321223711,
          1.080093477799023,
          1.0807308264287234,
          1.0943275971956663,
          1.0883790099851287,
          1.0692585510941153,
          1.055449330783939,
          1.0596983216486087,
          1.0573613766730403,
          1.0624601657106436,
          1.0531123858083704,
          1.0616103675377098,
          1.058636073932441,
          1.0503505417463352,
          1.051200339919269,
          1.0420650095602293,
          1.0291055874229869,
          1.0244316974718504,
          1.0297429360526875,
          1.007860633099639,
          1.0127469725940093,
          1.0059485872105378,
          1.027618440620353,
          1.0312300828553222,
          1.0399405141278952,
          1.0369662205226264,
          1.0199702570639477,
          1.0250690461015513,
          1.0031867431485024,
          0.9983004036541324,
          0.9985128531973658,
          0.9985128531973658,
          0.9815168897386873,
          0.9957510091353304,
          0.989377522838326,
          0.9927767155300616,
          1.0025493945188018,
          1.006161036753771,
          1.0184831102613128,
          1.0165710643722115,
          1.0114722753346077,
          1.0242192479286167,
          1.0271935415338853,
          1.0380284682387928,
          1.0365413214361585,
          1.0395156150414273,
          1.0399405141278943,
          1.031442532398555,
          1.035903972806458,
          1.0452517527087313,
          1.0386658168684932,
          1.0533248353516034,
          1.046951349054599,
          1.0516252390057355,
          1.049713193116634,
          1.0390907159549598,
          1.0371786700658587,
          1.0274059910771185,
          1.0257063947312506,
          1.0059485872105367,
          1.0131718716804752,
          1.0269810919906517,
          1.0320798810282552
         ]
        },
        {
         "name": "IGF",
         "type": "scatter",
         "x": [
          "2023-01-03T00:00:00",
          "2023-01-04T00:00:00",
          "2023-01-05T00:00:00",
          "2023-01-06T00:00:00",
          "2023-01-09T00:00:00",
          "2023-01-10T00:00:00",
          "2023-01-11T00:00:00",
          "2023-01-12T00:00:00",
          "2023-01-13T00:00:00",
          "2023-01-17T00:00:00",
          "2023-01-18T00:00:00",
          "2023-01-19T00:00:00",
          "2023-01-20T00:00:00",
          "2023-01-23T00:00:00",
          "2023-01-24T00:00:00",
          "2023-01-25T00:00:00",
          "2023-01-26T00:00:00",
          "2023-01-27T00:00:00",
          "2023-01-30T00:00:00",
          "2023-01-31T00:00:00",
          "2023-02-01T00:00:00",
          "2023-02-02T00:00:00",
          "2023-02-03T00:00:00",
          "2023-02-06T00:00:00",
          "2023-02-07T00:00:00",
          "2023-02-08T00:00:00",
          "2023-02-09T00:00:00",
          "2023-02-10T00:00:00",
          "2023-02-13T00:00:00",
          "2023-02-14T00:00:00",
          "2023-02-15T00:00:00",
          "2023-02-16T00:00:00",
          "2023-02-17T00:00:00",
          "2023-02-21T00:00:00",
          "2023-02-22T00:00:00",
          "2023-02-23T00:00:00",
          "2023-02-24T00:00:00",
          "2023-02-27T00:00:00",
          "2023-02-28T00:00:00",
          "2023-03-01T00:00:00",
          "2023-03-02T00:00:00",
          "2023-03-03T00:00:00",
          "2023-03-06T00:00:00",
          "2023-03-07T00:00:00",
          "2023-03-08T00:00:00",
          "2023-03-09T00:00:00",
          "2023-03-10T00:00:00",
          "2023-03-13T00:00:00",
          "2023-03-14T00:00:00",
          "2023-03-15T00:00:00",
          "2023-03-16T00:00:00",
          "2023-03-17T00:00:00",
          "2023-03-20T00:00:00",
          "2023-03-21T00:00:00",
          "2023-03-22T00:00:00",
          "2023-03-23T00:00:00",
          "2023-03-24T00:00:00",
          "2023-03-27T00:00:00",
          "2023-03-28T00:00:00",
          "2023-03-29T00:00:00",
          "2023-03-30T00:00:00",
          "2023-03-31T00:00:00",
          "2023-04-03T00:00:00",
          "2023-04-04T00:00:00",
          "2023-04-05T00:00:00",
          "2023-04-06T00:00:00",
          "2023-04-11T00:00:00",
          "2023-04-12T00:00:00",
          "2023-04-13T00:00:00",
          "2023-04-14T00:00:00",
          "2023-04-17T00:00:00",
          "2023-04-18T00:00:00",
          "2023-04-19T00:00:00",
          "2023-04-20T00:00:00",
          "2023-04-21T00:00:00",
          "2023-04-24T00:00:00",
          "2023-04-25T00:00:00",
          "2023-04-26T00:00:00",
          "2023-04-27T00:00:00",
          "2023-04-28T00:00:00"
         ],
         "y": [
          null,
          1.0146192450360028,
          1.010909884355226,
          1.0322932576914687,
          1.0388391883046042,
          1.0355662229980365,
          1.0462579096661577,
          1.0549858171503383,
          1.0571677940213835,
          1.05651320096007,
          1.045166921230635,
          1.0462579096661575,
          1.0584769801440104,
          1.0591315732053241,
          1.061749945450578,
          1.0589133755182194,
          1.0606589570150555,
          1.0578223870826968,
          1.0453851189177394,
          1.0530220379663975,
          1.0624045385118916,
          1.061749945450578,
          1.045166921230635,
          1.0423303512982764,
          1.0456033166048442,
          1.036657211433559,
          1.0320750600043642,
          1.037530002181977,
          1.0490944795985164,
          1.0449487235435306,
          1.0458215142919487,
          1.0386209906174997,
          1.0401483744272313,
          1.0211651756491382,
          1.019419594152302,
          1.0268383155138556,
          1.019419594152302,
          1.0220379663975565,
          1.015055640410212,
          1.0157102334715253,
          1.0220379663975565,
          1.03622081605935,
          1.0327296530656775,
          1.0157102334715251,
          1.0213833733362427,
          1.0106916866681215,
          1.0076369190486583,
          1.010473488981017,
          1.0211651756491382,
          1.0069823259873447,
          1.016801221907048,
          1.005018546803404,
          1.0130918612262712,
          1.0141828496617937,
          1.0041457560549862,
          1.0000000000000002,
          1.0043639537420905,
          1.0128736635391666,
          1.018110408029675,
          1.0322932576914687,
          1.0401483744272313,
          1.040802967488545,
          1.0438577351080083,
          1.045821514291949,
          1.0554222125245476,
          1.0597861662666381,
          1.064804713070042,
          1.066113899192669,
          1.0711324459960732,
          1.0617499454505788,
          1.0650229107571465,
          1.0600043639537424,
          1.06567750381846,
          1.0632773292603104,
          1.0624045385118923,
          1.070259655247655,
          1.0602225616408474,
          1.0528038402792936,
          1.0645865153829375,
          1.0685140737508187
         ]
        },
        {
         "name": "IGM",
         "type": "scatter",
         "x": [
          "2023-01-03T00:00:00",
          "2023-01-04T00:00:00",
          "2023-01-05T00:00:00",
          "2023-01-06T00:00:00",
          "2023-01-09T00:00:00",
          "2023-01-10T00:00:00",
          "2023-01-11T00:00:00",
          "2023-01-12T00:00:00",
          "2023-01-13T00:00:00",
          "2023-01-17T00:00:00",
          "2023-01-18T00:00:00",
          "2023-01-19T00:00:00",
          "2023-01-20T00:00:00",
          "2023-01-23T00:00:00",
          "2023-01-24T00:00:00",
          "2023-01-25T00:00:00",
          "2023-01-26T00:00:00",
          "2023-01-27T00:00:00",
          "2023-01-30T00:00:00",
          "2023-01-31T00:00:00",
          "2023-02-01T00:00:00",
          "2023-02-02T00:00:00",
          "2023-02-03T00:00:00",
          "2023-02-06T00:00:00",
          "2023-02-07T00:00:00",
          "2023-02-08T00:00:00",
          "2023-02-09T00:00:00",
          "2023-02-10T00:00:00",
          "2023-02-13T00:00:00",
          "2023-02-14T00:00:00",
          "2023-02-15T00:00:00",
          "2023-02-16T00:00:00",
          "2023-02-17T00:00:00",
          "2023-02-21T00:00:00",
          "2023-02-22T00:00:00",
          "2023-02-23T00:00:00",
          "2023-02-24T00:00:00",
          "2023-02-27T00:00:00",
          "2023-02-28T00:00:00",
          "2023-03-01T00:00:00",
          "2023-03-02T00:00:00",
          "2023-03-03T00:00:00",
          "2023-03-06T00:00:00",
          "2023-03-07T00:00:00",
          "2023-03-08T00:00:00",
          "2023-03-09T00:00:00",
          "2023-03-10T00:00:00",
          "2023-03-13T00:00:00",
          "2023-03-14T00:00:00",
          "2023-03-15T00:00:00",
          "2023-03-16T00:00:00",
          "2023-03-17T00:00:00",
          "2023-03-20T00:00:00",
          "2023-03-21T00:00:00",
          "2023-03-22T00:00:00",
          "2023-03-23T00:00:00",
          "2023-03-24T00:00:00",
          "2023-03-27T00:00:00",
          "2023-03-28T00:00:00",
          "2023-03-29T00:00:00",
          "2023-03-30T00:00:00",
          "2023-03-31T00:00:00",
          "2023-04-03T00:00:00",
          "2023-04-04T00:00:00",
          "2023-04-05T00:00:00",
          "2023-04-06T00:00:00",
          "2023-04-11T00:00:00",
          "2023-04-12T00:00:00",
          "2023-04-13T00:00:00",
          "2023-04-14T00:00:00",
          "2023-04-17T00:00:00",
          "2023-04-18T00:00:00",
          "2023-04-19T00:00:00",
          "2023-04-20T00:00:00",
          "2023-04-21T00:00:00",
          "2023-04-24T00:00:00",
          "2023-04-25T00:00:00",
          "2023-04-26T00:00:00",
          "2023-04-27T00:00:00",
          "2023-04-28T00:00:00"
         ],
         "y": [
          null,
          1.0075765698152317,
          0.9863121403809728,
          1.0139380293770772,
          1.0268396411850897,
          1.0358457524748934,
          1.0563239340981379,
          1.0640791965976912,
          1.0704406561595368,
          1.0717272434866516,
          1.0584682463099961,
          1.047889639398163,
          1.0812336942925558,
          1.107430041814088,
          1.1009256281047852,
          1.0981022836925054,
          1.117401093599228,
          1.1264786819627604,
          1.1034273256852865,
          1.121796933633537,
          1.1496372538508273,
          1.1964547371430612,
          1.1703298666952575,
          1.1554626353597084,
          1.1811943819020048,
          1.1576426861084306,
          1.1468853865122761,
          1.1357707015474785,
          1.1531396304635286,
          1.1607519388156247,
          1.1701511740109358,
          1.1480290196919336,
          1.1331975268932488,
          1.1063221471712947,
          1.1065008398556162,
          1.1203316536221006,
          1.101604660305207,
          1.1053929452128228,
          1.1071441335191736,
          1.09913870126157,
          1.1114327579428895,
          1.1358064400843426,
          1.1372002430220503,
          1.1236553375504805,
          1.1328044029877415,
          1.11218326721704,
          1.0897752046031235,
          1.0940638290268394,
          1.1224402272970941,
          1.1239412458453948,
          1.1578571173296162,
          1.1516028733783634,
          1.1541045709588644,
          1.1736178120867726,
          1.1566420070762298,
          1.1733319037918581,
          1.1724027018333865,
          1.1652907329973907,
          1.1581787641613948,
          1.180801257996497,
          1.1924877595511236,
          1.2126800328794536,
          1.2108931060362387,
          1.2060326650226938,
          1.1900932775812156,
          1.1981344483756833,
          1.1908795253922304,
          1.180622565312176,
          1.204853293306172,
          1.2030663664629568,
          1.2032807976841426,
          1.2046388620849862,
          1.2008505771773703,
          1.194417640541796,
          1.1955612737214536,
          1.191665773203245,
          1.163753975912226,
          1.171938100854151,
          1.2022801186519425,
          1.2085701011400596
         ]
        },
        {
         "name": "IWQU.L",
         "type": "scatter",
         "x": [
          "2023-01-03T00:00:00",
          "2023-01-04T00:00:00",
          "2023-01-05T00:00:00",
          "2023-01-06T00:00:00",
          "2023-01-09T00:00:00",
          "2023-01-10T00:00:00",
          "2023-01-11T00:00:00",
          "2023-01-12T00:00:00",
          "2023-01-13T00:00:00",
          "2023-01-17T00:00:00",
          "2023-01-18T00:00:00",
          "2023-01-19T00:00:00",
          "2023-01-20T00:00:00",
          "2023-01-23T00:00:00",
          "2023-01-24T00:00:00",
          "2023-01-25T00:00:00",
          "2023-01-26T00:00:00",
          "2023-01-27T00:00:00",
          "2023-01-30T00:00:00",
          "2023-01-31T00:00:00",
          "2023-02-01T00:00:00",
          "2023-02-02T00:00:00",
          "2023-02-03T00:00:00",
          "2023-02-06T00:00:00",
          "2023-02-07T00:00:00",
          "2023-02-08T00:00:00",
          "2023-02-09T00:00:00",
          "2023-02-10T00:00:00",
          "2023-02-13T00:00:00",
          "2023-02-14T00:00:00",
          "2023-02-15T00:00:00",
          "2023-02-16T00:00:00",
          "2023-02-17T00:00:00",
          "2023-02-21T00:00:00",
          "2023-02-22T00:00:00",
          "2023-02-23T00:00:00",
          "2023-02-24T00:00:00",
          "2023-02-27T00:00:00",
          "2023-02-28T00:00:00",
          "2023-03-01T00:00:00",
          "2023-03-02T00:00:00",
          "2023-03-03T00:00:00",
          "2023-03-06T00:00:00",
          "2023-03-07T00:00:00",
          "2023-03-08T00:00:00",
          "2023-03-09T00:00:00",
          "2023-03-10T00:00:00",
          "2023-03-13T00:00:00",
          "2023-03-14T00:00:00",
          "2023-03-15T00:00:00",
          "2023-03-16T00:00:00",
          "2023-03-17T00:00:00",
          "2023-03-20T00:00:00",
          "2023-03-21T00:00:00",
          "2023-03-22T00:00:00",
          "2023-03-23T00:00:00",
          "2023-03-24T00:00:00",
          "2023-03-27T00:00:00",
          "2023-03-28T00:00:00",
          "2023-03-29T00:00:00",
          "2023-03-30T00:00:00",
          "2023-03-31T00:00:00",
          "2023-04-03T00:00:00",
          "2023-04-04T00:00:00",
          "2023-04-05T00:00:00",
          "2023-04-06T00:00:00",
          "2023-04-11T00:00:00",
          "2023-04-12T00:00:00",
          "2023-04-13T00:00:00",
          "2023-04-14T00:00:00",
          "2023-04-17T00:00:00",
          "2023-04-18T00:00:00",
          "2023-04-19T00:00:00",
          "2023-04-20T00:00:00",
          "2023-04-21T00:00:00",
          "2023-04-24T00:00:00",
          "2023-04-25T00:00:00",
          "2023-04-26T00:00:00",
          "2023-04-27T00:00:00",
          "2023-04-28T00:00:00"
         ],
         "y": [
          null,
          1.0117046180038305,
          0.9989359438178335,
          1.0191530112789955,
          1.0372419663758248,
          1.023834858480528,
          1.0346882315386252,
          1.0434134922323899,
          1.044264737178123,
          1.0512875079804214,
          1.048095339433922,
          1.029367950627793,
          1.0395828899765909,
          1.0580974675462864,
          1.05639497765482,
          1.049585018088955,
          1.0566077888912535,
          1.0655458608214514,
          1.0589487124920196,
          1.0583102787827197,
          1.0612896360927857,
          1.0906575867205788,
          1.090870397957012,
          1.0736326878059161,
          1.0732070653330494,
          1.0725686316237495,
          1.0751223664609488,
          1.0621408810385184,
          1.0744839327516489,
          1.0719301979144493,
          1.0710789529687161,
          1.070866141732283,
          1.056820600127686,
          1.0487337731432214,
          1.0429878697595225,
          1.0417110023409228,
          1.0323473079378582,
          1.0397957012130232,
          1.0397957012130232,
          1.0353266652479243,
          1.034475420302191,
          1.050861885507554,
          1.0621408810385178,
          1.047244094488188,
          1.0412853798680561,
          1.0455416045967219,
          1.0329857416471582,
          1.017024898914662,
          1.0287295169184927,
          1.0065971483294311,
          1.0276654607363263,
          1.028303894445626,
          1.0323473079378582,
          1.042562247286656,
          1.0466056607788883,
          1.0527771866354536,
          1.0374547776122574,
          1.0449031708874224,
          1.0444775484145556,
          1.0540540540540533,
          1.0638433709299844,
          1.0721430091508826,
          1.0778889125345812,
          1.076186422643115,
          1.0727814428601825,
          1.0727814428601825,
          1.0817195147903804,
          1.0827835709725468,
          1.0878910406469455,
          1.0887422855926785,
          1.0851244945733127,
          1.092147265375611,
          1.088316663119812,
          1.0900191530112782,
          1.0900191530112782,
          1.0900191530112782,
          1.0836348159182798,
          1.0776761012981477,
          1.0827835709725464,
          1.093849755267077
         ]
        },
        {
         "name": "IXJ",
         "type": "scatter",
         "x": [
          "2023-01-03T00:00:00",
          "2023-01-04T00:00:00",
          "2023-01-05T00:00:00",
          "2023-01-06T00:00:00",
          "2023-01-09T00:00:00",
          "2023-01-10T00:00:00",
          "2023-01-11T00:00:00",
          "2023-01-12T00:00:00",
          "2023-01-13T00:00:00",
          "2023-01-17T00:00:00",
          "2023-01-18T00:00:00",
          "2023-01-19T00:00:00",
          "2023-01-20T00:00:00",
          "2023-01-23T00:00:00",
          "2023-01-24T00:00:00",
          "2023-01-25T00:00:00",
          "2023-01-26T00:00:00",
          "2023-01-27T00:00:00",
          "2023-01-30T00:00:00",
          "2023-01-31T00:00:00",
          "2023-02-01T00:00:00",
          "2023-02-02T00:00:00",
          "2023-02-03T00:00:00",
          "2023-02-06T00:00:00",
          "2023-02-07T00:00:00",
          "2023-02-08T00:00:00",
          "2023-02-09T00:00:00",
          "2023-02-10T00:00:00",
          "2023-02-13T00:00:00",
          "2023-02-14T00:00:00",
          "2023-02-15T00:00:00",
          "2023-02-16T00:00:00",
          "2023-02-17T00:00:00",
          "2023-02-21T00:00:00",
          "2023-02-22T00:00:00",
          "2023-02-23T00:00:00",
          "2023-02-24T00:00:00",
          "2023-02-27T00:00:00",
          "2023-02-28T00:00:00",
          "2023-03-01T00:00:00",
          "2023-03-02T00:00:00",
          "2023-03-03T00:00:00",
          "2023-03-06T00:00:00",
          "2023-03-07T00:00:00",
          "2023-03-08T00:00:00",
          "2023-03-09T00:00:00",
          "2023-03-10T00:00:00",
          "2023-03-13T00:00:00",
          "2023-03-14T00:00:00",
          "2023-03-15T00:00:00",
          "2023-03-16T00:00:00",
          "2023-03-17T00:00:00",
          "2023-03-20T00:00:00",
          "2023-03-21T00:00:00",
          "2023-03-22T00:00:00",
          "2023-03-23T00:00:00",
          "2023-03-24T00:00:00",
          "2023-03-27T00:00:00",
          "2023-03-28T00:00:00",
          "2023-03-29T00:00:00",
          "2023-03-30T00:00:00",
          "2023-03-31T00:00:00",
          "2023-04-03T00:00:00",
          "2023-04-04T00:00:00",
          "2023-04-05T00:00:00",
          "2023-04-06T00:00:00",
          "2023-04-11T00:00:00",
          "2023-04-12T00:00:00",
          "2023-04-13T00:00:00",
          "2023-04-14T00:00:00",
          "2023-04-17T00:00:00",
          "2023-04-18T00:00:00",
          "2023-04-19T00:00:00",
          "2023-04-20T00:00:00",
          "2023-04-21T00:00:00",
          "2023-04-24T00:00:00",
          "2023-04-25T00:00:00",
          "2023-04-26T00:00:00",
          "2023-04-27T00:00:00",
          "2023-04-28T00:00:00"
         ],
         "y": [
          null,
          1.003061705134244,
          0.9928167687235046,
          1.004003768252473,
          0.9909326424870467,
          0.997527084314649,
          1.000235515779557,
          0.9996467263306641,
          1.0068299576071598,
          1.005181347150259,
          0.994818652849741,
          0.996349505416863,
          1.0003532736693361,
          1.0035327366933589,
          0.9956429580781917,
          0.9978803579839852,
          0.9974093264248709,
          0.9906971267074898,
          0.9833961375412158,
          0.9941121055110697,
          0.9956429580781916,
          0.9885774846914748,
          0.9865756005652383,
          0.9819830428638723,
          0.9889307583608107,
          0.9877531794630244,
          0.9815120113047578,
          0.9868111163447955,
          0.9949364107395199,
          0.990932642487047,
          0.9853980216674522,
          0.9753886010362698,
          0.9849269901083376,
          0.972915685350919,
          0.9702072538860108,
          0.9726801695713616,
          0.9594912859161568,
          0.9579604333490347,
          0.9491285916156386,
          0.9471267074894022,
          0.9516015073009896,
          0.9631417804992939,
          0.9618464437117291,
          0.946537918040509,
          0.9435939707960437,
          0.9359397079604338,
          0.9311116344795104,
          0.9380593499764488,
          0.9465379180405091,
          0.9411210551106929,
          0.9510127178520966,
          0.9421808761187005,
          0.9541921808761192,
          0.9609043805935003,
          0.9498351389543105,
          0.9499528968440891,
          0.960668864813943,
          0.9687941592086675,
          0.9633772962788514,
          0.966792275082431,
          0.9731512011304764,
          0.9816297691945366,
          0.9916391898257189,
          0.9924634950541693,
          1.0077720207253893,
          1.0128356099858697,
          1.01365991521432,
          1.0170748940179,
          1.0317946302402268,
          1.0244936410739527,
          1.0248469147432886,
          1.0195478097032509,
          1.018959020254358,
          1.0166038624587856,
          1.0273198304286397,
          1.0309703250117768,
          1.0219029674988234,
          1.0087140838436184,
          1.0120113047574195,
          1.0168393782383427
         ]
        },
        {
         "name": "JNK",
         "type": "scatter",
         "x": [
          "2023-01-03T00:00:00",
          "2023-01-04T00:00:00",
          "2023-01-05T00:00:00",
          "2023-01-06T00:00:00",
          "2023-01-09T00:00:00",
          "2023-01-10T00:00:00",
          "2023-01-11T00:00:00",
          "2023-01-12T00:00:00",
          "2023-01-13T00:00:00",
          "2023-01-17T00:00:00",
          "2023-01-18T00:00:00",
          "2023-01-19T00:00:00",
          "2023-01-20T00:00:00",
          "2023-01-23T00:00:00",
          "2023-01-24T00:00:00",
          "2023-01-25T00:00:00",
          "2023-01-26T00:00:00",
          "2023-01-27T00:00:00",
          "2023-01-30T00:00:00",
          "2023-01-31T00:00:00",
          "2023-02-01T00:00:00",
          "2023-02-02T00:00:00",
          "2023-02-03T00:00:00",
          "2023-02-06T00:00:00",
          "2023-02-07T00:00:00",
          "2023-02-08T00:00:00",
          "2023-02-09T00:00:00",
          "2023-02-10T00:00:00",
          "2023-02-13T00:00:00",
          "2023-02-14T00:00:00",
          "2023-02-15T00:00:00",
          "2023-02-16T00:00:00",
          "2023-02-17T00:00:00",
          "2023-02-21T00:00:00",
          "2023-02-22T00:00:00",
          "2023-02-23T00:00:00",
          "2023-02-24T00:00:00",
          "2023-02-27T00:00:00",
          "2023-02-28T00:00:00",
          "2023-03-01T00:00:00",
          "2023-03-02T00:00:00",
          "2023-03-03T00:00:00",
          "2023-03-06T00:00:00",
          "2023-03-07T00:00:00",
          "2023-03-08T00:00:00",
          "2023-03-09T00:00:00",
          "2023-03-10T00:00:00",
          "2023-03-13T00:00:00",
          "2023-03-14T00:00:00",
          "2023-03-15T00:00:00",
          "2023-03-16T00:00:00",
          "2023-03-17T00:00:00",
          "2023-03-20T00:00:00",
          "2023-03-21T00:00:00",
          "2023-03-22T00:00:00",
          "2023-03-23T00:00:00",
          "2023-03-24T00:00:00",
          "2023-03-27T00:00:00",
          "2023-03-28T00:00:00",
          "2023-03-29T00:00:00",
          "2023-03-30T00:00:00",
          "2023-03-31T00:00:00",
          "2023-04-03T00:00:00",
          "2023-04-04T00:00:00",
          "2023-04-05T00:00:00",
          "2023-04-06T00:00:00",
          "2023-04-11T00:00:00",
          "2023-04-12T00:00:00",
          "2023-04-13T00:00:00",
          "2023-04-14T00:00:00",
          "2023-04-17T00:00:00",
          "2023-04-18T00:00:00",
          "2023-04-19T00:00:00",
          "2023-04-20T00:00:00",
          "2023-04-21T00:00:00",
          "2023-04-24T00:00:00",
          "2023-04-25T00:00:00",
          "2023-04-26T00:00:00",
          "2023-04-27T00:00:00",
          "2023-04-28T00:00:00"
         ],
         "y": [
          null,
          1.0123087159015303,
          1.0104235972499445,
          1.0250609891328453,
          1.029496562430694,
          1.0281658904413393,
          1.0354845863827897,
          1.0410290530051007,
          1.0419161676646704,
          1.0389221556886226,
          1.0399201596806384,
          1.033045021068973,
          1.0355954757152361,
          1.0342648037258815,
          1.0355954757152361,
          1.0355954757152361,
          1.0382568196939452,
          1.0355954757152361,
          1.0301618984253713,
          1.0382568196939452,
          1.0425815036593478,
          1.0493457529385672,
          1.0387003770237304,
          1.0326014637391885,
          1.0365934797072522,
          1.0326014637391883,
          1.0251718784652917,
          1.017187846529164,
          1.0200709691727656,
          1.0201818585052118,
          1.0186294078509648,
          1.0099800399201597,
          1.0133067198935464,
          0.9973386560212909,
          1.0046573519627413,
          1.0147482812153474,
          1.0088711465956979,
          1.0153027278775786,
          1.0134176092259928,
          1.004879130627634,
          1.005433577289865,
          1.0157462852073633,
          1.016522510534487,
          1.0099800399201602,
          1.0048791306276341,
          0.9986693280106458,
          0.9983366600133071,
          0.993235750720781,
          1.0009980039920163,
          0.9964515413617213,
          1.0029940119760483,
          0.9970059880239525,
          0.9943446440452433,
          1.0056553559547576,
          1.0067642492792197,
          1.003437569305833,
          1.0006653359946776,
          0.9991128853404305,
          0.9988911066755382,
          1.0106453759148373,
          1.0172987358616103,
          1.0292747837658018,
          1.0233976491461523,
          1.0198491905078733,
          1.0140829452206699,
          1.0189620758483036,
          1.0198491905078733,
          1.019183854513196,
          1.0269461077844313,
          1.0243956531381682,
          1.0216234198270127,
          1.022732313151475,
          1.0189620758483036,
          1.0182967398536262,
          1.0210689731647817,
          1.0240629851408296,
          1.022177866489244,
          1.01818585052118,
          1.0216234198270129,
          1.0256154357950766
         ]
        },
        {
         "name": "JPST",
         "type": "scatter",
         "x": [
          "2023-01-03T00:00:00",
          "2023-01-04T00:00:00",
          "2023-01-05T00:00:00",
          "2023-01-06T00:00:00",
          "2023-01-09T00:00:00",
          "2023-01-10T00:00:00",
          "2023-01-11T00:00:00",
          "2023-01-12T00:00:00",
          "2023-01-13T00:00:00",
          "2023-01-17T00:00:00",
          "2023-01-18T00:00:00",
          "2023-01-19T00:00:00",
          "2023-01-20T00:00:00",
          "2023-01-23T00:00:00",
          "2023-01-24T00:00:00",
          "2023-01-25T00:00:00",
          "2023-01-26T00:00:00",
          "2023-01-27T00:00:00",
          "2023-01-30T00:00:00",
          "2023-01-31T00:00:00",
          "2023-02-01T00:00:00",
          "2023-02-02T00:00:00",
          "2023-02-03T00:00:00",
          "2023-02-06T00:00:00",
          "2023-02-07T00:00:00",
          "2023-02-08T00:00:00",
          "2023-02-09T00:00:00",
          "2023-02-10T00:00:00",
          "2023-02-13T00:00:00",
          "2023-02-14T00:00:00",
          "2023-02-15T00:00:00",
          "2023-02-16T00:00:00",
          "2023-02-17T00:00:00",
          "2023-02-21T00:00:00",
          "2023-02-22T00:00:00",
          "2023-02-23T00:00:00",
          "2023-02-24T00:00:00",
          "2023-02-27T00:00:00",
          "2023-02-28T00:00:00",
          "2023-03-01T00:00:00",
          "2023-03-02T00:00:00",
          "2023-03-03T00:00:00",
          "2023-03-06T00:00:00",
          "2023-03-07T00:00:00",
          "2023-03-08T00:00:00",
          "2023-03-09T00:00:00",
          "2023-03-10T00:00:00",
          "2023-03-13T00:00:00",
          "2023-03-14T00:00:00",
          "2023-03-15T00:00:00",
          "2023-03-16T00:00:00",
          "2023-03-17T00:00:00",
          "2023-03-20T00:00:00",
          "2023-03-21T00:00:00",
          "2023-03-22T00:00:00",
          "2023-03-23T00:00:00",
          "2023-03-24T00:00:00",
          "2023-03-27T00:00:00",
          "2023-03-28T00:00:00",
          "2023-03-29T00:00:00",
          "2023-03-30T00:00:00",
          "2023-03-31T00:00:00",
          "2023-04-03T00:00:00",
          "2023-04-04T00:00:00",
          "2023-04-05T00:00:00",
          "2023-04-06T00:00:00",
          "2023-04-11T00:00:00",
          "2023-04-12T00:00:00",
          "2023-04-13T00:00:00",
          "2023-04-14T00:00:00",
          "2023-04-17T00:00:00",
          "2023-04-18T00:00:00",
          "2023-04-19T00:00:00",
          "2023-04-20T00:00:00",
          "2023-04-21T00:00:00",
          "2023-04-24T00:00:00",
          "2023-04-25T00:00:00",
          "2023-04-26T00:00:00",
          "2023-04-27T00:00:00",
          "2023-04-28T00:00:00"
         ],
         "y": [
          null,
          1.0003990422984836,
          1.0005985634477252,
          1.0009976057462089,
          1.0011971268954507,
          1.0013966480446925,
          1.0013966480446925,
          1.0019952114924182,
          1.0017956903431764,
          1.0023942537909019,
          1.0027932960893853,
          1.003391859537111,
          1.0037909018355946,
          1.0039904229848364,
          1.0039904229848364,
          1.00438946528332,
          1.004588986432562,
          1.0041899441340782,
          1.0043894652833203,
          1.0047885075818037,
          1.0017956903431764,
          1.00219473264166,
          1.0019952114924182,
          1.0017956903431764,
          1.0017956903431764,
          1.0019952114924182,
          1.00219473264166,
          1.0023942537909019,
          1.0023942537909019,
          1.0025937749401437,
          1.0027932960893855,
          1.0029928172386275,
          1.0031923383878694,
          1.0035913806863528,
          1.003391859537111,
          1.0035913806863528,
          1.0029928172386273,
          1.0033918595371107,
          1.0035913806863526,
          1.0003990422984836,
          1.0003990422984836,
          1.0005985634477252,
          1.000798084596967,
          1.0005985634477252,
          1.0003990422984834,
          1.000798084596967,
          1.001995211492418,
          1.002992817238627,
          1.0023942537909016,
          1.004189944134078,
          1.0039904229848362,
          1.0033918595371107,
          1.0039904229848362,
          1.0033918595371107,
          1.0037909018355944,
          1.0047885075818035,
          1.0047885075818035,
          1.0047885075818035,
          1.0035913806863526,
          1.0035913806863526,
          1.0035913806863526,
          1.0039904229848362,
          1.0009976057462089,
          1.001795690343176,
          1.0029928172386269,
          1.0029928172386269,
          1.0019952114924175,
          1.0023942537909012,
          1.0029928172386267,
          1.002593774940143,
          1.0023942537909012,
          1.0019952114924175,
          1.0021947326416594,
          1.0027932960893848,
          1.0027932960893848,
          1.0035913806863521,
          1.0043894652833194,
          1.0047885075818028,
          1.0043894652833192,
          1.004588986432561
         ]
        },
        {
         "name": "PDBC",
         "type": "scatter",
         "x": [
          "2023-01-03T00:00:00",
          "2023-01-04T00:00:00",
          "2023-01-05T00:00:00",
          "2023-01-06T00:00:00",
          "2023-01-09T00:00:00",
          "2023-01-10T00:00:00",
          "2023-01-11T00:00:00",
          "2023-01-12T00:00:00",
          "2023-01-13T00:00:00",
          "2023-01-17T00:00:00",
          "2023-01-18T00:00:00",
          "2023-01-19T00:00:00",
          "2023-01-20T00:00:00",
          "2023-01-23T00:00:00",
          "2023-01-24T00:00:00",
          "2023-01-25T00:00:00",
          "2023-01-26T00:00:00",
          "2023-01-27T00:00:00",
          "2023-01-30T00:00:00",
          "2023-01-31T00:00:00",
          "2023-02-01T00:00:00",
          "2023-02-02T00:00:00",
          "2023-02-03T00:00:00",
          "2023-02-06T00:00:00",
          "2023-02-07T00:00:00",
          "2023-02-08T00:00:00",
          "2023-02-09T00:00:00",
          "2023-02-10T00:00:00",
          "2023-02-13T00:00:00",
          "2023-02-14T00:00:00",
          "2023-02-15T00:00:00",
          "2023-02-16T00:00:00",
          "2023-02-17T00:00:00",
          "2023-02-21T00:00:00",
          "2023-02-22T00:00:00",
          "2023-02-23T00:00:00",
          "2023-02-24T00:00:00",
          "2023-02-27T00:00:00",
          "2023-02-28T00:00:00",
          "2023-03-01T00:00:00",
          "2023-03-02T00:00:00",
          "2023-03-03T00:00:00",
          "2023-03-06T00:00:00",
          "2023-03-07T00:00:00",
          "2023-03-08T00:00:00",
          "2023-03-09T00:00:00",
          "2023-03-10T00:00:00",
          "2023-03-13T00:00:00",
          "2023-03-14T00:00:00",
          "2023-03-15T00:00:00",
          "2023-03-16T00:00:00",
          "2023-03-17T00:00:00",
          "2023-03-20T00:00:00",
          "2023-03-21T00:00:00",
          "2023-03-22T00:00:00",
          "2023-03-23T00:00:00",
          "2023-03-24T00:00:00",
          "2023-03-27T00:00:00",
          "2023-03-28T00:00:00",
          "2023-03-29T00:00:00",
          "2023-03-30T00:00:00",
          "2023-03-31T00:00:00",
          "2023-04-03T00:00:00",
          "2023-04-04T00:00:00",
          "2023-04-05T00:00:00",
          "2023-04-06T00:00:00",
          "2023-04-11T00:00:00",
          "2023-04-12T00:00:00",
          "2023-04-13T00:00:00",
          "2023-04-14T00:00:00",
          "2023-04-17T00:00:00",
          "2023-04-18T00:00:00",
          "2023-04-19T00:00:00",
          "2023-04-20T00:00:00",
          "2023-04-21T00:00:00",
          "2023-04-24T00:00:00",
          "2023-04-25T00:00:00",
          "2023-04-26T00:00:00",
          "2023-04-27T00:00:00",
          "2023-04-28T00:00:00"
         ],
         "y": [
          null,
          0.9798750867453156,
          0.9757113115891741,
          0.9819569743233864,
          0.9958362248438581,
          0.9965301873698816,
          1.014573213046495,
          1.024982650936849,
          1.035392088827203,
          1.0423317140874389,
          1.0305343511450378,
          1.0416377515614152,
          1.047189451769604,
          1.052741151977793,
          1.0464954892435805,
          1.0423317140874389,
          1.0478834142956275,
          1.0340041637751556,
          1.01943095072866,
          1.0374739764052736,
          1.0166551006245659,
          1.006245662734212,
          0.9826509368494097,
          0.9861207494795277,
          1.0055517002081882,
          1.007633587786259,
          0.9979181124219287,
          1.0124913254684242,
          1.0117973629424006,
          1.0152671755725187,
          1.0020818875780702,
          0.9993060374739758,
          0.9909784871616927,
          0.9930603747397635,
          0.9791811242192915,
          0.9861207494795275,
          0.9819569743233859,
          0.983344899375433,
          0.9875086745315746,
          1.0048577376821646,
          1.0013879250520465,
          1.0180430256766129,
          1.0131852879944476,
          0.990284524635669,
          0.9847328244274802,
          0.9722414989590555,
          0.983344899375433,
          0.9770992366412207,
          0.964607911172796,
          0.9424011103400409,
          0.9458709229701588,
          0.9424011103400408,
          0.9465648854961823,
          0.9500346981263003,
          0.9535045107564183,
          0.9507286606523239,
          0.954198473282442,
          0.9722414989590555,
          0.9764052741151972,
          0.971547536433032,
          0.9777931991672444,
          0.986814712005551,
          1.0034698126301174,
          1.0027758501040938,
          1.0062456627342118,
          1.0027758501040938,
          1.0104094378903534,
          1.0166551006245657,
          1.0166551006245657,
          1.0173490631505893,
          1.0138792505204712,
          1.0166551006245657,
          1.0027758501040938,
          0.9930603747397635,
          0.9909784871616927,
          0.997224149895905,
          0.9854267869535039,
          0.9694656488549614,
          0.9715475364330323,
          0.9819569743233861
         ]
        },
        {
         "name": "REET",
         "type": "scatter",
         "x": [
          "2023-01-03T00:00:00",
          "2023-01-04T00:00:00",
          "2023-01-05T00:00:00",
          "2023-01-06T00:00:00",
          "2023-01-09T00:00:00",
          "2023-01-10T00:00:00",
          "2023-01-11T00:00:00",
          "2023-01-12T00:00:00",
          "2023-01-13T00:00:00",
          "2023-01-17T00:00:00",
          "2023-01-18T00:00:00",
          "2023-01-19T00:00:00",
          "2023-01-20T00:00:00",
          "2023-01-23T00:00:00",
          "2023-01-24T00:00:00",
          "2023-01-25T00:00:00",
          "2023-01-26T00:00:00",
          "2023-01-27T00:00:00",
          "2023-01-30T00:00:00",
          "2023-01-31T00:00:00",
          "2023-02-01T00:00:00",
          "2023-02-02T00:00:00",
          "2023-02-03T00:00:00",
          "2023-02-06T00:00:00",
          "2023-02-07T00:00:00",
          "2023-02-08T00:00:00",
          "2023-02-09T00:00:00",
          "2023-02-10T00:00:00",
          "2023-02-13T00:00:00",
          "2023-02-14T00:00:00",
          "2023-02-15T00:00:00",
          "2023-02-16T00:00:00",
          "2023-02-17T00:00:00",
          "2023-02-21T00:00:00",
          "2023-02-22T00:00:00",
          "2023-02-23T00:00:00",
          "2023-02-24T00:00:00",
          "2023-02-27T00:00:00",
          "2023-02-28T00:00:00",
          "2023-03-01T00:00:00",
          "2023-03-02T00:00:00",
          "2023-03-03T00:00:00",
          "2023-03-06T00:00:00",
          "2023-03-07T00:00:00",
          "2023-03-08T00:00:00",
          "2023-03-09T00:00:00",
          "2023-03-10T00:00:00",
          "2023-03-13T00:00:00",
          "2023-03-14T00:00:00",
          "2023-03-15T00:00:00",
          "2023-03-16T00:00:00",
          "2023-03-17T00:00:00",
          "2023-03-20T00:00:00",
          "2023-03-21T00:00:00",
          "2023-03-22T00:00:00",
          "2023-03-23T00:00:00",
          "2023-03-24T00:00:00",
          "2023-03-27T00:00:00",
          "2023-03-28T00:00:00",
          "2023-03-29T00:00:00",
          "2023-03-30T00:00:00",
          "2023-03-31T00:00:00",
          "2023-04-03T00:00:00",
          "2023-04-04T00:00:00",
          "2023-04-05T00:00:00",
          "2023-04-06T00:00:00",
          "2023-04-11T00:00:00",
          "2023-04-12T00:00:00",
          "2023-04-13T00:00:00",
          "2023-04-14T00:00:00",
          "2023-04-17T00:00:00",
          "2023-04-18T00:00:00",
          "2023-04-19T00:00:00",
          "2023-04-20T00:00:00",
          "2023-04-21T00:00:00",
          "2023-04-24T00:00:00",
          "2023-04-25T00:00:00",
          "2023-04-26T00:00:00",
          "2023-04-27T00:00:00",
          "2023-04-28T00:00:00"
         ],
         "y": [
          null,
          1.0194174757281553,
          0.997352162400706,
          1.0176522506619592,
          1.0194174757281553,
          1.0185348631950573,
          1.0503089143865845,
          1.06531332744925,
          1.058693733451015,
          1.06531332744925,
          1.0525154457193293,
          1.0494263018534864,
          1.060458958517211,
          1.0697263901147396,
          1.0732568402471316,
          1.0728155339805827,
          1.0816416593115625,
          1.0953221535745812,
          1.0825242718446606,
          1.097087378640777,
          1.105472197705208,
          1.1275375110326573,
          1.107237422771404,
          1.1001765225066202,
          1.0970873786407773,
          1.0948808473080325,
          1.082082965578112,
          1.08296557811121,
          1.0926743159752879,
          1.0847308031774059,
          1.0838481906443078,
          1.0781112091791711,
          1.0763459841129752,
          1.0573698146513688,
          1.051191526919683,
          1.0578111209179175,
          1.044571932921448,
          1.0467784642541929,
          1.045454545454546,
          1.0326566637246255,
          1.0406001765225072,
          1.0551632833186237,
          1.0538393645189768,
          1.0322153574580766,
          1.0379523389232133,
          1.0176522506619599,
          0.9876434245366289,
          0.9991173874669027,
          1.0092674315975294,
          1.0035304501323925,
          0.9986760812003537,
          0.9792586054721985,
          0.9902912621359231,
          0.9863195057369822,
          0.9563106796116513,
          0.9461606354810246,
          0.964254192409533,
          0.9669020300088268,
          0.9655781112091798,
          0.9823477493380414,
          0.9947043248014129,
          1.0119152691968234,
          1.0088261253309805,
          1.0092674315975296,
          1.000882612533099,
          1.0066195939982356,
          1.0132391879964704,
          1.0088261253309805,
          1.0083848190644316,
          0.9964695498676088,
          1.0145631067961172,
          1.0114739629302745,
          1.0145631067961172,
          1.0114739629302745,
          1.0141218005295682,
          1.0119152691968232,
          1.0013239187996477,
          0.9973521624007069,
          1.0136804942630193,
          1.027802294792587
         ]
        },
        {
         "name": "VGK",
         "type": "scatter",
         "x": [
          "2023-01-03T00:00:00",
          "2023-01-04T00:00:00",
          "2023-01-05T00:00:00",
          "2023-01-06T00:00:00",
          "2023-01-09T00:00:00",
          "2023-01-10T00:00:00",
          "2023-01-11T00:00:00",
          "2023-01-12T00:00:00",
          "2023-01-13T00:00:00",
          "2023-01-17T00:00:00",
          "2023-01-18T00:00:00",
          "2023-01-19T00:00:00",
          "2023-01-20T00:00:00",
          "2023-01-23T00:00:00",
          "2023-01-24T00:00:00",
          "2023-01-25T00:00:00",
          "2023-01-26T00:00:00",
          "2023-01-27T00:00:00",
          "2023-01-30T00:00:00",
          "2023-01-31T00:00:00",
          "2023-02-01T00:00:00",
          "2023-02-02T00:00:00",
          "2023-02-03T00:00:00",
          "2023-02-06T00:00:00",
          "2023-02-07T00:00:00",
          "2023-02-08T00:00:00",
          "2023-02-09T00:00:00",
          "2023-02-10T00:00:00",
          "2023-02-13T00:00:00",
          "2023-02-14T00:00:00",
          "2023-02-15T00:00:00",
          "2023-02-16T00:00:00",
          "2023-02-17T00:00:00",
          "2023-02-21T00:00:00",
          "2023-02-22T00:00:00",
          "2023-02-23T00:00:00",
          "2023-02-24T00:00:00",
          "2023-02-27T00:00:00",
          "2023-02-28T00:00:00",
          "2023-03-01T00:00:00",
          "2023-03-02T00:00:00",
          "2023-03-03T00:00:00",
          "2023-03-06T00:00:00",
          "2023-03-07T00:00:00",
          "2023-03-08T00:00:00",
          "2023-03-09T00:00:00",
          "2023-03-10T00:00:00",
          "2023-03-13T00:00:00",
          "2023-03-14T00:00:00",
          "2023-03-15T00:00:00",
          "2023-03-16T00:00:00",
          "2023-03-17T00:00:00",
          "2023-03-20T00:00:00",
          "2023-03-21T00:00:00",
          "2023-03-22T00:00:00",
          "2023-03-23T00:00:00",
          "2023-03-24T00:00:00",
          "2023-03-27T00:00:00",
          "2023-03-28T00:00:00",
          "2023-03-29T00:00:00",
          "2023-03-30T00:00:00",
          "2023-03-31T00:00:00",
          "2023-04-03T00:00:00",
          "2023-04-04T00:00:00",
          "2023-04-05T00:00:00",
          "2023-04-06T00:00:00",
          "2023-04-11T00:00:00",
          "2023-04-12T00:00:00",
          "2023-04-13T00:00:00",
          "2023-04-14T00:00:00",
          "2023-04-17T00:00:00",
          "2023-04-18T00:00:00",
          "2023-04-19T00:00:00",
          "2023-04-20T00:00:00",
          "2023-04-21T00:00:00",
          "2023-04-24T00:00:00",
          "2023-04-25T00:00:00",
          "2023-04-26T00:00:00",
          "2023-04-27T00:00:00",
          "2023-04-28T00:00:00"
         ],
         "y": [
          null,
          1.0190594941218383,
          1.0097969362308514,
          1.036693979337371,
          1.0432846455290348,
          1.0482721767011045,
          1.0557534734592091,
          1.0687566797292483,
          1.073744210901318,
          1.076416102600641,
          1.0732098325614532,
          1.067866049162807,
          1.0769504809405055,
          1.0819380121125752,
          1.0789098681866756,
          1.0831848949055924,
          1.0844317776986099,
          1.0808692554328456,
          1.074278589241182,
          1.0819380121125748,
          1.0944068400427491,
          1.0963662272889194,
          1.0855005343783386,
          1.0737442109013169,
          1.0815817598859978,
          1.0771286070537927,
          1.078909868186675,
          1.0701816886355526,
          1.0853224082650503,
          1.0904880655504083,
          1.0894193088706792,
          1.083184894905592,
          1.0892411827573911,
          1.0767723548272168,
          1.070181688635553,
          1.076950480940505,
          1.0584253651585314,
          1.0741004631278936,
          1.0634128963306013,
          1.070181688635553,
          1.070894193088706,
          1.084609903811898,
          1.0826505165657276,
          1.060028500178125,
          1.0635910224438891,
          1.0534378339864612,
          1.0450659066619155,
          1.0375846099038106,
          1.0568222301389372,
          1.0169219807623786,
          1.0322408265051644,
          1.0167438546490903,
          1.032775204845029,
          1.05254720342002,
          1.046490915568221,
          1.0466690416815092,
          1.0384752404702517,
          1.0505878161738498,
          1.0496971856074089,
          1.0666191663697886,
          1.0828286426790155,
          1.0856786604916266,
          1.0933380833630195,
          1.0935162094763076,
          1.0874599216245084,
          1.0967224795154953,
          1.1009975062344122,
          1.1097256857855342,
          1.1246882793017439,
          1.1229070181688618,
          1.1175632347702156,
          1.1252226576416087,
          1.1227288920555738,
          1.1211257570359798,
          1.1294976843605256,
          1.134128963306019,
          1.1150694691841807,
          1.1159600997506216,
          1.1289633060206608,
          1.1305664410402545
         ]
        },
        {
         "name": "VOO",
         "type": "scatter",
         "x": [
          "2023-01-03T00:00:00",
          "2023-01-04T00:00:00",
          "2023-01-05T00:00:00",
          "2023-01-06T00:00:00",
          "2023-01-09T00:00:00",
          "2023-01-10T00:00:00",
          "2023-01-11T00:00:00",
          "2023-01-12T00:00:00",
          "2023-01-13T00:00:00",
          "2023-01-17T00:00:00",
          "2023-01-18T00:00:00",
          "2023-01-19T00:00:00",
          "2023-01-20T00:00:00",
          "2023-01-23T00:00:00",
          "2023-01-24T00:00:00",
          "2023-01-25T00:00:00",
          "2023-01-26T00:00:00",
          "2023-01-27T00:00:00",
          "2023-01-30T00:00:00",
          "2023-01-31T00:00:00",
          "2023-02-01T00:00:00",
          "2023-02-02T00:00:00",
          "2023-02-03T00:00:00",
          "2023-02-06T00:00:00",
          "2023-02-07T00:00:00",
          "2023-02-08T00:00:00",
          "2023-02-09T00:00:00",
          "2023-02-10T00:00:00",
          "2023-02-13T00:00:00",
          "2023-02-14T00:00:00",
          "2023-02-15T00:00:00",
          "2023-02-16T00:00:00",
          "2023-02-17T00:00:00",
          "2023-02-21T00:00:00",
          "2023-02-22T00:00:00",
          "2023-02-23T00:00:00",
          "2023-02-24T00:00:00",
          "2023-02-27T00:00:00",
          "2023-02-28T00:00:00",
          "2023-03-01T00:00:00",
          "2023-03-02T00:00:00",
          "2023-03-03T00:00:00",
          "2023-03-06T00:00:00",
          "2023-03-07T00:00:00",
          "2023-03-08T00:00:00",
          "2023-03-09T00:00:00",
          "2023-03-10T00:00:00",
          "2023-03-13T00:00:00",
          "2023-03-14T00:00:00",
          "2023-03-15T00:00:00",
          "2023-03-16T00:00:00",
          "2023-03-17T00:00:00",
          "2023-03-20T00:00:00",
          "2023-03-21T00:00:00",
          "2023-03-22T00:00:00",
          "2023-03-23T00:00:00",
          "2023-03-24T00:00:00",
          "2023-03-27T00:00:00",
          "2023-03-28T00:00:00",
          "2023-03-29T00:00:00",
          "2023-03-30T00:00:00",
          "2023-03-31T00:00:00",
          "2023-04-03T00:00:00",
          "2023-04-04T00:00:00",
          "2023-04-05T00:00:00",
          "2023-04-06T00:00:00",
          "2023-04-11T00:00:00",
          "2023-04-12T00:00:00",
          "2023-04-13T00:00:00",
          "2023-04-14T00:00:00",
          "2023-04-17T00:00:00",
          "2023-04-18T00:00:00",
          "2023-04-19T00:00:00",
          "2023-04-20T00:00:00",
          "2023-04-21T00:00:00",
          "2023-04-24T00:00:00",
          "2023-04-25T00:00:00",
          "2023-04-26T00:00:00",
          "2023-04-27T00:00:00",
          "2023-04-28T00:00:00"
         ],
         "y": [
          null,
          1.0072002057201634,
          0.9961998914254694,
          1.018857681648047,
          1.0181148032800937,
          1.0253721534901,
          1.0384582416640475,
          1.0423440669733421,
          1.0464013257521645,
          1.0448012800365725,
          1.02782936655333,
          1.0204291551187175,
          1.0392011200320006,
          1.0518586245321293,
          1.0507443069801994,
          1.051115746164176,
          1.0623446384182405,
          1.0653732963798965,
          1.0520586302465784,
          1.0670019143404097,
          1.0786879625132146,
          1.094145547015629,
          1.082459498842824,
          1.076202177205063,
          1.0900882882368066,
          1.07814508985971,
          1.0689162547501356,
          1.0715163290379723,
          1.0838881110888883,
          1.0834880996599903,
          1.0871167747649932,
          1.0720020572016342,
          1.0692305494442698,
          1.048001371467756,
          1.046687048201377,
          1.0519443412668932,
          1.0406868767679074,
          1.0442869796279892,
          1.0403440098288521,
          1.0365439012543214,
          1.0442869796279892,
          1.0608303094374123,
          1.0621160604588702,
          1.0456870196291321,
          1.0473156375896453,
          1.0281436612474641,
          1.013400382868082,
          1.011686048172805,
          1.0284865281865194,
          1.0221434898139945,
          1.03962970370582,
          1.0282579502271492,
          1.0375439298265663,
          1.0511157461641758,
          1.0336866767621928,
          1.0361438898254234,
          1.0387725363581817,
          1.0404868710534587,
          1.0386582473784964,
          1.0534300980028,
          1.0597159918854824,
          1.074516414754707,
          1.0787736792479783,
          1.0726877910797448,
          1.0700877167919078,
          1.0741735478156513,
          1.0754878710820304,
          1.071202034343838,
          1.0850881453755816,
          1.0828595102717216,
          1.086545329866567,
          1.0872882082345205,
          1.0872310637446778,
          1.081088031086602,
          1.08171662047487,
          1.0831452327209343,
          1.0660304580130857,
          1.0612874653561526,
          1.0823452098631385,
          1.0916026172176345
         ]
        },
        {
         "name": "VT",
         "type": "scatter",
         "x": [
          "2023-01-03T00:00:00",
          "2023-01-04T00:00:00",
          "2023-01-05T00:00:00",
          "2023-01-06T00:00:00",
          "2023-01-09T00:00:00",
          "2023-01-10T00:00:00",
          "2023-01-11T00:00:00",
          "2023-01-12T00:00:00",
          "2023-01-13T00:00:00",
          "2023-01-17T00:00:00",
          "2023-01-18T00:00:00",
          "2023-01-19T00:00:00",
          "2023-01-20T00:00:00",
          "2023-01-23T00:00:00",
          "2023-01-24T00:00:00",
          "2023-01-25T00:00:00",
          "2023-01-26T00:00:00",
          "2023-01-27T00:00:00",
          "2023-01-30T00:00:00",
          "2023-01-31T00:00:00",
          "2023-02-01T00:00:00",
          "2023-02-02T00:00:00",
          "2023-02-03T00:00:00",
          "2023-02-06T00:00:00",
          "2023-02-07T00:00:00",
          "2023-02-08T00:00:00",
          "2023-02-09T00:00:00",
          "2023-02-10T00:00:00",
          "2023-02-13T00:00:00",
          "2023-02-14T00:00:00",
          "2023-02-15T00:00:00",
          "2023-02-16T00:00:00",
          "2023-02-17T00:00:00",
          "2023-02-21T00:00:00",
          "2023-02-22T00:00:00",
          "2023-02-23T00:00:00",
          "2023-02-24T00:00:00",
          "2023-02-27T00:00:00",
          "2023-02-28T00:00:00",
          "2023-03-01T00:00:00",
          "2023-03-02T00:00:00",
          "2023-03-03T00:00:00",
          "2023-03-06T00:00:00",
          "2023-03-07T00:00:00",
          "2023-03-08T00:00:00",
          "2023-03-09T00:00:00",
          "2023-03-10T00:00:00",
          "2023-03-13T00:00:00",
          "2023-03-14T00:00:00",
          "2023-03-15T00:00:00",
          "2023-03-16T00:00:00",
          "2023-03-17T00:00:00",
          "2023-03-20T00:00:00",
          "2023-03-21T00:00:00",
          "2023-03-22T00:00:00",
          "2023-03-23T00:00:00",
          "2023-03-24T00:00:00",
          "2023-03-27T00:00:00",
          "2023-03-28T00:00:00",
          "2023-03-29T00:00:00",
          "2023-03-30T00:00:00",
          "2023-03-31T00:00:00",
          "2023-04-03T00:00:00",
          "2023-04-04T00:00:00",
          "2023-04-05T00:00:00",
          "2023-04-06T00:00:00",
          "2023-04-11T00:00:00",
          "2023-04-12T00:00:00",
          "2023-04-13T00:00:00",
          "2023-04-14T00:00:00",
          "2023-04-17T00:00:00",
          "2023-04-18T00:00:00",
          "2023-04-19T00:00:00",
          "2023-04-20T00:00:00",
          "2023-04-21T00:00:00",
          "2023-04-24T00:00:00",
          "2023-04-25T00:00:00",
          "2023-04-26T00:00:00",
          "2023-04-27T00:00:00",
          "2023-04-28T00:00:00"
         ],
         "y": [
          null,
          1.012291280148423,
          1.0018552875695734,
          1.0248144712430427,
          1.0272495361781078,
          1.0328153988868274,
          1.0432513914656771,
          1.0506725417439702,
          1.0561224489795915,
          1.055890538033395,
          1.0445269016697585,
          1.0398886827458254,
          1.0560064935064932,
          1.0659786641929498,
          1.0649350649350648,
          1.0669063079777366,
          1.0759508348794062,
          1.0766465677179962,
          1.063543599257885,
          1.075834879406308,
          1.0875463821892395,
          1.0963589981447124,
          1.0841836734693877,
          1.0744434137291279,
          1.0859230055658626,
          1.0769944341372912,
          1.0716604823747682,
          1.0696892393320965,
          1.081516697588126,
          1.082212430426716,
          1.0827922077922074,
          1.072472170686456,
          1.070037105751391,
          1.0519480519480515,
          1.0484693877551017,
          1.0540352504638215,
          1.0403525046382185,
          1.0461502782931351,
          1.0416280148423003,
          1.0437152133580703,
          1.0491651205936916,
          1.0642393320964745,
          1.0626159554730978,
          1.0463821892393315,
          1.0491651205936916,
          1.0318877551020402,
          1.0176252319109458,
          1.0143784786641925,
          1.0278293135435987,
          1.012059369202226,
          1.028872912801484,
          1.0166975881261593,
          1.0243506493506491,
          1.0378014842300556,
          1.0258580705009275,
          1.0282931354359925,
          1.0308441558441557,
          1.0347866419294989,
          1.0358302411873839,
          1.0485853432282002,
          1.0567022263450832,
          1.067833951762523,
          1.0728200371057512,
          1.0682977736549164,
          1.0630797773654916,
          1.0665584415584415,
          1.0703849721706864,
          1.068877551020408,
          1.082908163265306,
          1.0795454545454544,
          1.0820964749536175,
          1.083951762523191,
          1.0814007421150278,
          1.0774582560296846,
          1.0778061224489797,
          1.0789656771799627,
          1.0613404452690167,
          1.0590213358070502,
          1.0766465677179964,
          1.0830241187384047
         ]
        }
       ],
       "layout": {
        "template": {
         "data": {
          "bar": [
           {
            "error_x": {
             "color": "#2a3f5f"
            },
            "error_y": {
             "color": "#2a3f5f"
            },
            "marker": {
             "line": {
              "color": "#E5ECF6",
              "width": 0.5
             },
             "pattern": {
              "fillmode": "overlay",
              "size": 10,
              "solidity": 0.2
             }
            },
            "type": "bar"
           }
          ],
          "barpolar": [
           {
            "marker": {
             "line": {
              "color": "#E5ECF6",
              "width": 0.5
             },
             "pattern": {
              "fillmode": "overlay",
              "size": 10,
              "solidity": 0.2
             }
            },
            "type": "barpolar"
           }
          ],
          "carpet": [
           {
            "aaxis": {
             "endlinecolor": "#2a3f5f",
             "gridcolor": "white",
             "linecolor": "white",
             "minorgridcolor": "white",
             "startlinecolor": "#2a3f5f"
            },
            "baxis": {
             "endlinecolor": "#2a3f5f",
             "gridcolor": "white",
             "linecolor": "white",
             "minorgridcolor": "white",
             "startlinecolor": "#2a3f5f"
            },
            "type": "carpet"
           }
          ],
          "choropleth": [
           {
            "colorbar": {
             "outlinewidth": 0,
             "ticks": ""
            },
            "type": "choropleth"
           }
          ],
          "contour": [
           {
            "colorbar": {
             "outlinewidth": 0,
             "ticks": ""
            },
            "colorscale": [
             [
              0,
              "#0d0887"
             ],
             [
              0.1111111111111111,
              "#46039f"
             ],
             [
              0.2222222222222222,
              "#7201a8"
             ],
             [
              0.3333333333333333,
              "#9c179e"
             ],
             [
              0.4444444444444444,
              "#bd3786"
             ],
             [
              0.5555555555555556,
              "#d8576b"
             ],
             [
              0.6666666666666666,
              "#ed7953"
             ],
             [
              0.7777777777777778,
              "#fb9f3a"
             ],
             [
              0.8888888888888888,
              "#fdca26"
             ],
             [
              1,
              "#f0f921"
             ]
            ],
            "type": "contour"
           }
          ],
          "contourcarpet": [
           {
            "colorbar": {
             "outlinewidth": 0,
             "ticks": ""
            },
            "type": "contourcarpet"
           }
          ],
          "heatmap": [
           {
            "colorbar": {
             "outlinewidth": 0,
             "ticks": ""
            },
            "colorscale": [
             [
              0,
              "#0d0887"
             ],
             [
              0.1111111111111111,
              "#46039f"
             ],
             [
              0.2222222222222222,
              "#7201a8"
             ],
             [
              0.3333333333333333,
              "#9c179e"
             ],
             [
              0.4444444444444444,
              "#bd3786"
             ],
             [
              0.5555555555555556,
              "#d8576b"
             ],
             [
              0.6666666666666666,
              "#ed7953"
             ],
             [
              0.7777777777777778,
              "#fb9f3a"
             ],
             [
              0.8888888888888888,
              "#fdca26"
             ],
             [
              1,
              "#f0f921"
             ]
            ],
            "type": "heatmap"
           }
          ],
          "heatmapgl": [
           {
            "colorbar": {
             "outlinewidth": 0,
             "ticks": ""
            },
            "colorscale": [
             [
              0,
              "#0d0887"
             ],
             [
              0.1111111111111111,
              "#46039f"
             ],
             [
              0.2222222222222222,
              "#7201a8"
             ],
             [
              0.3333333333333333,
              "#9c179e"
             ],
             [
              0.4444444444444444,
              "#bd3786"
             ],
             [
              0.5555555555555556,
              "#d8576b"
             ],
             [
              0.6666666666666666,
              "#ed7953"
             ],
             [
              0.7777777777777778,
              "#fb9f3a"
             ],
             [
              0.8888888888888888,
              "#fdca26"
             ],
             [
              1,
              "#f0f921"
             ]
            ],
            "type": "heatmapgl"
           }
          ],
          "histogram": [
           {
            "marker": {
             "pattern": {
              "fillmode": "overlay",
              "size": 10,
              "solidity": 0.2
             }
            },
            "type": "histogram"
           }
          ],
          "histogram2d": [
           {
            "colorbar": {
             "outlinewidth": 0,
             "ticks": ""
            },
            "colorscale": [
             [
              0,
              "#0d0887"
             ],
             [
              0.1111111111111111,
              "#46039f"
             ],
             [
              0.2222222222222222,
              "#7201a8"
             ],
             [
              0.3333333333333333,
              "#9c179e"
             ],
             [
              0.4444444444444444,
              "#bd3786"
             ],
             [
              0.5555555555555556,
              "#d8576b"
             ],
             [
              0.6666666666666666,
              "#ed7953"
             ],
             [
              0.7777777777777778,
              "#fb9f3a"
             ],
             [
              0.8888888888888888,
              "#fdca26"
             ],
             [
              1,
              "#f0f921"
             ]
            ],
            "type": "histogram2d"
           }
          ],
          "histogram2dcontour": [
           {
            "colorbar": {
             "outlinewidth": 0,
             "ticks": ""
            },
            "colorscale": [
             [
              0,
              "#0d0887"
             ],
             [
              0.1111111111111111,
              "#46039f"
             ],
             [
              0.2222222222222222,
              "#7201a8"
             ],
             [
              0.3333333333333333,
              "#9c179e"
             ],
             [
              0.4444444444444444,
              "#bd3786"
             ],
             [
              0.5555555555555556,
              "#d8576b"
             ],
             [
              0.6666666666666666,
              "#ed7953"
             ],
             [
              0.7777777777777778,
              "#fb9f3a"
             ],
             [
              0.8888888888888888,
              "#fdca26"
             ],
             [
              1,
              "#f0f921"
             ]
            ],
            "type": "histogram2dcontour"
           }
          ],
          "mesh3d": [
           {
            "colorbar": {
             "outlinewidth": 0,
             "ticks": ""
            },
            "type": "mesh3d"
           }
          ],
          "parcoords": [
           {
            "line": {
             "colorbar": {
              "outlinewidth": 0,
              "ticks": ""
             }
            },
            "type": "parcoords"
           }
          ],
          "pie": [
           {
            "automargin": true,
            "type": "pie"
           }
          ],
          "scatter": [
           {
            "fillpattern": {
             "fillmode": "overlay",
             "size": 10,
             "solidity": 0.2
            },
            "type": "scatter"
           }
          ],
          "scatter3d": [
           {
            "line": {
             "colorbar": {
              "outlinewidth": 0,
              "ticks": ""
             }
            },
            "marker": {
             "colorbar": {
              "outlinewidth": 0,
              "ticks": ""
             }
            },
            "type": "scatter3d"
           }
          ],
          "scattercarpet": [
           {
            "marker": {
             "colorbar": {
              "outlinewidth": 0,
              "ticks": ""
             }
            },
            "type": "scattercarpet"
           }
          ],
          "scattergeo": [
           {
            "marker": {
             "colorbar": {
              "outlinewidth": 0,
              "ticks": ""
             }
            },
            "type": "scattergeo"
           }
          ],
          "scattergl": [
           {
            "marker": {
             "colorbar": {
              "outlinewidth": 0,
              "ticks": ""
             }
            },
            "type": "scattergl"
           }
          ],
          "scattermapbox": [
           {
            "marker": {
             "colorbar": {
              "outlinewidth": 0,
              "ticks": ""
             }
            },
            "type": "scattermapbox"
           }
          ],
          "scatterpolar": [
           {
            "marker": {
             "colorbar": {
              "outlinewidth": 0,
              "ticks": ""
             }
            },
            "type": "scatterpolar"
           }
          ],
          "scatterpolargl": [
           {
            "marker": {
             "colorbar": {
              "outlinewidth": 0,
              "ticks": ""
             }
            },
            "type": "scatterpolargl"
           }
          ],
          "scatterternary": [
           {
            "marker": {
             "colorbar": {
              "outlinewidth": 0,
              "ticks": ""
             }
            },
            "type": "scatterternary"
           }
          ],
          "surface": [
           {
            "colorbar": {
             "outlinewidth": 0,
             "ticks": ""
            },
            "colorscale": [
             [
              0,
              "#0d0887"
             ],
             [
              0.1111111111111111,
              "#46039f"
             ],
             [
              0.2222222222222222,
              "#7201a8"
             ],
             [
              0.3333333333333333,
              "#9c179e"
             ],
             [
              0.4444444444444444,
              "#bd3786"
             ],
             [
              0.5555555555555556,
              "#d8576b"
             ],
             [
              0.6666666666666666,
              "#ed7953"
             ],
             [
              0.7777777777777778,
              "#fb9f3a"
             ],
             [
              0.8888888888888888,
              "#fdca26"
             ],
             [
              1,
              "#f0f921"
             ]
            ],
            "type": "surface"
           }
          ],
          "table": [
           {
            "cells": {
             "fill": {
              "color": "#EBF0F8"
             },
             "line": {
              "color": "white"
             }
            },
            "header": {
             "fill": {
              "color": "#C8D4E3"
             },
             "line": {
              "color": "white"
             }
            },
            "type": "table"
           }
          ]
         },
         "layout": {
          "annotationdefaults": {
           "arrowcolor": "#2a3f5f",
           "arrowhead": 0,
           "arrowwidth": 1
          },
          "autotypenumbers": "strict",
          "coloraxis": {
           "colorbar": {
            "outlinewidth": 0,
            "ticks": ""
           }
          },
          "colorscale": {
           "diverging": [
            [
             0,
             "#8e0152"
            ],
            [
             0.1,
             "#c51b7d"
            ],
            [
             0.2,
             "#de77ae"
            ],
            [
             0.3,
             "#f1b6da"
            ],
            [
             0.4,
             "#fde0ef"
            ],
            [
             0.5,
             "#f7f7f7"
            ],
            [
             0.6,
             "#e6f5d0"
            ],
            [
             0.7,
             "#b8e186"
            ],
            [
             0.8,
             "#7fbc41"
            ],
            [
             0.9,
             "#4d9221"
            ],
            [
             1,
             "#276419"
            ]
           ],
           "sequential": [
            [
             0,
             "#0d0887"
            ],
            [
             0.1111111111111111,
             "#46039f"
            ],
            [
             0.2222222222222222,
             "#7201a8"
            ],
            [
             0.3333333333333333,
             "#9c179e"
            ],
            [
             0.4444444444444444,
             "#bd3786"
            ],
            [
             0.5555555555555556,
             "#d8576b"
            ],
            [
             0.6666666666666666,
             "#ed7953"
            ],
            [
             0.7777777777777778,
             "#fb9f3a"
            ],
            [
             0.8888888888888888,
             "#fdca26"
            ],
            [
             1,
             "#f0f921"
            ]
           ],
           "sequentialminus": [
            [
             0,
             "#0d0887"
            ],
            [
             0.1111111111111111,
             "#46039f"
            ],
            [
             0.2222222222222222,
             "#7201a8"
            ],
            [
             0.3333333333333333,
             "#9c179e"
            ],
            [
             0.4444444444444444,
             "#bd3786"
            ],
            [
             0.5555555555555556,
             "#d8576b"
            ],
            [
             0.6666666666666666,
             "#ed7953"
            ],
            [
             0.7777777777777778,
             "#fb9f3a"
            ],
            [
             0.8888888888888888,
             "#fdca26"
            ],
            [
             1,
             "#f0f921"
            ]
           ]
          },
          "colorway": [
           "#636efa",
           "#EF553B",
           "#00cc96",
           "#ab63fa",
           "#FFA15A",
           "#19d3f3",
           "#FF6692",
           "#B6E880",
           "#FF97FF",
           "#FECB52"
          ],
          "font": {
           "color": "#2a3f5f"
          },
          "geo": {
           "bgcolor": "white",
           "lakecolor": "white",
           "landcolor": "#E5ECF6",
           "showlakes": true,
           "showland": true,
           "subunitcolor": "white"
          },
          "hoverlabel": {
           "align": "left"
          },
          "hovermode": "closest",
          "mapbox": {
           "style": "light"
          },
          "paper_bgcolor": "white",
          "plot_bgcolor": "#E5ECF6",
          "polar": {
           "angularaxis": {
            "gridcolor": "white",
            "linecolor": "white",
            "ticks": ""
           },
           "bgcolor": "#E5ECF6",
           "radialaxis": {
            "gridcolor": "white",
            "linecolor": "white",
            "ticks": ""
           }
          },
          "scene": {
           "xaxis": {
            "backgroundcolor": "#E5ECF6",
            "gridcolor": "white",
            "gridwidth": 2,
            "linecolor": "white",
            "showbackground": true,
            "ticks": "",
            "zerolinecolor": "white"
           },
           "yaxis": {
            "backgroundcolor": "#E5ECF6",
            "gridcolor": "white",
            "gridwidth": 2,
            "linecolor": "white",
            "showbackground": true,
            "ticks": "",
            "zerolinecolor": "white"
           },
           "zaxis": {
            "backgroundcolor": "#E5ECF6",
            "gridcolor": "white",
            "gridwidth": 2,
            "linecolor": "white",
            "showbackground": true,
            "ticks": "",
            "zerolinecolor": "white"
           }
          },
          "shapedefaults": {
           "line": {
            "color": "#2a3f5f"
           }
          },
          "ternary": {
           "aaxis": {
            "gridcolor": "white",
            "linecolor": "white",
            "ticks": ""
           },
           "baxis": {
            "gridcolor": "white",
            "linecolor": "white",
            "ticks": ""
           },
           "bgcolor": "#E5ECF6",
           "caxis": {
            "gridcolor": "white",
            "linecolor": "white",
            "ticks": ""
           }
          },
          "title": {
           "x": 0.05
          },
          "xaxis": {
           "automargin": true,
           "gridcolor": "white",
           "linecolor": "white",
           "ticks": "",
           "title": {
            "standoff": 15
           },
           "zerolinecolor": "white",
           "zerolinewidth": 2
          },
          "yaxis": {
           "automargin": true,
           "gridcolor": "white",
           "linecolor": "white",
           "ticks": "",
           "title": {
            "standoff": 15
           },
           "zerolinecolor": "white",
           "zerolinewidth": 2
          }
         }
        },
        "title": {
         "text": "Cumulative Return of ETFs from 2023/1/1 to 2023/4/30"
        },
        "xaxis": {
         "title": {
          "text": "Date"
         }
        },
        "yaxis": {
         "title": {
          "text": "Cumulative Return"
         }
        }
       }
      }
     },
     "metadata": {},
     "output_type": "display_data"
    }
   ],
   "source": [
    "# df2023 cumulative return plot\n",
    "fig = go.Figure()\n",
    "for col in df2023_cum.columns:\n",
    "    fig.add_trace(go.Scatter(x=df2023_cum.index, y=df2023_cum[col], name=col))\n",
    "\n",
    "fig.update_layout(title='Cumulative Return of ETFs from 2023/1/1 to 2023/4/30', xaxis_title='Date', yaxis_title='Cumulative Return')\n",
    "fig.show()\n"
   ]
  },
  {
   "attachments": {},
   "cell_type": "markdown",
   "metadata": {},
   "source": [
    "### 2023 Portfolio Performace"
   ]
  },
  {
   "cell_type": "code",
   "execution_count": 20,
   "metadata": {},
   "outputs": [
    {
     "data": {
      "text/html": [
       "<div>\n",
       "<style scoped>\n",
       "    .dataframe tbody tr th:only-of-type {\n",
       "        vertical-align: middle;\n",
       "    }\n",
       "\n",
       "    .dataframe tbody tr th {\n",
       "        vertical-align: top;\n",
       "    }\n",
       "\n",
       "    .dataframe thead th {\n",
       "        text-align: right;\n",
       "    }\n",
       "</style>\n",
       "<table border=\"1\" class=\"dataframe\">\n",
       "  <thead>\n",
       "    <tr style=\"text-align: right;\">\n",
       "      <th></th>\n",
       "      <th>Fixed Income</th>\n",
       "      <th>Moderate</th>\n",
       "      <th>Balanced</th>\n",
       "      <th>Aggressive</th>\n",
       "      <th>Equity</th>\n",
       "    </tr>\n",
       "    <tr>\n",
       "      <th>Date</th>\n",
       "      <th></th>\n",
       "      <th></th>\n",
       "      <th></th>\n",
       "      <th></th>\n",
       "      <th></th>\n",
       "    </tr>\n",
       "  </thead>\n",
       "  <tbody>\n",
       "    <tr>\n",
       "      <th>2023-01-03</th>\n",
       "      <td>50.166793</td>\n",
       "      <td>131.7622</td>\n",
       "      <td>119.307933</td>\n",
       "      <td>118.124056</td>\n",
       "      <td>105.155617</td>\n",
       "    </tr>\n",
       "    <tr>\n",
       "      <th>2023-01-04</th>\n",
       "      <td>50.293934</td>\n",
       "      <td>132.7134</td>\n",
       "      <td>120.144544</td>\n",
       "      <td>118.957236</td>\n",
       "      <td>105.726090</td>\n",
       "    </tr>\n",
       "    <tr>\n",
       "      <th>2023-01-05</th>\n",
       "      <td>50.267004</td>\n",
       "      <td>130.8820</td>\n",
       "      <td>118.621316</td>\n",
       "      <td>117.438051</td>\n",
       "      <td>104.261391</td>\n",
       "    </tr>\n",
       "    <tr>\n",
       "      <th>2023-01-06</th>\n",
       "      <td>50.457793</td>\n",
       "      <td>133.5704</td>\n",
       "      <td>120.735157</td>\n",
       "      <td>119.528011</td>\n",
       "      <td>106.115514</td>\n",
       "    </tr>\n",
       "    <tr>\n",
       "      <th>2023-01-09</th>\n",
       "      <td>50.417854</td>\n",
       "      <td>134.5278</td>\n",
       "      <td>120.722855</td>\n",
       "      <td>119.451135</td>\n",
       "      <td>105.903918</td>\n",
       "    </tr>\n",
       "    <tr>\n",
       "      <th>...</th>\n",
       "      <td>...</td>\n",
       "      <td>...</td>\n",
       "      <td>...</td>\n",
       "      <td>...</td>\n",
       "      <td>...</td>\n",
       "    </tr>\n",
       "    <tr>\n",
       "      <th>2023-04-24</th>\n",
       "      <td>50.606449</td>\n",
       "      <td>147.4459</td>\n",
       "      <td>129.237257</td>\n",
       "      <td>127.732651</td>\n",
       "      <td>114.569783</td>\n",
       "    </tr>\n",
       "    <tr>\n",
       "      <th>2023-04-25</th>\n",
       "      <td>50.812064</td>\n",
       "      <td>145.8139</td>\n",
       "      <td>128.435132</td>\n",
       "      <td>126.951896</td>\n",
       "      <td>112.942436</td>\n",
       "    </tr>\n",
       "    <tr>\n",
       "      <th>2023-04-26</th>\n",
       "      <td>50.736879</td>\n",
       "      <td>146.0729</td>\n",
       "      <td>127.825973</td>\n",
       "      <td>126.269589</td>\n",
       "      <td>112.398288</td>\n",
       "    </tr>\n",
       "    <tr>\n",
       "      <th>2023-04-27</th>\n",
       "      <td>50.667099</td>\n",
       "      <td>148.0733</td>\n",
       "      <td>128.749347</td>\n",
       "      <td>127.138334</td>\n",
       "      <td>113.772239</td>\n",
       "    </tr>\n",
       "    <tr>\n",
       "      <th>2023-04-28</th>\n",
       "      <td>50.867243</td>\n",
       "      <td>148.6505</td>\n",
       "      <td>129.172607</td>\n",
       "      <td>127.567696</td>\n",
       "      <td>114.381052</td>\n",
       "    </tr>\n",
       "  </tbody>\n",
       "</table>\n",
       "<p>80 rows × 5 columns</p>\n",
       "</div>"
      ],
      "text/plain": [
       "            Fixed Income  Moderate    Balanced  Aggressive      Equity\n",
       "Date                                                                  \n",
       "2023-01-03     50.166793  131.7622  119.307933  118.124056  105.155617\n",
       "2023-01-04     50.293934  132.7134  120.144544  118.957236  105.726090\n",
       "2023-01-05     50.267004  130.8820  118.621316  117.438051  104.261391\n",
       "2023-01-06     50.457793  133.5704  120.735157  119.528011  106.115514\n",
       "2023-01-09     50.417854  134.5278  120.722855  119.451135  105.903918\n",
       "...                  ...       ...         ...         ...         ...\n",
       "2023-04-24     50.606449  147.4459  129.237257  127.732651  114.569783\n",
       "2023-04-25     50.812064  145.8139  128.435132  126.951896  112.942436\n",
       "2023-04-26     50.736879  146.0729  127.825973  126.269589  112.398288\n",
       "2023-04-27     50.667099  148.0733  128.749347  127.138334  113.772239\n",
       "2023-04-28     50.867243  148.6505  129.172607  127.567696  114.381052\n",
       "\n",
       "[80 rows x 5 columns]"
      ]
     },
     "execution_count": 20,
     "metadata": {},
     "output_type": "execute_result"
    }
   ],
   "source": [
    "df2023['Fixed Income'] = 0\n",
    "df2023['Moderate'] = 0\n",
    "df2023['Balanced'] = 0\n",
    "df2023['Aggressive'] = 0\n",
    "df2023['Equity'] = 0\n",
    "\n",
    "# calculate portfolio value\n",
    "for ticker, weight in cleaned_weights_fixed.items():\n",
    "    df2023['Fixed Income'] += df2023[ticker] * weight\n",
    "\n",
    "for ticker, weight in cleaned_weights_moderate.items():\n",
    "    df2023['Moderate'] += df2023[ticker] * weight\n",
    "\n",
    "for ticker, weight in cleaned_weights_balanced.items():\n",
    "    df2023['Balanced'] += df2023[ticker] * weight\n",
    "\n",
    "for ticker, weight in cleaned_weights_agg.items():\n",
    "    df2023['Aggressive'] += df2023[ticker] * weight\n",
    "\n",
    "for ticker, weight in cleaned_weights_equity.items():\n",
    "    df2023['Equity'] += df2023[ticker] * weight\n",
    "\n",
    "df2023_port = df2023[['Fixed Income', 'Moderate', 'Balanced', 'Aggressive', 'Equity']]\n",
    "df2023_port"
   ]
  },
  {
   "cell_type": "code",
   "execution_count": 21,
   "metadata": {},
   "outputs": [
    {
     "data": {
      "application/vnd.plotly.v1+json": {
       "config": {
        "plotlyServerURL": "https://plot.ly"
       },
       "data": [
        {
         "mode": "lines",
         "name": "Fixed Income",
         "type": "scatter",
         "x": [
          "2023-01-03T00:00:00",
          "2023-01-04T00:00:00",
          "2023-01-05T00:00:00",
          "2023-01-06T00:00:00",
          "2023-01-09T00:00:00",
          "2023-01-10T00:00:00",
          "2023-01-11T00:00:00",
          "2023-01-12T00:00:00",
          "2023-01-13T00:00:00",
          "2023-01-17T00:00:00",
          "2023-01-18T00:00:00",
          "2023-01-19T00:00:00",
          "2023-01-20T00:00:00",
          "2023-01-23T00:00:00",
          "2023-01-24T00:00:00",
          "2023-01-25T00:00:00",
          "2023-01-26T00:00:00",
          "2023-01-27T00:00:00",
          "2023-01-30T00:00:00",
          "2023-01-31T00:00:00",
          "2023-02-01T00:00:00",
          "2023-02-02T00:00:00",
          "2023-02-03T00:00:00",
          "2023-02-06T00:00:00",
          "2023-02-07T00:00:00",
          "2023-02-08T00:00:00",
          "2023-02-09T00:00:00",
          "2023-02-10T00:00:00",
          "2023-02-13T00:00:00",
          "2023-02-14T00:00:00",
          "2023-02-15T00:00:00",
          "2023-02-16T00:00:00",
          "2023-02-17T00:00:00",
          "2023-02-21T00:00:00",
          "2023-02-22T00:00:00",
          "2023-02-23T00:00:00",
          "2023-02-24T00:00:00",
          "2023-02-27T00:00:00",
          "2023-02-28T00:00:00",
          "2023-03-01T00:00:00",
          "2023-03-02T00:00:00",
          "2023-03-03T00:00:00",
          "2023-03-06T00:00:00",
          "2023-03-07T00:00:00",
          "2023-03-08T00:00:00",
          "2023-03-09T00:00:00",
          "2023-03-10T00:00:00",
          "2023-03-13T00:00:00",
          "2023-03-14T00:00:00",
          "2023-03-15T00:00:00",
          "2023-03-16T00:00:00",
          "2023-03-17T00:00:00",
          "2023-03-20T00:00:00",
          "2023-03-21T00:00:00",
          "2023-03-22T00:00:00",
          "2023-03-23T00:00:00",
          "2023-03-24T00:00:00",
          "2023-03-27T00:00:00",
          "2023-03-28T00:00:00",
          "2023-03-29T00:00:00",
          "2023-03-30T00:00:00",
          "2023-03-31T00:00:00",
          "2023-04-03T00:00:00",
          "2023-04-04T00:00:00",
          "2023-04-05T00:00:00",
          "2023-04-06T00:00:00",
          "2023-04-11T00:00:00",
          "2023-04-12T00:00:00",
          "2023-04-13T00:00:00",
          "2023-04-14T00:00:00",
          "2023-04-17T00:00:00",
          "2023-04-18T00:00:00",
          "2023-04-19T00:00:00",
          "2023-04-20T00:00:00",
          "2023-04-21T00:00:00",
          "2023-04-24T00:00:00",
          "2023-04-25T00:00:00",
          "2023-04-26T00:00:00",
          "2023-04-27T00:00:00",
          "2023-04-28T00:00:00"
         ],
         "y": [
          null,
          0.002534363722501487,
          -0.0005354562263332197,
          0.003795517662405601,
          -0.0007915368014442814,
          -0.0007225734006205409,
          0.0037558883484574146,
          0.00217781855250454,
          -0.001299721414331878,
          0.0019064480105031034,
          0.0031177915873903395,
          -0.0003913188463020578,
          -0.0020012621925959984,
          -0.001114920236141237,
          0.002111038229390738,
          0.0006064398601552945,
          -0.0010927228392204613,
          -0.0012065299916742545,
          -0.001951474034656453,
          0.0018333988875554041,
          -0.0004071047695531904,
          0.004468925780408695,
          -0.0034865959678627156,
          -0.0022925597055570845,
          -0.0010539419574883135,
          0.000987253805284416,
          -0.0010457450002518964,
          -0.001338138697679292,
          0.0009002311880133007,
          -0.0013055565176174344,
          -0.0008416496504327631,
          -0.00115833605278437,
          0.0011738854540090937,
          -0.004059284044890088,
          0.000794353541007986,
          0.0019337327109512081,
          -0.002013955026405112,
          -0.0005996422610873298,
          -0.00011667309233320822,
          -0.0041165293323846,
          -0.00025049359715623165,
          0.0020093941367562707,
          -0.00015568573096469418,
          0.0001678775900972873,
          0.0004874092914541883,
          0.0006426721181307382,
          0.005360059197314859,
          0.006348200240539947,
          -0.0029917404303470008,
          0.004364104106624245,
          -0.002308105037883701,
          0.003024948447853948,
          -0.0002934444464651742,
          -0.0023182315405153586,
          0.0017408783393675353,
          0.0030444405422196397,
          0.00010532947359909173,
          -0.00350701418334487,
          -0.0009352158491403584,
          0.00012638357655880839,
          -0.0002513343669885426,
          0.00184667282528439,
          -0.0014503646185545227,
          0.0006507583623034385,
          0.0014710362991412484,
          -0.0002624057758063847,
          -0.002889936629358769,
          0.00031453321361385456,
          0.0003601665577084301,
          -0.0024244044330502534,
          -0.0014624618703030778,
          0.00043181470282704915,
          -0.0005858560120642897,
          0.0019987430171262144,
          -0.0009147666433331203,
          0.00024992190644557155,
          0.004063019739221518,
          -0.0014796683016834455,
          -0.0013753151906049643,
          0.003950172833556476
         ]
        },
        {
         "mode": "lines",
         "name": "Moderate",
         "type": "scatter",
         "x": [
          "2023-01-03T00:00:00",
          "2023-01-04T00:00:00",
          "2023-01-05T00:00:00",
          "2023-01-06T00:00:00",
          "2023-01-09T00:00:00",
          "2023-01-10T00:00:00",
          "2023-01-11T00:00:00",
          "2023-01-12T00:00:00",
          "2023-01-13T00:00:00",
          "2023-01-17T00:00:00",
          "2023-01-18T00:00:00",
          "2023-01-19T00:00:00",
          "2023-01-20T00:00:00",
          "2023-01-23T00:00:00",
          "2023-01-24T00:00:00",
          "2023-01-25T00:00:00",
          "2023-01-26T00:00:00",
          "2023-01-27T00:00:00",
          "2023-01-30T00:00:00",
          "2023-01-31T00:00:00",
          "2023-02-01T00:00:00",
          "2023-02-02T00:00:00",
          "2023-02-03T00:00:00",
          "2023-02-06T00:00:00",
          "2023-02-07T00:00:00",
          "2023-02-08T00:00:00",
          "2023-02-09T00:00:00",
          "2023-02-10T00:00:00",
          "2023-02-13T00:00:00",
          "2023-02-14T00:00:00",
          "2023-02-15T00:00:00",
          "2023-02-16T00:00:00",
          "2023-02-17T00:00:00",
          "2023-02-21T00:00:00",
          "2023-02-22T00:00:00",
          "2023-02-23T00:00:00",
          "2023-02-24T00:00:00",
          "2023-02-27T00:00:00",
          "2023-02-28T00:00:00",
          "2023-03-01T00:00:00",
          "2023-03-02T00:00:00",
          "2023-03-03T00:00:00",
          "2023-03-06T00:00:00",
          "2023-03-07T00:00:00",
          "2023-03-08T00:00:00",
          "2023-03-09T00:00:00",
          "2023-03-10T00:00:00",
          "2023-03-13T00:00:00",
          "2023-03-14T00:00:00",
          "2023-03-15T00:00:00",
          "2023-03-16T00:00:00",
          "2023-03-17T00:00:00",
          "2023-03-20T00:00:00",
          "2023-03-21T00:00:00",
          "2023-03-22T00:00:00",
          "2023-03-23T00:00:00",
          "2023-03-24T00:00:00",
          "2023-03-27T00:00:00",
          "2023-03-28T00:00:00",
          "2023-03-29T00:00:00",
          "2023-03-30T00:00:00",
          "2023-03-31T00:00:00",
          "2023-04-03T00:00:00",
          "2023-04-04T00:00:00",
          "2023-04-05T00:00:00",
          "2023-04-06T00:00:00",
          "2023-04-11T00:00:00",
          "2023-04-12T00:00:00",
          "2023-04-13T00:00:00",
          "2023-04-14T00:00:00",
          "2023-04-17T00:00:00",
          "2023-04-18T00:00:00",
          "2023-04-19T00:00:00",
          "2023-04-20T00:00:00",
          "2023-04-21T00:00:00",
          "2023-04-24T00:00:00",
          "2023-04-25T00:00:00",
          "2023-04-26T00:00:00",
          "2023-04-27T00:00:00",
          "2023-04-28T00:00:00"
         ],
         "y": [
          null,
          0.007219065862591689,
          -0.013799661526266216,
          0.02054063966015196,
          0.007167755730311143,
          0.004880775572038365,
          0.010977598006870704,
          0.007532831290920194,
          0.005372630955156277,
          -0.0009520528006462525,
          -0.006278835537746219,
          -0.001984174624829138,
          0.015218190089585582,
          0.012768200430585575,
          -0.0017095629163114134,
          -0.00006747681461161115,
          0.0070656543987908105,
          0.0036663908762024633,
          -0.011993469862770167,
          0.010460389437183082,
          0.01605399480916625,
          0.017110449241956927,
          -0.01828778189803848,
          -0.007415163096120336,
          0.012147783822853864,
          -0.010179380590319864,
          -0.007285855030882082,
          -0.005159037523212229,
          0.007809066797795028,
          0.0031462523633698503,
          0.0019385763414017099,
          -0.011145125167309033,
          -0.005895289834116912,
          -0.015100213994198586,
          -0.0009718306003450028,
          0.007115903120454847,
          -0.011553599723904795,
          0.0031018084224019304,
          0.0015186670392928203,
          -0.0038583284662585537,
          0.005666950653591796,
          0.015380595790255525,
          -0.0006521506439631786,
          -0.010895185618922665,
          0.004080499871991439,
          -0.007900711863995213,
          -0.005002645664529459,
          0.007846664100553236,
          0.011789274789459014,
          0.00302330878121837,
          0.01615328894686363,
          0.0035489554668044487,
          0.001216723074799697,
          0.0049157123348695375,
          -0.003506556004925443,
          0.01059473895415608,
          -0.0025146287311222926,
          -0.0061366662548559825,
          -0.0017464999216180166,
          0.00986433853795532,
          0.0076895728022721155,
          0.00899799727259265,
          0.0009230375346134245,
          0.0021661281637055385,
          -0.006757038133606841,
          0.002167359365088828,
          -0.004019668507243224,
          -0.003340094823463313,
          0.014213405697598436,
          -0.005353941225950454,
          -0.0013820782656573938,
          0.0015951998250951505,
          -0.0028983163894333863,
          -0.0016135047918659495,
          -0.001725071398600564,
          -0.00041489528300719947,
          -0.011068466468039606,
          0.0017762366962270626,
          0.013694531976842006,
          0.0038980694021137907
         ]
        },
        {
         "mode": "lines",
         "name": "Balanced",
         "type": "scatter",
         "x": [
          "2023-01-03T00:00:00",
          "2023-01-04T00:00:00",
          "2023-01-05T00:00:00",
          "2023-01-06T00:00:00",
          "2023-01-09T00:00:00",
          "2023-01-10T00:00:00",
          "2023-01-11T00:00:00",
          "2023-01-12T00:00:00",
          "2023-01-13T00:00:00",
          "2023-01-17T00:00:00",
          "2023-01-18T00:00:00",
          "2023-01-19T00:00:00",
          "2023-01-20T00:00:00",
          "2023-01-23T00:00:00",
          "2023-01-24T00:00:00",
          "2023-01-25T00:00:00",
          "2023-01-26T00:00:00",
          "2023-01-27T00:00:00",
          "2023-01-30T00:00:00",
          "2023-01-31T00:00:00",
          "2023-02-01T00:00:00",
          "2023-02-02T00:00:00",
          "2023-02-03T00:00:00",
          "2023-02-06T00:00:00",
          "2023-02-07T00:00:00",
          "2023-02-08T00:00:00",
          "2023-02-09T00:00:00",
          "2023-02-10T00:00:00",
          "2023-02-13T00:00:00",
          "2023-02-14T00:00:00",
          "2023-02-15T00:00:00",
          "2023-02-16T00:00:00",
          "2023-02-17T00:00:00",
          "2023-02-21T00:00:00",
          "2023-02-22T00:00:00",
          "2023-02-23T00:00:00",
          "2023-02-24T00:00:00",
          "2023-02-27T00:00:00",
          "2023-02-28T00:00:00",
          "2023-03-01T00:00:00",
          "2023-03-02T00:00:00",
          "2023-03-03T00:00:00",
          "2023-03-06T00:00:00",
          "2023-03-07T00:00:00",
          "2023-03-08T00:00:00",
          "2023-03-09T00:00:00",
          "2023-03-10T00:00:00",
          "2023-03-13T00:00:00",
          "2023-03-14T00:00:00",
          "2023-03-15T00:00:00",
          "2023-03-16T00:00:00",
          "2023-03-17T00:00:00",
          "2023-03-20T00:00:00",
          "2023-03-21T00:00:00",
          "2023-03-22T00:00:00",
          "2023-03-23T00:00:00",
          "2023-03-24T00:00:00",
          "2023-03-27T00:00:00",
          "2023-03-28T00:00:00",
          "2023-03-29T00:00:00",
          "2023-03-30T00:00:00",
          "2023-03-31T00:00:00",
          "2023-04-03T00:00:00",
          "2023-04-04T00:00:00",
          "2023-04-05T00:00:00",
          "2023-04-06T00:00:00",
          "2023-04-11T00:00:00",
          "2023-04-12T00:00:00",
          "2023-04-13T00:00:00",
          "2023-04-14T00:00:00",
          "2023-04-17T00:00:00",
          "2023-04-18T00:00:00",
          "2023-04-19T00:00:00",
          "2023-04-20T00:00:00",
          "2023-04-21T00:00:00",
          "2023-04-24T00:00:00",
          "2023-04-25T00:00:00",
          "2023-04-26T00:00:00",
          "2023-04-27T00:00:00",
          "2023-04-28T00:00:00"
         ],
         "y": [
          null,
          0.007012200928814716,
          -0.012678295195233003,
          0.017820075380650335,
          -0.00010189575501706738,
          0.005029934066801189,
          0.00536018096247437,
          0.006405433841955244,
          0.00806935568857492,
          -0.0027006446259862926,
          -0.007072537281074487,
          0.004049745226762713,
          0.006918978885821714,
          0.00720594710099598,
          -0.001996707089422345,
          0.0018970889027822846,
          0.0003555519923845729,
          -0.0006802817141895456,
          -0.008135159784093737,
          0.008639079495555979,
          0.010976590316432056,
          -0.0006185103195822661,
          -0.01563082650266956,
          -0.0040860936517639335,
          0.0075977660277333214,
          -0.004136395261732817,
          -0.007160033341644723,
          -0.00010187102046421703,
          0.004517631112183063,
          0.0003746610767778602,
          -0.0036658128690423286,
          -0.007971837210711152,
          0.0009155755502516794,
          -0.011272989315178172,
          -0.0030844048758319476,
          0.003556746038481995,
          -0.011099439939705302,
          0.0022291727298324737,
          -0.000845607467636289,
          -0.0002487653003193646,
          0.003699395439368258,
          0.013466743514237267,
          -0.0018954181345495202,
          -0.014898449596341345,
          0.0006539420317042133,
          -0.0032472111420377425,
          0.0019679513100612223,
          0.011631334563890094,
          0.006323929495084757,
          0.0008603006936114266,
          0.011096748684336522,
          0.007156375062614906,
          0.004533134427052943,
          -0.0012457851096744355,
          -0.000045030602352724713,
          0.008285452314171327,
          -0.0017383162374458028,
          -0.0025065750332229353,
          0.0003301970897482409,
          0.004055574231747183,
          0.008094431399850777,
          0.004840061303087229,
          0.005561485176294845,
          0.006457274895814047,
          0.0009682994062669703,
          0.00024196465056069982,
          -0.0012742289334674028,
          0.0010003559350009184,
          0.014381214974320544,
          -0.00950494757145881,
          -0.001611792579117255,
          0.00046416399082960247,
          -0.002855795759322377,
          -0.00035621555665910076,
          -0.000660859600631114,
          0.0017037510112316578,
          -0.006206612685679791,
          -0.0047429296985280756,
          0.007223680600848992,
          0.0032874760961503213
         ]
        },
        {
         "mode": "lines",
         "name": "Aggressive",
         "type": "scatter",
         "x": [
          "2023-01-03T00:00:00",
          "2023-01-04T00:00:00",
          "2023-01-05T00:00:00",
          "2023-01-06T00:00:00",
          "2023-01-09T00:00:00",
          "2023-01-10T00:00:00",
          "2023-01-11T00:00:00",
          "2023-01-12T00:00:00",
          "2023-01-13T00:00:00",
          "2023-01-17T00:00:00",
          "2023-01-18T00:00:00",
          "2023-01-19T00:00:00",
          "2023-01-20T00:00:00",
          "2023-01-23T00:00:00",
          "2023-01-24T00:00:00",
          "2023-01-25T00:00:00",
          "2023-01-26T00:00:00",
          "2023-01-27T00:00:00",
          "2023-01-30T00:00:00",
          "2023-01-31T00:00:00",
          "2023-02-01T00:00:00",
          "2023-02-02T00:00:00",
          "2023-02-03T00:00:00",
          "2023-02-06T00:00:00",
          "2023-02-07T00:00:00",
          "2023-02-08T00:00:00",
          "2023-02-09T00:00:00",
          "2023-02-10T00:00:00",
          "2023-02-13T00:00:00",
          "2023-02-14T00:00:00",
          "2023-02-15T00:00:00",
          "2023-02-16T00:00:00",
          "2023-02-17T00:00:00",
          "2023-02-21T00:00:00",
          "2023-02-22T00:00:00",
          "2023-02-23T00:00:00",
          "2023-02-24T00:00:00",
          "2023-02-27T00:00:00",
          "2023-02-28T00:00:00",
          "2023-03-01T00:00:00",
          "2023-03-02T00:00:00",
          "2023-03-03T00:00:00",
          "2023-03-06T00:00:00",
          "2023-03-07T00:00:00",
          "2023-03-08T00:00:00",
          "2023-03-09T00:00:00",
          "2023-03-10T00:00:00",
          "2023-03-13T00:00:00",
          "2023-03-14T00:00:00",
          "2023-03-15T00:00:00",
          "2023-03-16T00:00:00",
          "2023-03-17T00:00:00",
          "2023-03-20T00:00:00",
          "2023-03-21T00:00:00",
          "2023-03-22T00:00:00",
          "2023-03-23T00:00:00",
          "2023-03-24T00:00:00",
          "2023-03-27T00:00:00",
          "2023-03-28T00:00:00",
          "2023-03-29T00:00:00",
          "2023-03-30T00:00:00",
          "2023-03-31T00:00:00",
          "2023-04-03T00:00:00",
          "2023-04-04T00:00:00",
          "2023-04-05T00:00:00",
          "2023-04-06T00:00:00",
          "2023-04-11T00:00:00",
          "2023-04-12T00:00:00",
          "2023-04-13T00:00:00",
          "2023-04-14T00:00:00",
          "2023-04-17T00:00:00",
          "2023-04-18T00:00:00",
          "2023-04-19T00:00:00",
          "2023-04-20T00:00:00",
          "2023-04-21T00:00:00",
          "2023-04-24T00:00:00",
          "2023-04-25T00:00:00",
          "2023-04-26T00:00:00",
          "2023-04-27T00:00:00",
          "2023-04-28T00:00:00"
         ],
         "y": [
          null,
          0.007053434592708019,
          -0.012770851545988227,
          0.01779627886824242,
          -0.0006431672321559612,
          0.0049955548978064535,
          0.005095153750146908,
          0.006271638496428089,
          0.008291383266390673,
          -0.002730702570292509,
          -0.007325212533411785,
          0.004198101269368593,
          0.006542209268909138,
          0.007029131483317741,
          -0.002186508089006667,
          0.001958236219077758,
          0.000020973519912592664,
          -0.0009755997052859344,
          -0.007993796599434444,
          0.008601512088690422,
          0.010588871082540363,
          -0.0015551406225067232,
          -0.015235245768983718,
          -0.004050847540050473,
          0.007361734311822632,
          -0.0037509722226426456,
          -0.007137141471669661,
          0.00021636100397448566,
          0.004534492329898221,
          0.00010583207492675939,
          -0.00406906051183642,
          -0.007859542080725035,
          0.0013716951373601294,
          -0.011178745173385685,
          -0.003293003207341716,
          0.0033117227548280503,
          -0.011255755434610326,
          0.002176142102665146,
          -0.0011776009126011067,
          -0.000027938327184173772,
          0.003630117584779935,
          0.01353626053772694,
          -0.001851521756570551,
          -0.015404000099667359,
          0.000318542919005127,
          -0.0030742438289674823,
          0.002050643963858345,
          0.011634010925523075,
          0.0062526469079955405,
          0.00029367001493874056,
          0.011092033518349087,
          0.007058284375751622,
          0.004989963280870757,
          -0.0013378997987518737,
          -0.00008448581730380322,
          0.008066546211460635,
          -0.0016005438040278541,
          -0.0019506902591460706,
          0.0003616319598696016,
          0.003811320709696142,
          0.008228790512224027,
          0.00474459548047701,
          0.0060539708275939574,
          0.006593952436614536,
          0.0016730889951521721,
          0.00022780665815602674,
          -0.0009409085861860067,
          0.00131594190217732,
          0.014523680294187713,
          -0.009724557138079626,
          -0.0015946073146496653,
          0.00034520739512222676,
          -0.0028535737037695963,
          -0.00033855147937633667,
          -0.0003625428411163645,
          0.001852374275860269,
          -0.006112421468229323,
          -0.005374531016750339,
          0.0068800849803354325,
          0.0033771254204280066
         ]
        },
        {
         "mode": "lines",
         "name": "Equity",
         "type": "scatter",
         "x": [
          "2023-01-03T00:00:00",
          "2023-01-04T00:00:00",
          "2023-01-05T00:00:00",
          "2023-01-06T00:00:00",
          "2023-01-09T00:00:00",
          "2023-01-10T00:00:00",
          "2023-01-11T00:00:00",
          "2023-01-12T00:00:00",
          "2023-01-13T00:00:00",
          "2023-01-17T00:00:00",
          "2023-01-18T00:00:00",
          "2023-01-19T00:00:00",
          "2023-01-20T00:00:00",
          "2023-01-23T00:00:00",
          "2023-01-24T00:00:00",
          "2023-01-25T00:00:00",
          "2023-01-26T00:00:00",
          "2023-01-27T00:00:00",
          "2023-01-30T00:00:00",
          "2023-01-31T00:00:00",
          "2023-02-01T00:00:00",
          "2023-02-02T00:00:00",
          "2023-02-03T00:00:00",
          "2023-02-06T00:00:00",
          "2023-02-07T00:00:00",
          "2023-02-08T00:00:00",
          "2023-02-09T00:00:00",
          "2023-02-10T00:00:00",
          "2023-02-13T00:00:00",
          "2023-02-14T00:00:00",
          "2023-02-15T00:00:00",
          "2023-02-16T00:00:00",
          "2023-02-17T00:00:00",
          "2023-02-21T00:00:00",
          "2023-02-22T00:00:00",
          "2023-02-23T00:00:00",
          "2023-02-24T00:00:00",
          "2023-02-27T00:00:00",
          "2023-02-28T00:00:00",
          "2023-03-01T00:00:00",
          "2023-03-02T00:00:00",
          "2023-03-03T00:00:00",
          "2023-03-06T00:00:00",
          "2023-03-07T00:00:00",
          "2023-03-08T00:00:00",
          "2023-03-09T00:00:00",
          "2023-03-10T00:00:00",
          "2023-03-13T00:00:00",
          "2023-03-14T00:00:00",
          "2023-03-15T00:00:00",
          "2023-03-16T00:00:00",
          "2023-03-17T00:00:00",
          "2023-03-20T00:00:00",
          "2023-03-21T00:00:00",
          "2023-03-22T00:00:00",
          "2023-03-23T00:00:00",
          "2023-03-24T00:00:00",
          "2023-03-27T00:00:00",
          "2023-03-28T00:00:00",
          "2023-03-29T00:00:00",
          "2023-03-30T00:00:00",
          "2023-03-31T00:00:00",
          "2023-04-03T00:00:00",
          "2023-04-04T00:00:00",
          "2023-04-05T00:00:00",
          "2023-04-06T00:00:00",
          "2023-04-11T00:00:00",
          "2023-04-12T00:00:00",
          "2023-04-13T00:00:00",
          "2023-04-14T00:00:00",
          "2023-04-17T00:00:00",
          "2023-04-18T00:00:00",
          "2023-04-19T00:00:00",
          "2023-04-20T00:00:00",
          "2023-04-21T00:00:00",
          "2023-04-24T00:00:00",
          "2023-04-25T00:00:00",
          "2023-04-26T00:00:00",
          "2023-04-27T00:00:00",
          "2023-04-28T00:00:00"
         ],
         "y": [
          null,
          0.005425037848144854,
          -0.013853709172170658,
          0.017783402627584044,
          -0.0019940147563869415,
          0.006181151880087388,
          0.009298798867862335,
          0.002908102906043153,
          0.006196930593736383,
          -0.00013388301415317994,
          -0.01065603381283653,
          -0.0038485589817771615,
          0.014383431479546793,
          0.01158474433165102,
          -0.0064046278586722405,
          0.00002654195679574478,
          0.0066972160782203805,
          -0.0002147645289423128,
          -0.012134623362399677,
          0.012220479586033672,
          0.010249510667003747,
          0.012858740887371933,
          -0.009603140256512543,
          -0.008317653712334505,
          0.012290649948324628,
          -0.008395819210534894,
          -0.006809034552528792,
          -0.0013418403157156034,
          0.011058970116194944,
          0.00010970856179737254,
          0.000009279325762445723,
          -0.012746637448250664,
          -0.00039658354105676086,
          -0.016256206780546067,
          -0.0018789895077442331,
          0.0059909961849131665,
          -0.014281712166874572,
          0.0010781530068324496,
          -0.004557973796473158,
          -0.003927179326811747,
          0.006756612669656548,
          0.015941577600784518,
          0.00035979273724762173,
          -0.014255198784803191,
          0.0011440406885601107,
          -0.01153480149670183,
          -0.011391245322391885,
          0.004243188026781253,
          0.01547336111887887,
          -0.004407329737534882,
          0.01854134181006728,
          -0.007375944252154154,
          0.00809543256838996,
          0.011127599597122062,
          -0.01176164309748684,
          0.005862681866239727,
          0.004736275074454843,
          0.0026924983951228665,
          -0.005175807066507332,
          0.010218461879403673,
          0.00796847689522484,
          0.011784658115876034,
          0.005214856208773044,
          -0.001375307085282662,
          0.0027224021936362863,
          0.005294515219053997,
          -0.0011390173681913307,
          -0.0014070159252855818,
          0.01595123553737432,
          -0.004345772032136819,
          0.00020444000850305954,
          -0.0018768612234910664,
          -0.0017203751943377643,
          -0.0032906137258211787,
          0.005910469475777225,
          0.0007800115329348323,
          -0.014203981702752944,
          -0.0048179198203550655,
          0.012223944172131906,
          0.005351156903402821
         ]
        }
       ],
       "layout": {
        "template": {
         "data": {
          "bar": [
           {
            "error_x": {
             "color": "#2a3f5f"
            },
            "error_y": {
             "color": "#2a3f5f"
            },
            "marker": {
             "line": {
              "color": "#E5ECF6",
              "width": 0.5
             },
             "pattern": {
              "fillmode": "overlay",
              "size": 10,
              "solidity": 0.2
             }
            },
            "type": "bar"
           }
          ],
          "barpolar": [
           {
            "marker": {
             "line": {
              "color": "#E5ECF6",
              "width": 0.5
             },
             "pattern": {
              "fillmode": "overlay",
              "size": 10,
              "solidity": 0.2
             }
            },
            "type": "barpolar"
           }
          ],
          "carpet": [
           {
            "aaxis": {
             "endlinecolor": "#2a3f5f",
             "gridcolor": "white",
             "linecolor": "white",
             "minorgridcolor": "white",
             "startlinecolor": "#2a3f5f"
            },
            "baxis": {
             "endlinecolor": "#2a3f5f",
             "gridcolor": "white",
             "linecolor": "white",
             "minorgridcolor": "white",
             "startlinecolor": "#2a3f5f"
            },
            "type": "carpet"
           }
          ],
          "choropleth": [
           {
            "colorbar": {
             "outlinewidth": 0,
             "ticks": ""
            },
            "type": "choropleth"
           }
          ],
          "contour": [
           {
            "colorbar": {
             "outlinewidth": 0,
             "ticks": ""
            },
            "colorscale": [
             [
              0,
              "#0d0887"
             ],
             [
              0.1111111111111111,
              "#46039f"
             ],
             [
              0.2222222222222222,
              "#7201a8"
             ],
             [
              0.3333333333333333,
              "#9c179e"
             ],
             [
              0.4444444444444444,
              "#bd3786"
             ],
             [
              0.5555555555555556,
              "#d8576b"
             ],
             [
              0.6666666666666666,
              "#ed7953"
             ],
             [
              0.7777777777777778,
              "#fb9f3a"
             ],
             [
              0.8888888888888888,
              "#fdca26"
             ],
             [
              1,
              "#f0f921"
             ]
            ],
            "type": "contour"
           }
          ],
          "contourcarpet": [
           {
            "colorbar": {
             "outlinewidth": 0,
             "ticks": ""
            },
            "type": "contourcarpet"
           }
          ],
          "heatmap": [
           {
            "colorbar": {
             "outlinewidth": 0,
             "ticks": ""
            },
            "colorscale": [
             [
              0,
              "#0d0887"
             ],
             [
              0.1111111111111111,
              "#46039f"
             ],
             [
              0.2222222222222222,
              "#7201a8"
             ],
             [
              0.3333333333333333,
              "#9c179e"
             ],
             [
              0.4444444444444444,
              "#bd3786"
             ],
             [
              0.5555555555555556,
              "#d8576b"
             ],
             [
              0.6666666666666666,
              "#ed7953"
             ],
             [
              0.7777777777777778,
              "#fb9f3a"
             ],
             [
              0.8888888888888888,
              "#fdca26"
             ],
             [
              1,
              "#f0f921"
             ]
            ],
            "type": "heatmap"
           }
          ],
          "heatmapgl": [
           {
            "colorbar": {
             "outlinewidth": 0,
             "ticks": ""
            },
            "colorscale": [
             [
              0,
              "#0d0887"
             ],
             [
              0.1111111111111111,
              "#46039f"
             ],
             [
              0.2222222222222222,
              "#7201a8"
             ],
             [
              0.3333333333333333,
              "#9c179e"
             ],
             [
              0.4444444444444444,
              "#bd3786"
             ],
             [
              0.5555555555555556,
              "#d8576b"
             ],
             [
              0.6666666666666666,
              "#ed7953"
             ],
             [
              0.7777777777777778,
              "#fb9f3a"
             ],
             [
              0.8888888888888888,
              "#fdca26"
             ],
             [
              1,
              "#f0f921"
             ]
            ],
            "type": "heatmapgl"
           }
          ],
          "histogram": [
           {
            "marker": {
             "pattern": {
              "fillmode": "overlay",
              "size": 10,
              "solidity": 0.2
             }
            },
            "type": "histogram"
           }
          ],
          "histogram2d": [
           {
            "colorbar": {
             "outlinewidth": 0,
             "ticks": ""
            },
            "colorscale": [
             [
              0,
              "#0d0887"
             ],
             [
              0.1111111111111111,
              "#46039f"
             ],
             [
              0.2222222222222222,
              "#7201a8"
             ],
             [
              0.3333333333333333,
              "#9c179e"
             ],
             [
              0.4444444444444444,
              "#bd3786"
             ],
             [
              0.5555555555555556,
              "#d8576b"
             ],
             [
              0.6666666666666666,
              "#ed7953"
             ],
             [
              0.7777777777777778,
              "#fb9f3a"
             ],
             [
              0.8888888888888888,
              "#fdca26"
             ],
             [
              1,
              "#f0f921"
             ]
            ],
            "type": "histogram2d"
           }
          ],
          "histogram2dcontour": [
           {
            "colorbar": {
             "outlinewidth": 0,
             "ticks": ""
            },
            "colorscale": [
             [
              0,
              "#0d0887"
             ],
             [
              0.1111111111111111,
              "#46039f"
             ],
             [
              0.2222222222222222,
              "#7201a8"
             ],
             [
              0.3333333333333333,
              "#9c179e"
             ],
             [
              0.4444444444444444,
              "#bd3786"
             ],
             [
              0.5555555555555556,
              "#d8576b"
             ],
             [
              0.6666666666666666,
              "#ed7953"
             ],
             [
              0.7777777777777778,
              "#fb9f3a"
             ],
             [
              0.8888888888888888,
              "#fdca26"
             ],
             [
              1,
              "#f0f921"
             ]
            ],
            "type": "histogram2dcontour"
           }
          ],
          "mesh3d": [
           {
            "colorbar": {
             "outlinewidth": 0,
             "ticks": ""
            },
            "type": "mesh3d"
           }
          ],
          "parcoords": [
           {
            "line": {
             "colorbar": {
              "outlinewidth": 0,
              "ticks": ""
             }
            },
            "type": "parcoords"
           }
          ],
          "pie": [
           {
            "automargin": true,
            "type": "pie"
           }
          ],
          "scatter": [
           {
            "fillpattern": {
             "fillmode": "overlay",
             "size": 10,
             "solidity": 0.2
            },
            "type": "scatter"
           }
          ],
          "scatter3d": [
           {
            "line": {
             "colorbar": {
              "outlinewidth": 0,
              "ticks": ""
             }
            },
            "marker": {
             "colorbar": {
              "outlinewidth": 0,
              "ticks": ""
             }
            },
            "type": "scatter3d"
           }
          ],
          "scattercarpet": [
           {
            "marker": {
             "colorbar": {
              "outlinewidth": 0,
              "ticks": ""
             }
            },
            "type": "scattercarpet"
           }
          ],
          "scattergeo": [
           {
            "marker": {
             "colorbar": {
              "outlinewidth": 0,
              "ticks": ""
             }
            },
            "type": "scattergeo"
           }
          ],
          "scattergl": [
           {
            "marker": {
             "colorbar": {
              "outlinewidth": 0,
              "ticks": ""
             }
            },
            "type": "scattergl"
           }
          ],
          "scattermapbox": [
           {
            "marker": {
             "colorbar": {
              "outlinewidth": 0,
              "ticks": ""
             }
            },
            "type": "scattermapbox"
           }
          ],
          "scatterpolar": [
           {
            "marker": {
             "colorbar": {
              "outlinewidth": 0,
              "ticks": ""
             }
            },
            "type": "scatterpolar"
           }
          ],
          "scatterpolargl": [
           {
            "marker": {
             "colorbar": {
              "outlinewidth": 0,
              "ticks": ""
             }
            },
            "type": "scatterpolargl"
           }
          ],
          "scatterternary": [
           {
            "marker": {
             "colorbar": {
              "outlinewidth": 0,
              "ticks": ""
             }
            },
            "type": "scatterternary"
           }
          ],
          "surface": [
           {
            "colorbar": {
             "outlinewidth": 0,
             "ticks": ""
            },
            "colorscale": [
             [
              0,
              "#0d0887"
             ],
             [
              0.1111111111111111,
              "#46039f"
             ],
             [
              0.2222222222222222,
              "#7201a8"
             ],
             [
              0.3333333333333333,
              "#9c179e"
             ],
             [
              0.4444444444444444,
              "#bd3786"
             ],
             [
              0.5555555555555556,
              "#d8576b"
             ],
             [
              0.6666666666666666,
              "#ed7953"
             ],
             [
              0.7777777777777778,
              "#fb9f3a"
             ],
             [
              0.8888888888888888,
              "#fdca26"
             ],
             [
              1,
              "#f0f921"
             ]
            ],
            "type": "surface"
           }
          ],
          "table": [
           {
            "cells": {
             "fill": {
              "color": "#EBF0F8"
             },
             "line": {
              "color": "white"
             }
            },
            "header": {
             "fill": {
              "color": "#C8D4E3"
             },
             "line": {
              "color": "white"
             }
            },
            "type": "table"
           }
          ]
         },
         "layout": {
          "annotationdefaults": {
           "arrowcolor": "#2a3f5f",
           "arrowhead": 0,
           "arrowwidth": 1
          },
          "autotypenumbers": "strict",
          "coloraxis": {
           "colorbar": {
            "outlinewidth": 0,
            "ticks": ""
           }
          },
          "colorscale": {
           "diverging": [
            [
             0,
             "#8e0152"
            ],
            [
             0.1,
             "#c51b7d"
            ],
            [
             0.2,
             "#de77ae"
            ],
            [
             0.3,
             "#f1b6da"
            ],
            [
             0.4,
             "#fde0ef"
            ],
            [
             0.5,
             "#f7f7f7"
            ],
            [
             0.6,
             "#e6f5d0"
            ],
            [
             0.7,
             "#b8e186"
            ],
            [
             0.8,
             "#7fbc41"
            ],
            [
             0.9,
             "#4d9221"
            ],
            [
             1,
             "#276419"
            ]
           ],
           "sequential": [
            [
             0,
             "#0d0887"
            ],
            [
             0.1111111111111111,
             "#46039f"
            ],
            [
             0.2222222222222222,
             "#7201a8"
            ],
            [
             0.3333333333333333,
             "#9c179e"
            ],
            [
             0.4444444444444444,
             "#bd3786"
            ],
            [
             0.5555555555555556,
             "#d8576b"
            ],
            [
             0.6666666666666666,
             "#ed7953"
            ],
            [
             0.7777777777777778,
             "#fb9f3a"
            ],
            [
             0.8888888888888888,
             "#fdca26"
            ],
            [
             1,
             "#f0f921"
            ]
           ],
           "sequentialminus": [
            [
             0,
             "#0d0887"
            ],
            [
             0.1111111111111111,
             "#46039f"
            ],
            [
             0.2222222222222222,
             "#7201a8"
            ],
            [
             0.3333333333333333,
             "#9c179e"
            ],
            [
             0.4444444444444444,
             "#bd3786"
            ],
            [
             0.5555555555555556,
             "#d8576b"
            ],
            [
             0.6666666666666666,
             "#ed7953"
            ],
            [
             0.7777777777777778,
             "#fb9f3a"
            ],
            [
             0.8888888888888888,
             "#fdca26"
            ],
            [
             1,
             "#f0f921"
            ]
           ]
          },
          "colorway": [
           "#636efa",
           "#EF553B",
           "#00cc96",
           "#ab63fa",
           "#FFA15A",
           "#19d3f3",
           "#FF6692",
           "#B6E880",
           "#FF97FF",
           "#FECB52"
          ],
          "font": {
           "color": "#2a3f5f"
          },
          "geo": {
           "bgcolor": "white",
           "lakecolor": "white",
           "landcolor": "#E5ECF6",
           "showlakes": true,
           "showland": true,
           "subunitcolor": "white"
          },
          "hoverlabel": {
           "align": "left"
          },
          "hovermode": "closest",
          "mapbox": {
           "style": "light"
          },
          "paper_bgcolor": "white",
          "plot_bgcolor": "#E5ECF6",
          "polar": {
           "angularaxis": {
            "gridcolor": "white",
            "linecolor": "white",
            "ticks": ""
           },
           "bgcolor": "#E5ECF6",
           "radialaxis": {
            "gridcolor": "white",
            "linecolor": "white",
            "ticks": ""
           }
          },
          "scene": {
           "xaxis": {
            "backgroundcolor": "#E5ECF6",
            "gridcolor": "white",
            "gridwidth": 2,
            "linecolor": "white",
            "showbackground": true,
            "ticks": "",
            "zerolinecolor": "white"
           },
           "yaxis": {
            "backgroundcolor": "#E5ECF6",
            "gridcolor": "white",
            "gridwidth": 2,
            "linecolor": "white",
            "showbackground": true,
            "ticks": "",
            "zerolinecolor": "white"
           },
           "zaxis": {
            "backgroundcolor": "#E5ECF6",
            "gridcolor": "white",
            "gridwidth": 2,
            "linecolor": "white",
            "showbackground": true,
            "ticks": "",
            "zerolinecolor": "white"
           }
          },
          "shapedefaults": {
           "line": {
            "color": "#2a3f5f"
           }
          },
          "ternary": {
           "aaxis": {
            "gridcolor": "white",
            "linecolor": "white",
            "ticks": ""
           },
           "baxis": {
            "gridcolor": "white",
            "linecolor": "white",
            "ticks": ""
           },
           "bgcolor": "#E5ECF6",
           "caxis": {
            "gridcolor": "white",
            "linecolor": "white",
            "ticks": ""
           }
          },
          "title": {
           "x": 0.05
          },
          "xaxis": {
           "automargin": true,
           "gridcolor": "white",
           "linecolor": "white",
           "ticks": "",
           "title": {
            "standoff": 15
           },
           "zerolinecolor": "white",
           "zerolinewidth": 2
          },
          "yaxis": {
           "automargin": true,
           "gridcolor": "white",
           "linecolor": "white",
           "ticks": "",
           "title": {
            "standoff": 15
           },
           "zerolinecolor": "white",
           "zerolinewidth": 2
          }
         }
        },
        "title": {
         "text": "Daily Percentage Change (%)"
        },
        "xaxis": {
         "title": {
          "text": "Date"
         }
        },
        "yaxis": {
         "tickformat": ".2%",
         "title": {
          "text": "Percentage Change"
         }
        }
       }
      }
     },
     "metadata": {},
     "output_type": "display_data"
    }
   ],
   "source": [
    "# daily percentage change\n",
    "df2023_pct = df2023_port.pct_change()\n",
    "df2023_pct = df2023_pct\n",
    "\n",
    "# plot daily percentage change\n",
    "fig = go.Figure()\n",
    "for col in df2023_pct.columns:\n",
    "    fig.add_trace(go.Scatter(x=df2023_pct.index, y=df2023_pct[col], mode='lines', name=col))\n",
    "fig.update_layout(title='Daily Percentage Change (%)', xaxis_title='Date', yaxis_title='Percentage Change')\n",
    "fig.update_yaxes(tickformat=\".2%\")\n",
    "fig.show()"
   ]
  },
  {
   "cell_type": "code",
   "execution_count": 22,
   "metadata": {},
   "outputs": [
    {
     "data": {
      "text/plain": [
       "Fixed Income    0.002202\n",
       "Moderate        0.008417\n",
       "Balanced        0.006519\n",
       "Aggressive      0.006528\n",
       "Equity          0.008745\n",
       "dtype: float64"
      ]
     },
     "execution_count": 22,
     "metadata": {},
     "output_type": "execute_result"
    }
   ],
   "source": [
    "# daily percentage change standard deviation\n",
    "df2023_pct.std()"
   ]
  },
  {
   "cell_type": "code",
   "execution_count": 23,
   "metadata": {},
   "outputs": [
    {
     "data": {
      "text/html": [
       "<div>\n",
       "<style scoped>\n",
       "    .dataframe tbody tr th:only-of-type {\n",
       "        vertical-align: middle;\n",
       "    }\n",
       "\n",
       "    .dataframe tbody tr th {\n",
       "        vertical-align: top;\n",
       "    }\n",
       "\n",
       "    .dataframe thead th {\n",
       "        text-align: right;\n",
       "    }\n",
       "</style>\n",
       "<table border=\"1\" class=\"dataframe\">\n",
       "  <thead>\n",
       "    <tr style=\"text-align: right;\">\n",
       "      <th></th>\n",
       "      <th>Fixed Income</th>\n",
       "      <th>Moderate</th>\n",
       "      <th>Balanced</th>\n",
       "      <th>Aggressive</th>\n",
       "      <th>Equity</th>\n",
       "    </tr>\n",
       "    <tr>\n",
       "      <th>Date</th>\n",
       "      <th></th>\n",
       "      <th></th>\n",
       "      <th></th>\n",
       "      <th></th>\n",
       "      <th></th>\n",
       "    </tr>\n",
       "  </thead>\n",
       "  <tbody>\n",
       "    <tr>\n",
       "      <th>2023-01-03</th>\n",
       "      <td>1.000000</td>\n",
       "      <td>1.000000</td>\n",
       "      <td>1.000000</td>\n",
       "      <td>1.000000</td>\n",
       "      <td>1.000000</td>\n",
       "    </tr>\n",
       "    <tr>\n",
       "      <th>2023-01-04</th>\n",
       "      <td>1.002534</td>\n",
       "      <td>1.007219</td>\n",
       "      <td>1.007012</td>\n",
       "      <td>1.007053</td>\n",
       "      <td>1.005425</td>\n",
       "    </tr>\n",
       "    <tr>\n",
       "      <th>2023-01-05</th>\n",
       "      <td>1.001998</td>\n",
       "      <td>0.993320</td>\n",
       "      <td>0.994245</td>\n",
       "      <td>0.994193</td>\n",
       "      <td>0.991496</td>\n",
       "    </tr>\n",
       "    <tr>\n",
       "      <th>2023-01-06</th>\n",
       "      <td>1.005801</td>\n",
       "      <td>1.013723</td>\n",
       "      <td>1.011963</td>\n",
       "      <td>1.011885</td>\n",
       "      <td>1.009128</td>\n",
       "    </tr>\n",
       "    <tr>\n",
       "      <th>2023-01-09</th>\n",
       "      <td>1.005005</td>\n",
       "      <td>1.020989</td>\n",
       "      <td>1.011859</td>\n",
       "      <td>1.011235</td>\n",
       "      <td>1.007116</td>\n",
       "    </tr>\n",
       "  </tbody>\n",
       "</table>\n",
       "</div>"
      ],
      "text/plain": [
       "            Fixed Income  Moderate  Balanced  Aggressive    Equity\n",
       "Date                                                              \n",
       "2023-01-03      1.000000  1.000000  1.000000    1.000000  1.000000\n",
       "2023-01-04      1.002534  1.007219  1.007012    1.007053  1.005425\n",
       "2023-01-05      1.001998  0.993320  0.994245    0.994193  0.991496\n",
       "2023-01-06      1.005801  1.013723  1.011963    1.011885  1.009128\n",
       "2023-01-09      1.005005  1.020989  1.011859    1.011235  1.007116"
      ]
     },
     "execution_count": 23,
     "metadata": {},
     "output_type": "execute_result"
    }
   ],
   "source": [
    "# cumulative return\n",
    "df2023_cum = (df2023_pct + 1).cumprod()\n",
    "\n",
    "# fill 1st row with 1\n",
    "df2023_cum.iloc[0] = 1\n",
    "df2023_cum.head()\n"
   ]
  },
  {
   "cell_type": "code",
   "execution_count": 24,
   "metadata": {},
   "outputs": [
    {
     "data": {
      "application/vnd.plotly.v1+json": {
       "config": {
        "plotlyServerURL": "https://plot.ly"
       },
       "data": [
        {
         "mode": "lines",
         "name": "Fixed Income",
         "type": "scatter",
         "x": [
          "2023-01-03T00:00:00",
          "2023-01-04T00:00:00",
          "2023-01-05T00:00:00",
          "2023-01-06T00:00:00",
          "2023-01-09T00:00:00",
          "2023-01-10T00:00:00",
          "2023-01-11T00:00:00",
          "2023-01-12T00:00:00",
          "2023-01-13T00:00:00",
          "2023-01-17T00:00:00",
          "2023-01-18T00:00:00",
          "2023-01-19T00:00:00",
          "2023-01-20T00:00:00",
          "2023-01-23T00:00:00",
          "2023-01-24T00:00:00",
          "2023-01-25T00:00:00",
          "2023-01-26T00:00:00",
          "2023-01-27T00:00:00",
          "2023-01-30T00:00:00",
          "2023-01-31T00:00:00",
          "2023-02-01T00:00:00",
          "2023-02-02T00:00:00",
          "2023-02-03T00:00:00",
          "2023-02-06T00:00:00",
          "2023-02-07T00:00:00",
          "2023-02-08T00:00:00",
          "2023-02-09T00:00:00",
          "2023-02-10T00:00:00",
          "2023-02-13T00:00:00",
          "2023-02-14T00:00:00",
          "2023-02-15T00:00:00",
          "2023-02-16T00:00:00",
          "2023-02-17T00:00:00",
          "2023-02-21T00:00:00",
          "2023-02-22T00:00:00",
          "2023-02-23T00:00:00",
          "2023-02-24T00:00:00",
          "2023-02-27T00:00:00",
          "2023-02-28T00:00:00",
          "2023-03-01T00:00:00",
          "2023-03-02T00:00:00",
          "2023-03-03T00:00:00",
          "2023-03-06T00:00:00",
          "2023-03-07T00:00:00",
          "2023-03-08T00:00:00",
          "2023-03-09T00:00:00",
          "2023-03-10T00:00:00",
          "2023-03-13T00:00:00",
          "2023-03-14T00:00:00",
          "2023-03-15T00:00:00",
          "2023-03-16T00:00:00",
          "2023-03-17T00:00:00",
          "2023-03-20T00:00:00",
          "2023-03-21T00:00:00",
          "2023-03-22T00:00:00",
          "2023-03-23T00:00:00",
          "2023-03-24T00:00:00",
          "2023-03-27T00:00:00",
          "2023-03-28T00:00:00",
          "2023-03-29T00:00:00",
          "2023-03-30T00:00:00",
          "2023-03-31T00:00:00",
          "2023-04-03T00:00:00",
          "2023-04-04T00:00:00",
          "2023-04-05T00:00:00",
          "2023-04-06T00:00:00",
          "2023-04-11T00:00:00",
          "2023-04-12T00:00:00",
          "2023-04-13T00:00:00",
          "2023-04-14T00:00:00",
          "2023-04-17T00:00:00",
          "2023-04-18T00:00:00",
          "2023-04-19T00:00:00",
          "2023-04-20T00:00:00",
          "2023-04-21T00:00:00",
          "2023-04-24T00:00:00",
          "2023-04-25T00:00:00",
          "2023-04-26T00:00:00",
          "2023-04-27T00:00:00",
          "2023-04-28T00:00:00"
         ],
         "y": [
          1,
          1.0025343637225015,
          1.0019975504553333,
          1.0058006498557737,
          1.0050045216264962,
          1.0042783320916655,
          1.0080502893777767,
          1.0102456399998412,
          1.008932602107798,
          1.010856079659818,
          1.0140077182410439,
          1.0136109179106003,
          1.0115824167025833,
          1.010454582995677,
          1.012587691249444,
          1.0132017647873204,
          1.0120946160781987,
          1.0108734935694883,
          1.008900800194465,
          1.0107505177991953,
          1.0103390364425708,
          1.0148541666094824,
          1.011315780164213,
          1.0089972783570145,
          1.0079338537903626,
          1.0089289403229922,
          1.00787385792804,
          1.006525182916367,
          1.0074312882775491,
          1.0061160297930867,
          1.0052692325883166,
          1.0041047929934546,
          1.0052834970042503,
          1.0012027657442697,
          1.0019980747065056,
          1.0039356711598757,
          1.0019137898687558,
          1.0013130000183843,
          1.0011961737342787,
          0.9970747203176303,
          0.9968249594843044,
          0.9988279737132645,
          0.9986724704500689,
          0.9988401251777046,
          0.9993269691353934,
          0.9999692087153529,
          1.0053291028695592,
          1.0117111333222175,
          1.0086843562208252,
          1.013086359762096,
          1.010748050031318,
          1.0138055107764317,
          1.0135080151794986,
          1.0111584689321444,
          1.0129187728083764,
          1.0160025437862896,
          1.016109558799402,
          1.0125460481648603,
          1.011599099052632,
          1.011726948564814,
          1.011472666812631,
          1.013340525899952,
          1.0118708126546392,
          1.012529296047545,
          1.0140187633959747,
          1.0137526790156837,
          1.0108229980154857,
          1.0111409354214462,
          1.011505114571515,
          1.009052817087695,
          1.0075771158175821,
          1.0080122024304243,
          1.0074216524213964,
          1.0094352294144753,
          1.0085118317380015,
          1.0087638809376624,
          1.012862508498126,
          1.0113638079503378,
          1.0099728639420356,
          1.0139624313118085
         ]
        },
        {
         "mode": "lines",
         "name": "Moderate",
         "type": "scatter",
         "x": [
          "2023-01-03T00:00:00",
          "2023-01-04T00:00:00",
          "2023-01-05T00:00:00",
          "2023-01-06T00:00:00",
          "2023-01-09T00:00:00",
          "2023-01-10T00:00:00",
          "2023-01-11T00:00:00",
          "2023-01-12T00:00:00",
          "2023-01-13T00:00:00",
          "2023-01-17T00:00:00",
          "2023-01-18T00:00:00",
          "2023-01-19T00:00:00",
          "2023-01-20T00:00:00",
          "2023-01-23T00:00:00",
          "2023-01-24T00:00:00",
          "2023-01-25T00:00:00",
          "2023-01-26T00:00:00",
          "2023-01-27T00:00:00",
          "2023-01-30T00:00:00",
          "2023-01-31T00:00:00",
          "2023-02-01T00:00:00",
          "2023-02-02T00:00:00",
          "2023-02-03T00:00:00",
          "2023-02-06T00:00:00",
          "2023-02-07T00:00:00",
          "2023-02-08T00:00:00",
          "2023-02-09T00:00:00",
          "2023-02-10T00:00:00",
          "2023-02-13T00:00:00",
          "2023-02-14T00:00:00",
          "2023-02-15T00:00:00",
          "2023-02-16T00:00:00",
          "2023-02-17T00:00:00",
          "2023-02-21T00:00:00",
          "2023-02-22T00:00:00",
          "2023-02-23T00:00:00",
          "2023-02-24T00:00:00",
          "2023-02-27T00:00:00",
          "2023-02-28T00:00:00",
          "2023-03-01T00:00:00",
          "2023-03-02T00:00:00",
          "2023-03-03T00:00:00",
          "2023-03-06T00:00:00",
          "2023-03-07T00:00:00",
          "2023-03-08T00:00:00",
          "2023-03-09T00:00:00",
          "2023-03-10T00:00:00",
          "2023-03-13T00:00:00",
          "2023-03-14T00:00:00",
          "2023-03-15T00:00:00",
          "2023-03-16T00:00:00",
          "2023-03-17T00:00:00",
          "2023-03-20T00:00:00",
          "2023-03-21T00:00:00",
          "2023-03-22T00:00:00",
          "2023-03-23T00:00:00",
          "2023-03-24T00:00:00",
          "2023-03-27T00:00:00",
          "2023-03-28T00:00:00",
          "2023-03-29T00:00:00",
          "2023-03-30T00:00:00",
          "2023-03-31T00:00:00",
          "2023-04-03T00:00:00",
          "2023-04-04T00:00:00",
          "2023-04-05T00:00:00",
          "2023-04-06T00:00:00",
          "2023-04-11T00:00:00",
          "2023-04-12T00:00:00",
          "2023-04-13T00:00:00",
          "2023-04-14T00:00:00",
          "2023-04-17T00:00:00",
          "2023-04-18T00:00:00",
          "2023-04-19T00:00:00",
          "2023-04-20T00:00:00",
          "2023-04-21T00:00:00",
          "2023-04-24T00:00:00",
          "2023-04-25T00:00:00",
          "2023-04-26T00:00:00",
          "2023-04-27T00:00:00",
          "2023-04-28T00:00:00"
         ],
         "y": [
          1,
          1.0072190658625917,
          0.9933197836708859,
          1.0137232074145697,
          1.0209893277434647,
          1.025972547513627,
          1.0372352617063167,
          1.045048579941744,
          1.050663240291981,
          1.0496629534115252,
          1.0430722923569893,
          1.041002654782632,
          1.0568448310668774,
          1.0703388376939678,
          1.0685090261091583,
          1.0684369265236928,
          1.0759861325934155,
          1.0799311183328764,
          1.0669789970112833,
          1.0781400128413163,
          1.0954484670110252,
          1.114192082402997,
          1.0938159806074896,
          1.0857051567141422,
          1.0988940682532633,
          1.0877080073040684,
          1.0797831244469214,
          1.0742124827909683,
          1.0826010798241081,
          1.0860072160300915,
          1.088112523925679,
          1.0759853736504108,
          1.069642128015471,
          1.0534903029852276,
          1.0524664888716198,
          1.0599557384439555,
          1.0477094341169182,
          1.050959228063892,
          1.0525552852031932,
          1.0484941811839827,
          1.0544359459693304,
          1.0706537990410003,
          1.0699555714764941,
          1.0582982069212572,
          1.0626165926191282,
          1.0542211650989441,
          1.0489472701579068,
          1.0571780070460282,
          1.0696413690724664,
          1.0728752252163376,
          1.0902056887331886,
          1.0940747801721595,
          1.0954059662027513,
          1.1007906668225038,
          1.0969306826995915,
          1.1085523769335979,
          1.1057647792766068,
          1.0989790698698116,
          1.097059703010424,
          1.1078814713172676,
          1.11640060654725,
          1.126445976160083,
          1.127485728076793,
          1.129928006666556,
          1.1222930400372797,
          1.1247254523679786,
          1.1202044288878001,
          1.1164628398736514,
          1.1323315791630684,
          1.1262691424399416,
          1.1247125503368947,
          1.1265066916004745,
          1.1232417187934025,
          1.1214293628977057,
          1.11949481717822,
          1.1190303440592217,
          1.1066443942192834,
          1.1086100566019697,
          1.123791952471954,
          1.1281725714962265
         ]
        },
        {
         "mode": "lines",
         "name": "Balanced",
         "type": "scatter",
         "x": [
          "2023-01-03T00:00:00",
          "2023-01-04T00:00:00",
          "2023-01-05T00:00:00",
          "2023-01-06T00:00:00",
          "2023-01-09T00:00:00",
          "2023-01-10T00:00:00",
          "2023-01-11T00:00:00",
          "2023-01-12T00:00:00",
          "2023-01-13T00:00:00",
          "2023-01-17T00:00:00",
          "2023-01-18T00:00:00",
          "2023-01-19T00:00:00",
          "2023-01-20T00:00:00",
          "2023-01-23T00:00:00",
          "2023-01-24T00:00:00",
          "2023-01-25T00:00:00",
          "2023-01-26T00:00:00",
          "2023-01-27T00:00:00",
          "2023-01-30T00:00:00",
          "2023-01-31T00:00:00",
          "2023-02-01T00:00:00",
          "2023-02-02T00:00:00",
          "2023-02-03T00:00:00",
          "2023-02-06T00:00:00",
          "2023-02-07T00:00:00",
          "2023-02-08T00:00:00",
          "2023-02-09T00:00:00",
          "2023-02-10T00:00:00",
          "2023-02-13T00:00:00",
          "2023-02-14T00:00:00",
          "2023-02-15T00:00:00",
          "2023-02-16T00:00:00",
          "2023-02-17T00:00:00",
          "2023-02-21T00:00:00",
          "2023-02-22T00:00:00",
          "2023-02-23T00:00:00",
          "2023-02-24T00:00:00",
          "2023-02-27T00:00:00",
          "2023-02-28T00:00:00",
          "2023-03-01T00:00:00",
          "2023-03-02T00:00:00",
          "2023-03-03T00:00:00",
          "2023-03-06T00:00:00",
          "2023-03-07T00:00:00",
          "2023-03-08T00:00:00",
          "2023-03-09T00:00:00",
          "2023-03-10T00:00:00",
          "2023-03-13T00:00:00",
          "2023-03-14T00:00:00",
          "2023-03-15T00:00:00",
          "2023-03-16T00:00:00",
          "2023-03-17T00:00:00",
          "2023-03-20T00:00:00",
          "2023-03-21T00:00:00",
          "2023-03-22T00:00:00",
          "2023-03-23T00:00:00",
          "2023-03-24T00:00:00",
          "2023-03-27T00:00:00",
          "2023-03-28T00:00:00",
          "2023-03-29T00:00:00",
          "2023-03-30T00:00:00",
          "2023-03-31T00:00:00",
          "2023-04-03T00:00:00",
          "2023-04-04T00:00:00",
          "2023-04-05T00:00:00",
          "2023-04-06T00:00:00",
          "2023-04-11T00:00:00",
          "2023-04-12T00:00:00",
          "2023-04-13T00:00:00",
          "2023-04-14T00:00:00",
          "2023-04-17T00:00:00",
          "2023-04-18T00:00:00",
          "2023-04-19T00:00:00",
          "2023-04-20T00:00:00",
          "2023-04-21T00:00:00",
          "2023-04-24T00:00:00",
          "2023-04-25T00:00:00",
          "2023-04-26T00:00:00",
          "2023-04-27T00:00:00",
          "2023-04-28T00:00:00"
         ],
         "y": [
          1,
          1.0070122009288147,
          0.9942450029802379,
          1.0119625238801806,
          1.0118594091947608,
          1.016948995307883,
          1.0224000259523398,
          1.0289489416785909,
          1.0372518966743782,
          1.0344506479138305,
          1.0271344571410281,
          1.0312940900060785,
          1.0384295920399034,
          1.0459124607482517,
          1.0438240799229606,
          1.0458043070014393,
          1.0461761448064382,
          1.045464450305305,
          1.0369594299534817,
          1.0459178049025162,
          1.057398416151593,
          1.0567444043192933,
          1.0402266158777116,
          1.0359761525061777,
          1.043847256923231,
          1.039529492075721,
          1.0320864262528358,
          1.0319812865553861,
          1.0366433973227194,
          1.037031787254195,
          1.0332302227828727,
          1.0249934796456608,
          1.0259319386147918,
          1.0143666188326872,
          1.0112379014876784,
          1.0148346178877576,
          1.0035705219977786,
          1.0058076540378798,
          1.0049571355746196,
          1.0047071371109804,
          1.0084239461119096,
          1.0220041327478138,
          1.020067007581019,
          1.0048695906836824,
          1.0055267171454119,
          1.0022615595858806,
          1.0042339615350917,
          1.015914542722127,
          1.022339114663333,
          1.023218633712784,
          1.034573033740225,
          1.0419768263993374,
          1.0467002474232796,
          1.0453962838407471,
          1.0453492090163885,
          1.0540104000393504,
          1.0521781966465253,
          1.0495408330483096,
          1.0498873883769542,
          1.0541452846154922,
          1.0626779913072883,
          1.0678214179306573,
          1.0737600909174088,
          1.0806936549966168,
          1.0817400900211065,
          1.082001832883986,
          1.0806231148424605,
          1.0817041225888924,
          1.097260342114452,
          1.0868309400904133,
          1.0850791940464204,
          1.085582848735495,
          1.082482645839683,
          1.0820970486814214,
          1.0813819344579858,
          1.0832243400223462,
          1.0765011860921265,
          1.0713954166461095,
          1.0791348349331744,
          1.0826824649075404
         ]
        },
        {
         "mode": "lines",
         "name": "Aggressive",
         "type": "scatter",
         "x": [
          "2023-01-03T00:00:00",
          "2023-01-04T00:00:00",
          "2023-01-05T00:00:00",
          "2023-01-06T00:00:00",
          "2023-01-09T00:00:00",
          "2023-01-10T00:00:00",
          "2023-01-11T00:00:00",
          "2023-01-12T00:00:00",
          "2023-01-13T00:00:00",
          "2023-01-17T00:00:00",
          "2023-01-18T00:00:00",
          "2023-01-19T00:00:00",
          "2023-01-20T00:00:00",
          "2023-01-23T00:00:00",
          "2023-01-24T00:00:00",
          "2023-01-25T00:00:00",
          "2023-01-26T00:00:00",
          "2023-01-27T00:00:00",
          "2023-01-30T00:00:00",
          "2023-01-31T00:00:00",
          "2023-02-01T00:00:00",
          "2023-02-02T00:00:00",
          "2023-02-03T00:00:00",
          "2023-02-06T00:00:00",
          "2023-02-07T00:00:00",
          "2023-02-08T00:00:00",
          "2023-02-09T00:00:00",
          "2023-02-10T00:00:00",
          "2023-02-13T00:00:00",
          "2023-02-14T00:00:00",
          "2023-02-15T00:00:00",
          "2023-02-16T00:00:00",
          "2023-02-17T00:00:00",
          "2023-02-21T00:00:00",
          "2023-02-22T00:00:00",
          "2023-02-23T00:00:00",
          "2023-02-24T00:00:00",
          "2023-02-27T00:00:00",
          "2023-02-28T00:00:00",
          "2023-03-01T00:00:00",
          "2023-03-02T00:00:00",
          "2023-03-03T00:00:00",
          "2023-03-06T00:00:00",
          "2023-03-07T00:00:00",
          "2023-03-08T00:00:00",
          "2023-03-09T00:00:00",
          "2023-03-10T00:00:00",
          "2023-03-13T00:00:00",
          "2023-03-14T00:00:00",
          "2023-03-15T00:00:00",
          "2023-03-16T00:00:00",
          "2023-03-17T00:00:00",
          "2023-03-20T00:00:00",
          "2023-03-21T00:00:00",
          "2023-03-22T00:00:00",
          "2023-03-23T00:00:00",
          "2023-03-24T00:00:00",
          "2023-03-27T00:00:00",
          "2023-03-28T00:00:00",
          "2023-03-29T00:00:00",
          "2023-03-30T00:00:00",
          "2023-03-31T00:00:00",
          "2023-04-03T00:00:00",
          "2023-04-04T00:00:00",
          "2023-04-05T00:00:00",
          "2023-04-06T00:00:00",
          "2023-04-11T00:00:00",
          "2023-04-12T00:00:00",
          "2023-04-13T00:00:00",
          "2023-04-14T00:00:00",
          "2023-04-17T00:00:00",
          "2023-04-18T00:00:00",
          "2023-04-19T00:00:00",
          "2023-04-20T00:00:00",
          "2023-04-21T00:00:00",
          "2023-04-24T00:00:00",
          "2023-04-25T00:00:00",
          "2023-04-26T00:00:00",
          "2023-04-27T00:00:00",
          "2023-04-28T00:00:00"
         ],
         "y": [
          1,
          1.007053434592708,
          0.994192504680647,
          1.0118854317426602,
          1.0112346201902673,
          1.0162862982499903,
          1.0214644331937417,
          1.0278706888556917,
          1.0363931586852833,
          1.0335630772230278,
          1.025992008015682,
          1.0302992263668946,
          1.0370396595153821,
          1.0443291476355308,
          1.0420457135066403,
          1.0440862851647637,
          1.044108183329256,
          1.0430895516933134,
          1.0347513059820819,
          1.0436517318492748,
          1.0547028254928967,
          1.0530626142843,
          1.0370189465455502,
          1.0328181408969503,
          1.0404214736426642,
          1.0365188815951898,
          1.0291210996991882,
          1.0293437613735303,
          1.0340113127643071,
          1.0341207443270348,
          1.0299128444418229,
          1.0218182011014532,
          1.0232198241591701,
          1.0117815104885381,
          1.0084497107293704,
          1.0117894165834926,
          1.0004009623591017,
          1.002577977012838,
          1.0013973402721539,
          1.00136936290562,
          1.0050044514387635,
          1.018608453535014,
          1.016722477821867,
          1.001060884672165,
          1.0013797655284702,
          0.9983012799638414,
          1.0003484404577114,
          1.0119865051433263,
          1.0183140994356439,
          1.0186131477524374,
          1.0299116389295384,
          1.0371810481589996,
          1.042356543504928,
          1.040961974895145,
          1.0408740283719138,
          1.0492702868220851,
          1.0475908837657615,
          1.0455473584332293,
          1.045925461773596,
          1.0499118191468522,
          1.0585513235629196,
          1.0635737213885492,
          1.070012565670831,
          1.0770681776354443,
          1.0788702085504747,
          1.0791159823672687,
          1.0781006328739688,
          1.0795193506715315,
          1.0951979445920739,
          1.0845476296023808,
          1.0828182020191308,
          1.0831919988700407,
          1.0801010306659315,
          1.0797353608641236,
          1.0793439105387421,
          1.0813432594334305,
          1.0747336336799445,
          1.0689574444309868,
          1.0763119624890343,
          1.0799468029778667
         ]
        },
        {
         "mode": "lines",
         "name": "Equity",
         "type": "scatter",
         "x": [
          "2023-01-03T00:00:00",
          "2023-01-04T00:00:00",
          "2023-01-05T00:00:00",
          "2023-01-06T00:00:00",
          "2023-01-09T00:00:00",
          "2023-01-10T00:00:00",
          "2023-01-11T00:00:00",
          "2023-01-12T00:00:00",
          "2023-01-13T00:00:00",
          "2023-01-17T00:00:00",
          "2023-01-18T00:00:00",
          "2023-01-19T00:00:00",
          "2023-01-20T00:00:00",
          "2023-01-23T00:00:00",
          "2023-01-24T00:00:00",
          "2023-01-25T00:00:00",
          "2023-01-26T00:00:00",
          "2023-01-27T00:00:00",
          "2023-01-30T00:00:00",
          "2023-01-31T00:00:00",
          "2023-02-01T00:00:00",
          "2023-02-02T00:00:00",
          "2023-02-03T00:00:00",
          "2023-02-06T00:00:00",
          "2023-02-07T00:00:00",
          "2023-02-08T00:00:00",
          "2023-02-09T00:00:00",
          "2023-02-10T00:00:00",
          "2023-02-13T00:00:00",
          "2023-02-14T00:00:00",
          "2023-02-15T00:00:00",
          "2023-02-16T00:00:00",
          "2023-02-17T00:00:00",
          "2023-02-21T00:00:00",
          "2023-02-22T00:00:00",
          "2023-02-23T00:00:00",
          "2023-02-24T00:00:00",
          "2023-02-27T00:00:00",
          "2023-02-28T00:00:00",
          "2023-03-01T00:00:00",
          "2023-03-02T00:00:00",
          "2023-03-03T00:00:00",
          "2023-03-06T00:00:00",
          "2023-03-07T00:00:00",
          "2023-03-08T00:00:00",
          "2023-03-09T00:00:00",
          "2023-03-10T00:00:00",
          "2023-03-13T00:00:00",
          "2023-03-14T00:00:00",
          "2023-03-15T00:00:00",
          "2023-03-16T00:00:00",
          "2023-03-17T00:00:00",
          "2023-03-20T00:00:00",
          "2023-03-21T00:00:00",
          "2023-03-22T00:00:00",
          "2023-03-23T00:00:00",
          "2023-03-24T00:00:00",
          "2023-03-27T00:00:00",
          "2023-03-28T00:00:00",
          "2023-03-29T00:00:00",
          "2023-03-30T00:00:00",
          "2023-03-31T00:00:00",
          "2023-04-03T00:00:00",
          "2023-04-04T00:00:00",
          "2023-04-05T00:00:00",
          "2023-04-06T00:00:00",
          "2023-04-11T00:00:00",
          "2023-04-12T00:00:00",
          "2023-04-13T00:00:00",
          "2023-04-14T00:00:00",
          "2023-04-17T00:00:00",
          "2023-04-18T00:00:00",
          "2023-04-19T00:00:00",
          "2023-04-20T00:00:00",
          "2023-04-21T00:00:00",
          "2023-04-24T00:00:00",
          "2023-04-25T00:00:00",
          "2023-04-26T00:00:00",
          "2023-04-27T00:00:00",
          "2023-04-28T00:00:00"
         ],
         "y": [
          1,
          1.0054250378481449,
          0.991496171779378,
          1.009128347405839,
          1.0071161305900234,
          1.013341268354086,
          1.0227641249930153,
          1.025738428317104,
          1.0320948581647134,
          1.0319566781942102,
          1.0209601129379902,
          1.0170308877253065,
          1.031659281811486,
          1.0436107908286467,
          1.0369268520840946,
          1.036954374151803,
          1.0438990816587534,
          1.0436748891642178,
          1.0310102874714158,
          1.043609727642451,
          1.0543062166781112,
          1.0678632671343204,
          1.0576084264052519,
          1.048811605751166,
          1.0617021820591939,
          1.0527883224831944,
          1.0456198504189076,
          1.044216795548703,
          1.055764757885505,
          1.055880584318689,
          1.055890382178597,
          1.0424313302918715,
          1.0420179191835959,
          1.025078660420313,
          1.0231525483727708,
          1.0292822513866562,
          1.0145823385338792,
          1.0156762135328485,
          1.0110467879658647,
          1.0070762259217256,
          1.0138806499090982,
          1.030043506967558,
          1.030414109140414,
          1.0157253511839515,
          1.0168873823141078,
          1.0051577882146139,
          0.9937077892613484,
          0.9979242782548614,
          1.0133655209815955,
          1.0088992849859808,
          1.0276056314808384,
          1.020026069629836,
          1.0282836218945242,
          1.0397259503112448,
          1.0274970647644885,
          1.033520953173698,
          1.0384159927031413,
          1.0412119260969646,
          1.0358228140521402,
          1.0464073299913486,
          1.0547456026233786,
          1.0671754189495188,
          1.0727405853088776,
          1.0712652375812322,
          1.0741816524139896,
          1.079868923520724,
          1.0786389340614637,
          1.077121271903606,
          1.0943026870140566,
          1.0895470970021388,
          1.0897698440199144,
          1.0877244972571436,
          1.0858532030137888,
          1.0822800795597247,
          1.0886768629342043,
          1.0895260434429324,
          1.074050435457196,
          1.0688757465761458,
          1.0819416240292383,
          1.0877312634197411
         ]
        }
       ],
       "layout": {
        "template": {
         "data": {
          "bar": [
           {
            "error_x": {
             "color": "#2a3f5f"
            },
            "error_y": {
             "color": "#2a3f5f"
            },
            "marker": {
             "line": {
              "color": "#E5ECF6",
              "width": 0.5
             },
             "pattern": {
              "fillmode": "overlay",
              "size": 10,
              "solidity": 0.2
             }
            },
            "type": "bar"
           }
          ],
          "barpolar": [
           {
            "marker": {
             "line": {
              "color": "#E5ECF6",
              "width": 0.5
             },
             "pattern": {
              "fillmode": "overlay",
              "size": 10,
              "solidity": 0.2
             }
            },
            "type": "barpolar"
           }
          ],
          "carpet": [
           {
            "aaxis": {
             "endlinecolor": "#2a3f5f",
             "gridcolor": "white",
             "linecolor": "white",
             "minorgridcolor": "white",
             "startlinecolor": "#2a3f5f"
            },
            "baxis": {
             "endlinecolor": "#2a3f5f",
             "gridcolor": "white",
             "linecolor": "white",
             "minorgridcolor": "white",
             "startlinecolor": "#2a3f5f"
            },
            "type": "carpet"
           }
          ],
          "choropleth": [
           {
            "colorbar": {
             "outlinewidth": 0,
             "ticks": ""
            },
            "type": "choropleth"
           }
          ],
          "contour": [
           {
            "colorbar": {
             "outlinewidth": 0,
             "ticks": ""
            },
            "colorscale": [
             [
              0,
              "#0d0887"
             ],
             [
              0.1111111111111111,
              "#46039f"
             ],
             [
              0.2222222222222222,
              "#7201a8"
             ],
             [
              0.3333333333333333,
              "#9c179e"
             ],
             [
              0.4444444444444444,
              "#bd3786"
             ],
             [
              0.5555555555555556,
              "#d8576b"
             ],
             [
              0.6666666666666666,
              "#ed7953"
             ],
             [
              0.7777777777777778,
              "#fb9f3a"
             ],
             [
              0.8888888888888888,
              "#fdca26"
             ],
             [
              1,
              "#f0f921"
             ]
            ],
            "type": "contour"
           }
          ],
          "contourcarpet": [
           {
            "colorbar": {
             "outlinewidth": 0,
             "ticks": ""
            },
            "type": "contourcarpet"
           }
          ],
          "heatmap": [
           {
            "colorbar": {
             "outlinewidth": 0,
             "ticks": ""
            },
            "colorscale": [
             [
              0,
              "#0d0887"
             ],
             [
              0.1111111111111111,
              "#46039f"
             ],
             [
              0.2222222222222222,
              "#7201a8"
             ],
             [
              0.3333333333333333,
              "#9c179e"
             ],
             [
              0.4444444444444444,
              "#bd3786"
             ],
             [
              0.5555555555555556,
              "#d8576b"
             ],
             [
              0.6666666666666666,
              "#ed7953"
             ],
             [
              0.7777777777777778,
              "#fb9f3a"
             ],
             [
              0.8888888888888888,
              "#fdca26"
             ],
             [
              1,
              "#f0f921"
             ]
            ],
            "type": "heatmap"
           }
          ],
          "heatmapgl": [
           {
            "colorbar": {
             "outlinewidth": 0,
             "ticks": ""
            },
            "colorscale": [
             [
              0,
              "#0d0887"
             ],
             [
              0.1111111111111111,
              "#46039f"
             ],
             [
              0.2222222222222222,
              "#7201a8"
             ],
             [
              0.3333333333333333,
              "#9c179e"
             ],
             [
              0.4444444444444444,
              "#bd3786"
             ],
             [
              0.5555555555555556,
              "#d8576b"
             ],
             [
              0.6666666666666666,
              "#ed7953"
             ],
             [
              0.7777777777777778,
              "#fb9f3a"
             ],
             [
              0.8888888888888888,
              "#fdca26"
             ],
             [
              1,
              "#f0f921"
             ]
            ],
            "type": "heatmapgl"
           }
          ],
          "histogram": [
           {
            "marker": {
             "pattern": {
              "fillmode": "overlay",
              "size": 10,
              "solidity": 0.2
             }
            },
            "type": "histogram"
           }
          ],
          "histogram2d": [
           {
            "colorbar": {
             "outlinewidth": 0,
             "ticks": ""
            },
            "colorscale": [
             [
              0,
              "#0d0887"
             ],
             [
              0.1111111111111111,
              "#46039f"
             ],
             [
              0.2222222222222222,
              "#7201a8"
             ],
             [
              0.3333333333333333,
              "#9c179e"
             ],
             [
              0.4444444444444444,
              "#bd3786"
             ],
             [
              0.5555555555555556,
              "#d8576b"
             ],
             [
              0.6666666666666666,
              "#ed7953"
             ],
             [
              0.7777777777777778,
              "#fb9f3a"
             ],
             [
              0.8888888888888888,
              "#fdca26"
             ],
             [
              1,
              "#f0f921"
             ]
            ],
            "type": "histogram2d"
           }
          ],
          "histogram2dcontour": [
           {
            "colorbar": {
             "outlinewidth": 0,
             "ticks": ""
            },
            "colorscale": [
             [
              0,
              "#0d0887"
             ],
             [
              0.1111111111111111,
              "#46039f"
             ],
             [
              0.2222222222222222,
              "#7201a8"
             ],
             [
              0.3333333333333333,
              "#9c179e"
             ],
             [
              0.4444444444444444,
              "#bd3786"
             ],
             [
              0.5555555555555556,
              "#d8576b"
             ],
             [
              0.6666666666666666,
              "#ed7953"
             ],
             [
              0.7777777777777778,
              "#fb9f3a"
             ],
             [
              0.8888888888888888,
              "#fdca26"
             ],
             [
              1,
              "#f0f921"
             ]
            ],
            "type": "histogram2dcontour"
           }
          ],
          "mesh3d": [
           {
            "colorbar": {
             "outlinewidth": 0,
             "ticks": ""
            },
            "type": "mesh3d"
           }
          ],
          "parcoords": [
           {
            "line": {
             "colorbar": {
              "outlinewidth": 0,
              "ticks": ""
             }
            },
            "type": "parcoords"
           }
          ],
          "pie": [
           {
            "automargin": true,
            "type": "pie"
           }
          ],
          "scatter": [
           {
            "fillpattern": {
             "fillmode": "overlay",
             "size": 10,
             "solidity": 0.2
            },
            "type": "scatter"
           }
          ],
          "scatter3d": [
           {
            "line": {
             "colorbar": {
              "outlinewidth": 0,
              "ticks": ""
             }
            },
            "marker": {
             "colorbar": {
              "outlinewidth": 0,
              "ticks": ""
             }
            },
            "type": "scatter3d"
           }
          ],
          "scattercarpet": [
           {
            "marker": {
             "colorbar": {
              "outlinewidth": 0,
              "ticks": ""
             }
            },
            "type": "scattercarpet"
           }
          ],
          "scattergeo": [
           {
            "marker": {
             "colorbar": {
              "outlinewidth": 0,
              "ticks": ""
             }
            },
            "type": "scattergeo"
           }
          ],
          "scattergl": [
           {
            "marker": {
             "colorbar": {
              "outlinewidth": 0,
              "ticks": ""
             }
            },
            "type": "scattergl"
           }
          ],
          "scattermapbox": [
           {
            "marker": {
             "colorbar": {
              "outlinewidth": 0,
              "ticks": ""
             }
            },
            "type": "scattermapbox"
           }
          ],
          "scatterpolar": [
           {
            "marker": {
             "colorbar": {
              "outlinewidth": 0,
              "ticks": ""
             }
            },
            "type": "scatterpolar"
           }
          ],
          "scatterpolargl": [
           {
            "marker": {
             "colorbar": {
              "outlinewidth": 0,
              "ticks": ""
             }
            },
            "type": "scatterpolargl"
           }
          ],
          "scatterternary": [
           {
            "marker": {
             "colorbar": {
              "outlinewidth": 0,
              "ticks": ""
             }
            },
            "type": "scatterternary"
           }
          ],
          "surface": [
           {
            "colorbar": {
             "outlinewidth": 0,
             "ticks": ""
            },
            "colorscale": [
             [
              0,
              "#0d0887"
             ],
             [
              0.1111111111111111,
              "#46039f"
             ],
             [
              0.2222222222222222,
              "#7201a8"
             ],
             [
              0.3333333333333333,
              "#9c179e"
             ],
             [
              0.4444444444444444,
              "#bd3786"
             ],
             [
              0.5555555555555556,
              "#d8576b"
             ],
             [
              0.6666666666666666,
              "#ed7953"
             ],
             [
              0.7777777777777778,
              "#fb9f3a"
             ],
             [
              0.8888888888888888,
              "#fdca26"
             ],
             [
              1,
              "#f0f921"
             ]
            ],
            "type": "surface"
           }
          ],
          "table": [
           {
            "cells": {
             "fill": {
              "color": "#EBF0F8"
             },
             "line": {
              "color": "white"
             }
            },
            "header": {
             "fill": {
              "color": "#C8D4E3"
             },
             "line": {
              "color": "white"
             }
            },
            "type": "table"
           }
          ]
         },
         "layout": {
          "annotationdefaults": {
           "arrowcolor": "#2a3f5f",
           "arrowhead": 0,
           "arrowwidth": 1
          },
          "autotypenumbers": "strict",
          "coloraxis": {
           "colorbar": {
            "outlinewidth": 0,
            "ticks": ""
           }
          },
          "colorscale": {
           "diverging": [
            [
             0,
             "#8e0152"
            ],
            [
             0.1,
             "#c51b7d"
            ],
            [
             0.2,
             "#de77ae"
            ],
            [
             0.3,
             "#f1b6da"
            ],
            [
             0.4,
             "#fde0ef"
            ],
            [
             0.5,
             "#f7f7f7"
            ],
            [
             0.6,
             "#e6f5d0"
            ],
            [
             0.7,
             "#b8e186"
            ],
            [
             0.8,
             "#7fbc41"
            ],
            [
             0.9,
             "#4d9221"
            ],
            [
             1,
             "#276419"
            ]
           ],
           "sequential": [
            [
             0,
             "#0d0887"
            ],
            [
             0.1111111111111111,
             "#46039f"
            ],
            [
             0.2222222222222222,
             "#7201a8"
            ],
            [
             0.3333333333333333,
             "#9c179e"
            ],
            [
             0.4444444444444444,
             "#bd3786"
            ],
            [
             0.5555555555555556,
             "#d8576b"
            ],
            [
             0.6666666666666666,
             "#ed7953"
            ],
            [
             0.7777777777777778,
             "#fb9f3a"
            ],
            [
             0.8888888888888888,
             "#fdca26"
            ],
            [
             1,
             "#f0f921"
            ]
           ],
           "sequentialminus": [
            [
             0,
             "#0d0887"
            ],
            [
             0.1111111111111111,
             "#46039f"
            ],
            [
             0.2222222222222222,
             "#7201a8"
            ],
            [
             0.3333333333333333,
             "#9c179e"
            ],
            [
             0.4444444444444444,
             "#bd3786"
            ],
            [
             0.5555555555555556,
             "#d8576b"
            ],
            [
             0.6666666666666666,
             "#ed7953"
            ],
            [
             0.7777777777777778,
             "#fb9f3a"
            ],
            [
             0.8888888888888888,
             "#fdca26"
            ],
            [
             1,
             "#f0f921"
            ]
           ]
          },
          "colorway": [
           "#636efa",
           "#EF553B",
           "#00cc96",
           "#ab63fa",
           "#FFA15A",
           "#19d3f3",
           "#FF6692",
           "#B6E880",
           "#FF97FF",
           "#FECB52"
          ],
          "font": {
           "color": "#2a3f5f"
          },
          "geo": {
           "bgcolor": "white",
           "lakecolor": "white",
           "landcolor": "#E5ECF6",
           "showlakes": true,
           "showland": true,
           "subunitcolor": "white"
          },
          "hoverlabel": {
           "align": "left"
          },
          "hovermode": "closest",
          "mapbox": {
           "style": "light"
          },
          "paper_bgcolor": "white",
          "plot_bgcolor": "#E5ECF6",
          "polar": {
           "angularaxis": {
            "gridcolor": "white",
            "linecolor": "white",
            "ticks": ""
           },
           "bgcolor": "#E5ECF6",
           "radialaxis": {
            "gridcolor": "white",
            "linecolor": "white",
            "ticks": ""
           }
          },
          "scene": {
           "xaxis": {
            "backgroundcolor": "#E5ECF6",
            "gridcolor": "white",
            "gridwidth": 2,
            "linecolor": "white",
            "showbackground": true,
            "ticks": "",
            "zerolinecolor": "white"
           },
           "yaxis": {
            "backgroundcolor": "#E5ECF6",
            "gridcolor": "white",
            "gridwidth": 2,
            "linecolor": "white",
            "showbackground": true,
            "ticks": "",
            "zerolinecolor": "white"
           },
           "zaxis": {
            "backgroundcolor": "#E5ECF6",
            "gridcolor": "white",
            "gridwidth": 2,
            "linecolor": "white",
            "showbackground": true,
            "ticks": "",
            "zerolinecolor": "white"
           }
          },
          "shapedefaults": {
           "line": {
            "color": "#2a3f5f"
           }
          },
          "ternary": {
           "aaxis": {
            "gridcolor": "white",
            "linecolor": "white",
            "ticks": ""
           },
           "baxis": {
            "gridcolor": "white",
            "linecolor": "white",
            "ticks": ""
           },
           "bgcolor": "#E5ECF6",
           "caxis": {
            "gridcolor": "white",
            "linecolor": "white",
            "ticks": ""
           }
          },
          "title": {
           "x": 0.05
          },
          "xaxis": {
           "automargin": true,
           "gridcolor": "white",
           "linecolor": "white",
           "ticks": "",
           "title": {
            "standoff": 15
           },
           "zerolinecolor": "white",
           "zerolinewidth": 2
          },
          "yaxis": {
           "automargin": true,
           "gridcolor": "white",
           "linecolor": "white",
           "ticks": "",
           "title": {
            "standoff": 15
           },
           "zerolinecolor": "white",
           "zerolinewidth": 2
          }
         }
        },
        "title": {
         "text": "2023 Portfolio Performance"
        },
        "xaxis": {
         "title": {
          "text": "Date"
         }
        },
        "yaxis": {
         "title": {
          "text": "Portfolio Value"
         }
        }
       }
      }
     },
     "metadata": {},
     "output_type": "display_data"
    }
   ],
   "source": [
    "# plot cumulative return\n",
    "fig = go.Figure()\n",
    "for col in df2023_cum.columns:\n",
    "    fig.add_trace(go.Scatter(x=df2023_cum.index, y=df2023_cum[col], mode='lines', name=col))\n",
    "fig.update_layout(title='2023 Portfolio Performance', xaxis_title='Date', yaxis_title='Portfolio Value')\n",
    "# fig.update_yaxes(tickformat=\".2%\")\n",
    "fig.show()"
   ]
  },
  {
   "cell_type": "code",
   "execution_count": 25,
   "metadata": {},
   "outputs": [
    {
     "data": {
      "text/html": [
       "<div>\n",
       "<style scoped>\n",
       "    .dataframe tbody tr th:only-of-type {\n",
       "        vertical-align: middle;\n",
       "    }\n",
       "\n",
       "    .dataframe tbody tr th {\n",
       "        vertical-align: top;\n",
       "    }\n",
       "\n",
       "    .dataframe thead th {\n",
       "        text-align: right;\n",
       "    }\n",
       "</style>\n",
       "<table border=\"1\" class=\"dataframe\">\n",
       "  <thead>\n",
       "    <tr style=\"text-align: right;\">\n",
       "      <th></th>\n",
       "      <th>Return (%)</th>\n",
       "      <th>Std (%)</th>\n",
       "    </tr>\n",
       "  </thead>\n",
       "  <tbody>\n",
       "    <tr>\n",
       "      <th>Fixed Income</th>\n",
       "      <td>1.40</td>\n",
       "      <td>0.22</td>\n",
       "    </tr>\n",
       "    <tr>\n",
       "      <th>Moderate</th>\n",
       "      <td>12.82</td>\n",
       "      <td>0.84</td>\n",
       "    </tr>\n",
       "    <tr>\n",
       "      <th>Balanced</th>\n",
       "      <td>8.27</td>\n",
       "      <td>0.65</td>\n",
       "    </tr>\n",
       "    <tr>\n",
       "      <th>Aggressive</th>\n",
       "      <td>7.99</td>\n",
       "      <td>0.65</td>\n",
       "    </tr>\n",
       "    <tr>\n",
       "      <th>Equity</th>\n",
       "      <td>8.77</td>\n",
       "      <td>0.87</td>\n",
       "    </tr>\n",
       "  </tbody>\n",
       "</table>\n",
       "</div>"
      ],
      "text/plain": [
       "              Return (%)  Std (%)\n",
       "Fixed Income        1.40     0.22\n",
       "Moderate           12.82     0.84\n",
       "Balanced            8.27     0.65\n",
       "Aggressive          7.99     0.65\n",
       "Equity              8.77     0.87"
      ]
     },
     "execution_count": 25,
     "metadata": {},
     "output_type": "execute_result"
    }
   ],
   "source": [
    "# df2023_cum.iloc[-1] and df2023_pct to dataframe\n",
    "df_port_perf = pd.concat([df2023_cum.iloc[-1], df2023_pct.std()], axis=1)\n",
    "df_port_perf.columns = ['Return (%)', 'Std (%)']\n",
    "df_port_perf = df_port_perf.round(4)\n",
    "df_port_perf['Return (%)'] = ((df_port_perf['Return (%)']-1)*100).round(2)\n",
    "df_port_perf['Std (%)'] = (df_port_perf['Std (%)']*100)\n",
    "df_port_perf"
   ]
  },
  {
   "cell_type": "code",
   "execution_count": 26,
   "metadata": {},
   "outputs": [
    {
     "data": {
      "text/html": [
       "<div>\n",
       "<style scoped>\n",
       "    .dataframe tbody tr th:only-of-type {\n",
       "        vertical-align: middle;\n",
       "    }\n",
       "\n",
       "    .dataframe tbody tr th {\n",
       "        vertical-align: top;\n",
       "    }\n",
       "\n",
       "    .dataframe thead th {\n",
       "        text-align: right;\n",
       "    }\n",
       "</style>\n",
       "<table border=\"1\" class=\"dataframe\">\n",
       "  <thead>\n",
       "    <tr style=\"text-align: right;\">\n",
       "      <th></th>\n",
       "      <th>ETF_Name</th>\n",
       "      <th>Asset_Class</th>\n",
       "      <th>FI_Weight</th>\n",
       "      <th>Mod_Weight</th>\n",
       "      <th>Bal_Weight</th>\n",
       "      <th>Agg_Weight</th>\n",
       "      <th>Eq_Weight</th>\n",
       "    </tr>\n",
       "  </thead>\n",
       "  <tbody>\n",
       "    <tr>\n",
       "      <th>JPST</th>\n",
       "      <td>JPMorgan Ultra-Short Income ETF</td>\n",
       "      <td>Cash/Equivalent</td>\n",
       "      <td>50.00</td>\n",
       "      <td>25.0</td>\n",
       "      <td>5.00</td>\n",
       "      <td>1.00</td>\n",
       "      <td>1.00</td>\n",
       "    </tr>\n",
       "    <tr>\n",
       "      <th>BND</th>\n",
       "      <td>Vanguard Total Bond Market ETF</td>\n",
       "      <td>Fixed Income</td>\n",
       "      <td>2.63</td>\n",
       "      <td>23.0</td>\n",
       "      <td>3.00</td>\n",
       "      <td>1.00</td>\n",
       "      <td>NaN</td>\n",
       "    </tr>\n",
       "    <tr>\n",
       "      <th>BNDX</th>\n",
       "      <td>Vanguard Total International Bond ETF</td>\n",
       "      <td>Fixed Income</td>\n",
       "      <td>46.09</td>\n",
       "      <td>1.0</td>\n",
       "      <td>1.00</td>\n",
       "      <td>1.00</td>\n",
       "      <td>NaN</td>\n",
       "    </tr>\n",
       "    <tr>\n",
       "      <th>JNK</th>\n",
       "      <td>SPDR Bloomberg Barclays High Yield Bond ETF</td>\n",
       "      <td>Fixed Income</td>\n",
       "      <td>1.28</td>\n",
       "      <td>1.0</td>\n",
       "      <td>1.00</td>\n",
       "      <td>1.00</td>\n",
       "      <td>NaN</td>\n",
       "    </tr>\n",
       "    <tr>\n",
       "      <th>HEWJ</th>\n",
       "      <td>iShares Currency Hedged MSCI Japan ETF</td>\n",
       "      <td>Equity</td>\n",
       "      <td>NaN</td>\n",
       "      <td>1.0</td>\n",
       "      <td>1.00</td>\n",
       "      <td>1.00</td>\n",
       "      <td>1.00</td>\n",
       "    </tr>\n",
       "    <tr>\n",
       "      <th>IEMG</th>\n",
       "      <td>iShares Core MSCI Emerging Markets ETF</td>\n",
       "      <td>Equity</td>\n",
       "      <td>NaN</td>\n",
       "      <td>1.0</td>\n",
       "      <td>1.00</td>\n",
       "      <td>1.00</td>\n",
       "      <td>1.00</td>\n",
       "    </tr>\n",
       "    <tr>\n",
       "      <th>IGM</th>\n",
       "      <td>iShares Expanded Tech Sector ETF</td>\n",
       "      <td>Equity</td>\n",
       "      <td>NaN</td>\n",
       "      <td>23.0</td>\n",
       "      <td>8.04</td>\n",
       "      <td>7.09</td>\n",
       "      <td>12.28</td>\n",
       "    </tr>\n",
       "    <tr>\n",
       "      <th>IWQU.L</th>\n",
       "      <td>iShares Edge MSCI World Quality Factor UCITS ETF</td>\n",
       "      <td>Equity</td>\n",
       "      <td>NaN</td>\n",
       "      <td>1.0</td>\n",
       "      <td>4.70</td>\n",
       "      <td>7.31</td>\n",
       "      <td>12.53</td>\n",
       "    </tr>\n",
       "    <tr>\n",
       "      <th>IXJ</th>\n",
       "      <td>iShares Global Healthcare ETF</td>\n",
       "      <td>Equity</td>\n",
       "      <td>NaN</td>\n",
       "      <td>1.0</td>\n",
       "      <td>42.26</td>\n",
       "      <td>46.60</td>\n",
       "      <td>69.19</td>\n",
       "    </tr>\n",
       "    <tr>\n",
       "      <th>VGK</th>\n",
       "      <td>Vanguard FTSE Europe ETF</td>\n",
       "      <td>Equity</td>\n",
       "      <td>NaN</td>\n",
       "      <td>1.0</td>\n",
       "      <td>1.00</td>\n",
       "      <td>1.00</td>\n",
       "      <td>1.00</td>\n",
       "    </tr>\n",
       "    <tr>\n",
       "      <th>VOO</th>\n",
       "      <td>Vanguard S&amp;P 500 ETF</td>\n",
       "      <td>Equity</td>\n",
       "      <td>NaN</td>\n",
       "      <td>1.0</td>\n",
       "      <td>1.00</td>\n",
       "      <td>1.00</td>\n",
       "      <td>1.00</td>\n",
       "    </tr>\n",
       "    <tr>\n",
       "      <th>VT</th>\n",
       "      <td>Vanguard Total World Stock ETF</td>\n",
       "      <td>Equity</td>\n",
       "      <td>NaN</td>\n",
       "      <td>1.0</td>\n",
       "      <td>1.00</td>\n",
       "      <td>1.00</td>\n",
       "      <td>1.00</td>\n",
       "    </tr>\n",
       "    <tr>\n",
       "      <th>GLD</th>\n",
       "      <td>SPDR Gold Shares</td>\n",
       "      <td>Alternatives</td>\n",
       "      <td>NaN</td>\n",
       "      <td>17.0</td>\n",
       "      <td>27.00</td>\n",
       "      <td>27.00</td>\n",
       "      <td>NaN</td>\n",
       "    </tr>\n",
       "    <tr>\n",
       "      <th>IGF</th>\n",
       "      <td>iShares Global Infrastructure ETF</td>\n",
       "      <td>Alternatives</td>\n",
       "      <td>NaN</td>\n",
       "      <td>1.0</td>\n",
       "      <td>1.00</td>\n",
       "      <td>1.00</td>\n",
       "      <td>NaN</td>\n",
       "    </tr>\n",
       "    <tr>\n",
       "      <th>PDBC</th>\n",
       "      <td>Invesco Optimum Yield Diversified Commodity St...</td>\n",
       "      <td>Alternatives</td>\n",
       "      <td>NaN</td>\n",
       "      <td>1.0</td>\n",
       "      <td>1.00</td>\n",
       "      <td>1.00</td>\n",
       "      <td>NaN</td>\n",
       "    </tr>\n",
       "    <tr>\n",
       "      <th>REET</th>\n",
       "      <td>iShares Global REIT ETF</td>\n",
       "      <td>Alternatives</td>\n",
       "      <td>NaN</td>\n",
       "      <td>1.0</td>\n",
       "      <td>1.00</td>\n",
       "      <td>1.00</td>\n",
       "      <td>NaN</td>\n",
       "    </tr>\n",
       "  </tbody>\n",
       "</table>\n",
       "</div>"
      ],
      "text/plain": [
       "                                                 ETF_Name      Asset_Class  \\\n",
       "JPST                      JPMorgan Ultra-Short Income ETF  Cash/Equivalent   \n",
       "BND                        Vanguard Total Bond Market ETF     Fixed Income   \n",
       "BNDX                Vanguard Total International Bond ETF     Fixed Income   \n",
       "JNK           SPDR Bloomberg Barclays High Yield Bond ETF     Fixed Income   \n",
       "HEWJ               iShares Currency Hedged MSCI Japan ETF           Equity   \n",
       "IEMG               iShares Core MSCI Emerging Markets ETF           Equity   \n",
       "IGM                      iShares Expanded Tech Sector ETF           Equity   \n",
       "IWQU.L   iShares Edge MSCI World Quality Factor UCITS ETF           Equity   \n",
       "IXJ                         iShares Global Healthcare ETF           Equity   \n",
       "VGK                              Vanguard FTSE Europe ETF           Equity   \n",
       "VOO                                  Vanguard S&P 500 ETF           Equity   \n",
       "VT                         Vanguard Total World Stock ETF           Equity   \n",
       "GLD                                      SPDR Gold Shares     Alternatives   \n",
       "IGF                     iShares Global Infrastructure ETF     Alternatives   \n",
       "PDBC    Invesco Optimum Yield Diversified Commodity St...     Alternatives   \n",
       "REET                              iShares Global REIT ETF     Alternatives   \n",
       "\n",
       "        FI_Weight  Mod_Weight  Bal_Weight  Agg_Weight  Eq_Weight  \n",
       "JPST        50.00        25.0        5.00        1.00       1.00  \n",
       "BND          2.63        23.0        3.00        1.00        NaN  \n",
       "BNDX        46.09         1.0        1.00        1.00        NaN  \n",
       "JNK          1.28         1.0        1.00        1.00        NaN  \n",
       "HEWJ          NaN         1.0        1.00        1.00       1.00  \n",
       "IEMG          NaN         1.0        1.00        1.00       1.00  \n",
       "IGM           NaN        23.0        8.04        7.09      12.28  \n",
       "IWQU.L        NaN         1.0        4.70        7.31      12.53  \n",
       "IXJ           NaN         1.0       42.26       46.60      69.19  \n",
       "VGK           NaN         1.0        1.00        1.00       1.00  \n",
       "VOO           NaN         1.0        1.00        1.00       1.00  \n",
       "VT            NaN         1.0        1.00        1.00       1.00  \n",
       "GLD           NaN        17.0       27.00       27.00        NaN  \n",
       "IGF           NaN         1.0        1.00        1.00        NaN  \n",
       "PDBC          NaN         1.0        1.00        1.00        NaN  \n",
       "REET          NaN         1.0        1.00        1.00        NaN  "
      ]
     },
     "execution_count": 26,
     "metadata": {},
     "output_type": "execute_result"
    }
   ],
   "source": [
    "df_weights"
   ]
  },
  {
   "cell_type": "code",
   "execution_count": 27,
   "metadata": {},
   "outputs": [
    {
     "data": {
      "text/html": [
       "<div>\n",
       "<style scoped>\n",
       "    .dataframe tbody tr th:only-of-type {\n",
       "        vertical-align: middle;\n",
       "    }\n",
       "\n",
       "    .dataframe tbody tr th {\n",
       "        vertical-align: top;\n",
       "    }\n",
       "\n",
       "    .dataframe thead th {\n",
       "        text-align: right;\n",
       "    }\n",
       "</style>\n",
       "<table border=\"1\" class=\"dataframe\">\n",
       "  <thead>\n",
       "    <tr style=\"text-align: right;\">\n",
       "      <th></th>\n",
       "      <th>FI_Weight</th>\n",
       "      <th>Mod_Weight</th>\n",
       "      <th>Bal_Weight</th>\n",
       "      <th>Agg_Weight</th>\n",
       "      <th>Eq_Weight</th>\n",
       "    </tr>\n",
       "    <tr>\n",
       "      <th>Asset_Class</th>\n",
       "      <th></th>\n",
       "      <th></th>\n",
       "      <th></th>\n",
       "      <th></th>\n",
       "      <th></th>\n",
       "    </tr>\n",
       "  </thead>\n",
       "  <tbody>\n",
       "    <tr>\n",
       "      <th>Cash/Equivalent</th>\n",
       "      <td>50.0</td>\n",
       "      <td>25.0</td>\n",
       "      <td>5.0</td>\n",
       "      <td>1.0</td>\n",
       "      <td>1.0</td>\n",
       "    </tr>\n",
       "    <tr>\n",
       "      <th>Fixed Income</th>\n",
       "      <td>50.0</td>\n",
       "      <td>25.0</td>\n",
       "      <td>5.0</td>\n",
       "      <td>3.0</td>\n",
       "      <td>0.0</td>\n",
       "    </tr>\n",
       "    <tr>\n",
       "      <th>Equity</th>\n",
       "      <td>0.0</td>\n",
       "      <td>30.0</td>\n",
       "      <td>60.0</td>\n",
       "      <td>66.0</td>\n",
       "      <td>99.0</td>\n",
       "    </tr>\n",
       "    <tr>\n",
       "      <th>Alternatives</th>\n",
       "      <td>0.0</td>\n",
       "      <td>20.0</td>\n",
       "      <td>30.0</td>\n",
       "      <td>30.0</td>\n",
       "      <td>0.0</td>\n",
       "    </tr>\n",
       "  </tbody>\n",
       "</table>\n",
       "</div>"
      ],
      "text/plain": [
       "                 FI_Weight  Mod_Weight  Bal_Weight  Agg_Weight  Eq_Weight\n",
       "Asset_Class                                                              \n",
       "Cash/Equivalent       50.0        25.0         5.0         1.0        1.0\n",
       "Fixed Income          50.0        25.0         5.0         3.0        0.0\n",
       "Equity                 0.0        30.0        60.0        66.0       99.0\n",
       "Alternatives           0.0        20.0        30.0        30.0        0.0"
      ]
     },
     "execution_count": 27,
     "metadata": {},
     "output_type": "execute_result"
    }
   ],
   "source": [
    "df_weights.replace('-', np.nan, inplace=True)\n",
    "# df_weights group by asset class\n",
    "df_weights_asset = df_weights.groupby('Asset_Class').sum()\n",
    "df_weights_asset"
   ]
  }
 ],
 "metadata": {
  "kernelspec": {
   "display_name": "base",
   "language": "python",
   "name": "python3"
  },
  "language_info": {
   "codemirror_mode": {
    "name": "ipython",
    "version": 3
   },
   "file_extension": ".py",
   "mimetype": "text/x-python",
   "name": "python",
   "nbconvert_exporter": "python",
   "pygments_lexer": "ipython3",
   "version": "3.10.9"
  },
  "orig_nbformat": 4
 },
 "nbformat": 4,
 "nbformat_minor": 2
}
